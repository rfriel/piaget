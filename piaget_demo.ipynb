{
 "cells": [
  {
   "cell_type": "code",
   "execution_count": 1,
   "metadata": {
    "collapsed": true
   },
   "outputs": [],
   "source": [
    "import gym\n",
    "import numpy as np\n",
    "\n",
    "import cv2\n",
    "\n",
    "import matplotlib.pyplot as plt\n",
    "import matplotlib.patches as patches\n",
    "%matplotlib inline"
   ]
  },
  {
   "cell_type": "code",
   "execution_count": 2,
   "metadata": {
    "collapsed": true
   },
   "outputs": [],
   "source": [
    "from piaget import Point, Mover, MoverTracker, FramePair, Box, Prototyper\n",
    "from piaget import init_env, play, box_colors"
   ]
  },
  {
   "cell_type": "markdown",
   "metadata": {},
   "source": [
    "Let's play a few frames of Breakout.\n",
    "\n",
    "First, we make the environment:"
   ]
  },
  {
   "cell_type": "code",
   "execution_count": 3,
   "metadata": {},
   "outputs": [
    {
     "name": "stderr",
     "output_type": "stream",
     "text": [
      "[2017-07-17 14:05:57,872] Making new env: BreakoutNoFrameskip-v3\n"
     ]
    }
   ],
   "source": [
    "random_seed = 3\n",
    "np.random.seed(random_seed)\n",
    "env = gym.make('BreakoutNoFrameskip-v3'); num_wait_steps=1;"
   ]
  },
  {
   "cell_type": "markdown",
   "metadata": {},
   "source": [
    "Now we play.  The play() function will return a MoverTracker object, which will also be pickled and placed in the mt_dir directory."
   ]
  },
  {
   "cell_type": "code",
   "execution_count": 4,
   "metadata": {},
   "outputs": [
    {
     "name": "stderr",
     "output_type": "stream",
     "text": [
      "piaget.py:513: RuntimeWarning: Degrees of freedom <= 0 for slice\n",
      "  var_crop = ((f1_crop + gt_crop).flatten()**2).var()\n"
     ]
    }
   ],
   "source": [
    "num_steps = 5\n",
    "img_dir = 'img/'\n",
    "mt_dir = 'mt/'\n",
    "\n",
    "# note: the function of the breakout=True kwarg is to let Piaget assume a few things \n",
    "# specific to Breakout's Atari/gym implementation, namely that you have to perform \n",
    "# action \"1\" to request a new ball when there is no ball on the screen, and that\n",
    "# (unlike in some games) there is no waiting period before the game starts\n",
    "\n",
    "# I mention this to clarify that I'm not giving Piaget info about Breakout's *dynamics*\n",
    "# or *appearance*\n",
    "\n",
    "mt = play(num_steps, env, img_dir, mt_dir, num_wait_steps, breakout=True)"
   ]
  },
  {
   "cell_type": "markdown",
   "metadata": {},
   "source": [
    "Here's what Piaget saw, and the movers (i.e. objects) it identified.  The numbers are mover IDs, which identify persistent objects across multiple frames."
   ]
  },
  {
   "cell_type": "code",
   "execution_count": 5,
   "metadata": {
    "scrolled": false
   },
   "outputs": [
    {
     "name": "stdout",
     "output_type": "stream",
     "text": [
      "\n",
      " Frame: 0\n"
     ]
    },
    {
     "data": {
      "image/png": "[encoded data removed]",
      "text/plain": [
       "<matplotlib.figure.Figure at 0x1137544d0>"
      ]
     },
     "metadata": {},
     "output_type": "display_data"
    },
    {
     "name": "stdout",
     "output_type": "stream",
     "text": [
      "\n",
      " Frame: 1\n"
     ]
    },
    {
     "data": {
      "image/png": "[encoded data removed]",
      "text/plain": [
       "<matplotlib.figure.Figure at 0x1038a52d0>"
      ]
     },
     "metadata": {},
     "output_type": "display_data"
    },
    {
     "name": "stdout",
     "output_type": "stream",
     "text": [
      "\n",
      " Frame: 2\n"
     ]
    },
    {
     "data": {
      "image/png": "[encoded data removed]",
      "text/plain": [
       "<matplotlib.figure.Figure at 0x113607b10>"
      ]
     },
     "metadata": {},
     "output_type": "display_data"
    },
    {
     "name": "stdout",
     "output_type": "stream",
     "text": [
      "\n",
      " Frame: 3\n"
     ]
    },
    {
     "data": {
      "image/png": "[encoded data removed]",
      "text/plain": [
       "<matplotlib.figure.Figure at 0x104341dd0>"
      ]
     },
     "metadata": {},
     "output_type": "display_data"
    },
    {
     "name": "stdout",
     "output_type": "stream",
     "text": [
      "\n",
      " Frame: 4\n"
     ]
    },
    {
     "data": {
      "image/png": "[encoded data removed]",
      "text/plain": [
       "<matplotlib.figure.Figure at 0x1070e7b90>"
      ]
     },
     "metadata": {},
     "output_type": "display_data"
    },
    {
     "name": "stdout",
     "output_type": "stream",
     "text": [
      "\n",
      " Frame: 5\n"
     ]
    },
    {
     "data": {
      "image/png": "[encoded data removed]",
      "text/plain": [
       "<matplotlib.figure.Figure at 0x104341210>"
      ]
     },
     "metadata": {},
     "output_type": "display_data"
    }
   ],
   "source": [
    "fp = mt.frame_pairs\n",
    "\n",
    "for i in range(mt.cur_frame):\n",
    "    print '\\n Frame: ' + str(i)\n",
    "    #print 'Action: ' + str(mt.action_hist[i]) + '\\n'\n",
    "    fig = plt.figure(figsize=(12,5))\n",
    "\n",
    "    movers_cur_frame = []\n",
    "    for m in mt.movers:\n",
    "        cur_frame_pos = filter(lambda p: p[0]==i, m.trajectory)\n",
    "        if len(cur_frame_pos) > 0:\n",
    "            movers_cur_frame.append((m.id, cur_frame_pos[0][1]))\n",
    "        \n",
    "    ax = plt.gca()\n",
    "    plt.axis('off')\n",
    "    if i == 0:\n",
    "        plt.imshow(fp[i].s0)\n",
    "    else:\n",
    "        plt.imshow(fp[i-1].s1)\n",
    "    for data in movers_cur_frame:\n",
    "        m_id = data[0]\n",
    "        box = data[1]\n",
    "        ax.add_patch(patches.Rectangle((box.ll.x-1, box.ll.y-1),\n",
    "                                    box.width+1, box.height+1,\n",
    "                                    color=box_colors[(m_id+1) % len(box_colors)],\n",
    "                                    fill=False)\n",
    "            )\n",
    "        plt.text(box.ur.x+3, box.ur.y+3, str(m_id),color='w')\n",
    "    plt.show()"
   ]
  },
  {
   "cell_type": "markdown",
   "metadata": {},
   "source": [
    "## Finding movers"
   ]
  },
  {
   "cell_type": "markdown",
   "metadata": {},
   "source": [
    "Let's look at how it did this.  We start by subtracting one frame from the next.  Shown below are two successive frames from the above output, along with their difference."
   ]
  },
  {
   "cell_type": "code",
   "execution_count": 6,
   "metadata": {},
   "outputs": [
    {
     "data": {
      "image/png": "[encoded data removed]",
      "text/plain": [
       "<matplotlib.figure.Figure at 0x113a095d0>"
      ]
     },
     "metadata": {},
     "output_type": "display_data"
    }
   ],
   "source": [
    "example_fp = fp[1]\n",
    "\n",
    "plt.figure(figsize=(14,8))\n",
    "plt.subplot(131)\n",
    "plt.imshow(example_fp.s0)\n",
    "plt.title('Frame 0')\n",
    "plt.subplot(132)\n",
    "plt.imshow(example_fp.s1)\n",
    "plt.title('Frame 1');\n",
    "plt.subplot(133)\n",
    "plt.imshow(example_fp.s1-example_fp.s0)\n",
    "plt.title('Difference');"
   ]
  },
  {
   "cell_type": "markdown",
   "metadata": {},
   "source": [
    "Now we use OpenCV to do some processing to the frame difference."
   ]
  },
  {
   "cell_type": "code",
   "execution_count": 7,
   "metadata": {},
   "outputs": [
    {
     "data": {
      "image/png": "[encoded data removed]",
      "text/plain": [
       "<matplotlib.figure.Figure at 0x11383f250>"
      ]
     },
     "metadata": {},
     "output_type": "display_data"
    }
   ],
   "source": [
    "finder = example_fp.finder\n",
    "\n",
    "# the next four lines are done internally by the 'finder' object we just got\n",
    "# but not stored as attributes, so I'm re-doing them in the cell\n",
    "frame_diff = example_fp.s1 - example_fp.s0\n",
    "fd_grey = cv2.cvtColor(frame_diff, cv2.COLOR_BGR2GRAY)\n",
    "thresh = cv2.threshold(fd_grey,1,255,cv2.THRESH_BINARY)[1]\n",
    "thresh_dilated = cv2.dilate(thresh,None,iterations=1)\n",
    "\n",
    "plt.figure(figsize=(14,9))\n",
    "plt.subplot(131)\n",
    "plt.imshow(fd_grey,cmap='gray')\n",
    "plt.title('Convert to grayscale')\n",
    "plt.subplot(132)\n",
    "plt.imshow(thresh_dilated,cmap='gray')\n",
    "plt.title('Threshold and dilate')\n",
    "plt.subplot(133)\n",
    "plt.imshow(thresh_dilated,cmap='gray');\n",
    "plt.title('Get contours and bounding boxes')\n",
    "ax = plt.gca()\n",
    "for cnt in finder.cnts:\n",
    "    (x, y, w, h) = cv2.boundingRect(cnt)\n",
    "    ax.add_patch(patches.Rectangle((x-1, y-1),\n",
    "                                w+1, h+1,\n",
    "                                color='r',\n",
    "                                   lw=2,\n",
    "                                fill=False)\n",
    "        )\n",
    "plt.show()"
   ]
  },
  {
   "cell_type": "markdown",
   "metadata": {},
   "source": [
    "Hmm . . . subtracting the two frames removed the middle of the paddle at the bottom, so we only see the edges, and they look like two distinct objects.  To handle this, we form all possible *unions* of the bounding boxes."
   ]
  },
  {
   "cell_type": "code",
   "execution_count": 8,
   "metadata": {},
   "outputs": [
    {
     "data": {
      "image/png": "[encoded data removed]",
      "text/plain": [
       "<matplotlib.figure.Figure at 0x1140ee650>"
      ]
     },
     "metadata": {},
     "output_type": "display_data"
    }
   ],
   "source": [
    "plt.figure(figsize=(14,9))\n",
    "\n",
    "plt.subplot(131)\n",
    "plt.imshow(finder.thresh_dilated,cmap='gray')\n",
    "ax = plt.gca()\n",
    "for i, box in enumerate(finder.cnts_joined):\n",
    "    (x, y, w, h) = (box.ll.x, box.ll.y, box.width, box.height)\n",
    "    ax.add_patch(patches.Rectangle((x-1, y-1),\n",
    "                                w, h,\n",
    "                                color=box_colors[2*i],\n",
    "                                   lw=2,\n",
    "                                fill=False)\n",
    "        )\n",
    "plt.show()"
   ]
  },
  {
   "cell_type": "markdown",
   "metadata": {},
   "source": [
    "Now we've identified a bunch of regions in space (boxes).  For each region, we can look at what was going on there in the two successive frames.  Here's an example."
   ]
  },
  {
   "cell_type": "code",
   "execution_count": 9,
   "metadata": {},
   "outputs": [
    {
     "data": {
      "image/png": "[encoded data removed]",
      "text/plain": [
       "<matplotlib.figure.Figure at 0x113f97750>"
      ]
     },
     "metadata": {},
     "output_type": "display_data"
    }
   ],
   "source": [
    "box = finder.cnts_joined[3]\n",
    "\n",
    "plt.figure(figsize=(12,4))\n",
    "\n",
    "box.add_image(example_fp.s0)\n",
    "plt.subplot(121)\n",
    "plt.imshow(box.img,interpolation='nearest')\n",
    "plt.axis('off')\n",
    "plt.title('Box contents, frame 0')\n",
    "\n",
    "box.add_image(example_fp.s1)\n",
    "plt.subplot(122)\n",
    "plt.axis('off')\n",
    "plt.imshow(box.img,interpolation='nearest')\n",
    "plt.title('Box contents, frame 1');"
   ]
  },
  {
   "cell_type": "markdown",
   "metadata": {},
   "source": [
    "Above, I've shown the kind of box we want to find -- one that contains an entire mover and the motion it made.  Of course, some boxes are not so useful:"
   ]
  },
  {
   "cell_type": "code",
   "execution_count": 10,
   "metadata": {},
   "outputs": [
    {
     "data": {
      "image/png": "[encoded data removed]",
      "text/plain": [
       "<matplotlib.figure.Figure at 0x113d398d0>"
      ]
     },
     "metadata": {},
     "output_type": "display_data"
    },
    {
     "data": {
      "image/png": "[encoded data removed]",
      "text/plain": [
       "<matplotlib.figure.Figure at 0x1142b8e50>"
      ]
     },
     "metadata": {},
     "output_type": "display_data"
    }
   ],
   "source": [
    "box = finder.cnts_joined[0]\n",
    "\n",
    "plt.figure(figsize=(7,4))\n",
    "\n",
    "box.add_image(example_fp.s0)\n",
    "plt.subplot(121)\n",
    "plt.imshow(box.img,interpolation='nearest')\n",
    "plt.axis('off')\n",
    "plt.title('Box contents, frame 0')\n",
    "\n",
    "box.add_image(example_fp.s1)\n",
    "plt.subplot(122)\n",
    "plt.imshow(box.img,interpolation='nearest')\n",
    "plt.axis('off')\n",
    "plt.title('Box contents, frame 1');\n",
    "\n",
    "box = finder.cnts_joined[5]\n",
    "\n",
    "plt.figure(figsize=(7,4))\n",
    "\n",
    "box.add_image(example_fp.s0)\n",
    "plt.subplot(121)\n",
    "plt.imshow(box.img,interpolation='nearest')\n",
    "plt.axis('off')\n",
    "plt.title('Box contents, frame 0')\n",
    "\n",
    "box.add_image(example_fp.s1)\n",
    "plt.subplot(122)\n",
    "plt.imshow(box.img,interpolation='nearest')\n",
    "plt.axis('off')\n",
    "plt.title('Box contents, frame 1');"
   ]
  },
  {
   "cell_type": "markdown",
   "metadata": {
    "collapsed": true
   },
   "source": [
    "What we want, ideally, is a box whose contents on one frame are just a *translated* copy of their contents on the other.  The TranslationFinder class looks for these boxes.\n",
    "\n",
    "First, it uses OpenCV's phaseCorrelate() to guess the appropriate translation.  Then it generates a translated version of the box contents on the first frame, and looks at how well (in squared error) this matches the contents on the second frame.  Finally, since we can't always get a perfect match this way -- some movers can change appearance, some can appear and disappear -- it uses some heuristics."
   ]
  },
  {
   "cell_type": "markdown",
   "metadata": {},
   "source": [
    "## Filters"
   ]
  },
  {
   "cell_type": "markdown",
   "metadata": {},
   "source": [
    "If we successfully find a translation, we can use it to crop the bounding box and get a snapshot of the mover's sprite.  (The bounding box is larger than the sprite because it's big enough to cover where the mover is in *both* frames.)\n",
    "\n",
    "For example:"
   ]
  },
  {
   "cell_type": "code",
   "execution_count": 11,
   "metadata": {},
   "outputs": [
    {
     "data": {
      "image/png": "[encoded data removed]",
      "text/plain": [
       "<matplotlib.figure.Figure at 0x1148bf890>"
      ]
     },
     "metadata": {},
     "output_type": "display_data"
    },
    {
     "data": {
      "image/png": "[encoded data removed]",
      "text/plain": [
       "<matplotlib.figure.Figure at 0x11431a490>"
      ]
     },
     "metadata": {},
     "output_type": "display_data"
    }
   ],
   "source": [
    "box = finder.cnts_joined[3]\n",
    "\n",
    "plt.figure(figsize=(12,4))\n",
    "\n",
    "box.add_image(example_fp.s0)\n",
    "plt.subplot(121)\n",
    "plt.imshow(box.img,interpolation='nearest')\n",
    "plt.axis('off')\n",
    "plt.title('Box contents, frame 0')\n",
    "\n",
    "box.add_image(example_fp.s1)\n",
    "plt.subplot(122)\n",
    "plt.axis('off')\n",
    "plt.imshow(box.img,interpolation='nearest')\n",
    "plt.title('Box contents, frame 1');\n",
    "\n",
    "plt.figure(figsize=(12,4))\n",
    "\n",
    "plt.subplot(121)\n",
    "plt.axis('off')\n",
    "plt.imshow(mt.movers[0].trajectory[1][1].img, interpolation='nearest')\n",
    "plt.title('Cropped box contents, frame 0')\n",
    "\n",
    "plt.subplot(122)\n",
    "plt.axis('off')\n",
    "plt.imshow(mt.movers[0].trajectory[2][1].img, interpolation='nearest')\n",
    "plt.title('Cropped box contents, frame 1');"
   ]
  },
  {
   "cell_type": "markdown",
   "metadata": {},
   "source": [
    "Note that the cropped images for the two frames are identical.  For each mover, Piaget stores a series of cropped snapshots, one per frame.  Often these will be identical, but it's worth keeping all of them, since some movers can change appearance (such as Ms. Pac-Man)."
   ]
  },
  {
   "cell_type": "markdown",
   "metadata": {},
   "source": [
    "These sprites are the kind of structures we'd expect a ConvNet to learn to recognize.  We can jump-start that process by using the sprite images we've already identified as ConvNet filters.  The Prototyper class handles this process."
   ]
  },
  {
   "cell_type": "code",
   "execution_count": 12,
   "metadata": {
    "collapsed": true
   },
   "outputs": [],
   "source": [
    "pt = Prototyper(mt.game_id)"
   ]
  },
  {
   "cell_type": "markdown",
   "metadata": {},
   "source": [
    "When we create a Prototyper, we give it a game ID.  It loads the saved images and MoverTracker associated with that ID, and does two things:\n",
    "\n",
    "First, it selects a representative snapshot of each mover to serve as our proxy for that mover's sprite, which I call a \"prototype.\"  These will be used to make filters for the first layer of our ConvNet.\n",
    "\n",
    "Second, it looks at the *trajectory* we observed for that mover, and generates a set of *displacements*, which will be used to make filters for a second layer that takes inputs from the first.\n",
    "\n",
    "Here are the prototypes it made:"
   ]
  },
  {
   "cell_type": "code",
   "execution_count": 13,
   "metadata": {},
   "outputs": [
    {
     "name": "stdout",
     "output_type": "stream",
     "text": [
      "Mover 0\n"
     ]
    },
    {
     "data": {
      "image/png": "[encoded data removed]",
      "text/plain": [
       "<matplotlib.figure.Figure at 0x11403bb50>"
      ]
     },
     "metadata": {},
     "output_type": "display_data"
    },
    {
     "name": "stdout",
     "output_type": "stream",
     "text": [
      "Mover 2\n"
     ]
    },
    {
     "data": {
      "image/png": "[encoded data removed]",
      "text/plain": [
       "<matplotlib.figure.Figure at 0x113a27f10>"
      ]
     },
     "metadata": {},
     "output_type": "display_data"
    }
   ],
   "source": [
    "for i in range(len(pt.mover_ids)):\n",
    "    m_id = pt.mover_ids[i]\n",
    "    p = pt.mover_prototypes[i]\n",
    "    plt.imshow(p,interpolation='nearest')\n",
    "    print 'Mover %d' % m_id\n",
    "    plt.show()"
   ]
  },
  {
   "cell_type": "markdown",
   "metadata": {
    "collapsed": true
   },
   "source": [
    "And here are the displacements it assigned to them:"
   ]
  },
  {
   "cell_type": "code",
   "execution_count": 14,
   "metadata": {},
   "outputs": [
    {
     "name": "stdout",
     "output_type": "stream",
     "text": [
      "Mover 0\n",
      "[(-1, 1), (1, 1), (-1, -1), (1, -1)]\n",
      "Mover 2\n",
      "[(2, 0), (-2, 0), (1, 0), (-1, 0), (-3, 0), (3, 0)]\n"
     ]
    }
   ],
   "source": [
    "for i in range(len(pt.mover_ids)):\n",
    "    m_id = pt.mover_ids[i]\n",
    "    print 'Mover %d' % m_id\n",
    "    print pt.mover_disps[i]"
   ]
  },
  {
   "cell_type": "markdown",
   "metadata": {},
   "source": [
    "The ball (Mover 0) moves diagonally, while the paddle (Mover 2) moves horizontally.  (Not all of these displacements were actually observed in the 5 frames we saw: from each actually-observed displacement, the Prototyper froms four displacements by reflecting it around the x and y axes.)"
   ]
  },
  {
   "cell_type": "markdown",
   "metadata": {},
   "source": [
    "## Nets"
   ]
  },
  {
   "cell_type": "markdown",
   "metadata": {},
   "source": [
    "Now let's make some ConvNets."
   ]
  },
  {
   "cell_type": "markdown",
   "metadata": {},
   "source": [
    "There are currently two classes that build nets based on Prototyper information: ProtoQNetwork and ProtoModelNetwork.\n",
    "\n",
    "ProtoQNetwork builds a four-layer, dueling Q-Network architecture.  It's intended to do deep Q-learning for the Atari games using a very similar setup to the one in DeepMind's DQN papers (see [here](https://storage.googleapis.com/deepmind-media/dqn/DQNNaturePaper.pdf) and, for the Dueling architecture, [here](https://arxiv.org/pdf/1511.06581.pdf)).  The one difference here is that the first two layers are fixed (not trainable) and initialized from the prototyes and displacements we found.\n",
    "\n",
    "The ProtoQNetwork code was adapted from Arthur Juliani's code in his repo [DeepRL-Agents](https://github.com/awjuliani/DeepRL-Agents), associated with his excellent series of [tutorials](https://medium.com/emergent-future/simple-reinforcement-learning-with-tensorflow-part-0-q-learning-with-tables-and-neural-networks-d195264329d0).\n",
    "\n",
    "ProtoModelNetwork builds a similar network architecture, but rather than outputting a Q value, it tries to predict what its own first layer will see on the *next* frame.  I'll go into more detail on that in a moment."
   ]
  },
  {
   "cell_type": "code",
   "execution_count": 15,
   "metadata": {
    "collapsed": true
   },
   "outputs": [],
   "source": [
    "from nets import protoQnetwork, protoModelnetwork"
   ]
  },
  {
   "cell_type": "code",
   "execution_count": 16,
   "metadata": {},
   "outputs": [],
   "source": [
    "from training import *"
   ]
  },
  {
   "cell_type": "code",
   "execution_count": null,
   "metadata": {},
   "outputs": [],
   "source": [
    "train_protoModelNetwork(env, pt, breakout=True)"
   ]
  },
  {
   "cell_type": "code",
   "execution_count": null,
   "metadata": {
    "collapsed": true
   },
   "outputs": [],
   "source": []
  }
 ],
 "metadata": {
  "kernelspec": {
   "display_name": "Python 2",
   "language": "python",
   "name": "python2"
  },
  "language_info": {
   "codemirror_mode": {
    "name": "ipython",
    "version": 2
   },
   "file_extension": ".py",
   "mimetype": "text/x-python",
   "name": "python",
   "nbconvert_exporter": "python",
   "pygments_lexer": "ipython2",
   "version": "2.7.12"
  }
 },
 "nbformat": 4,
 "nbformat_minor": 2
}
