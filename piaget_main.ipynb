{
 "cells": [
  {
   "cell_type": "code",
   "execution_count": 3,
   "metadata": {
    "collapsed": true
   },
   "outputs": [],
   "source": [
    "from __future__ import division\n",
    "\n",
    "import gym\n",
    "import numpy as np\n",
    "import random\n",
    "import tensorflow as tf\n",
    "import tensorflow.contrib.slim as slim\n",
    "import matplotlib.pyplot as plt\n",
    "import matplotlib.patches as patches\n",
    "import scipy.misc\n",
    "import os\n",
    "%matplotlib inline\n",
    "\n",
    "\n",
    "import cv2"
   ]
  },
  {
   "cell_type": "code",
   "execution_count": 4,
   "metadata": {
    "collapsed": true
   },
   "outputs": [],
   "source": [
    "import pdb\n",
    "from time import sleep\n",
    "\n",
    "import tensorflow.python.platform\n",
    "from tensorflow.python.platform import gfile"
   ]
  },
  {
   "cell_type": "code",
   "execution_count": 6,
   "metadata": {},
   "outputs": [
    {
     "name": "stderr",
     "output_type": "stream",
     "text": [
      "[2017-05-08 18:30:56,537] Making new env: MsPacman-v0\n"
     ]
    }
   ],
   "source": [
    "env = gym.make('MsPacman-v0')"
   ]
  },
  {
   "cell_type": "code",
   "execution_count": 7,
   "metadata": {},
   "outputs": [],
   "source": [
    "env.reset()\n",
    "\n",
    "# nothing happens in first 100 steps of ms pacman\n",
    "for i in range(100):\n",
    "    s,r,d,info = env.step(env.action_space.sample()) # take a random action"
   ]
  },
  {
   "cell_type": "code",
   "execution_count": 8,
   "metadata": {},
   "outputs": [
    {
     "data": {
      "image/png": "[encoded data removed]",
      "text/plain": [
       "<matplotlib.figure.Figure at 0x1133413d0>"
      ]
     },
     "metadata": {},
     "output_type": "display_data"
    }
   ],
   "source": [
    "a = np.random.randint(0,9)\n",
    "\n",
    "s,r,d,info = env.step(a)\n",
    "\n",
    "a = np.random.randint(0,9)\n",
    "\n",
    "s1,r,d,info = env.step(a)\n",
    "\n",
    "a = np.random.randint(0,9)\n",
    "\n",
    "s2,r,d,info = env.step(a)\n",
    "\n",
    "plt.imshow(s1[:160,:])\n",
    "\n",
    "frame_diff = s1[:160,:]-s[:160,:]\n",
    "frame_diff_2 = s2[:160,:]-s1[:160,:]"
   ]
  },
  {
   "cell_type": "code",
   "execution_count": 9,
   "metadata": {
    "scrolled": false
   },
   "outputs": [
    {
     "data": {
      "image/png": "[encoded data removed]",
      "text/plain": [
       "<matplotlib.figure.Figure at 0x11333f6d0>"
      ]
     },
     "metadata": {},
     "output_type": "display_data"
    },
    {
     "name": "stdout",
     "output_type": "stream",
     "text": [
      "2\n",
      "88.0\n"
     ]
    },
    {
     "data": {
      "image/png": "[encoded data removed]",
      "text/plain": [
       "<matplotlib.figure.Figure at 0x114222f10>"
      ]
     },
     "metadata": {},
     "output_type": "display_data"
    },
    {
     "name": "stdout",
     "output_type": "stream",
     "text": [
      "3\n",
      "125.5\n"
     ]
    },
    {
     "data": {
      "image/png": "[encoded data removed]",
      "text/plain": [
       "<matplotlib.figure.Figure at 0x114553350>"
      ]
     },
     "metadata": {},
     "output_type": "display_data"
    }
   ],
   "source": [
    "\n",
    "\n",
    "test=cv2.cvtColor(frame_diff, cv2.COLOR_BGR2GRAY)\n",
    "thresh = cv2.threshold(test,1,255,cv2.THRESH_BINARY)[1]\n",
    "thresh_dilated = cv2.dilate(thresh,None,iterations=1)\n",
    "(cnts, _) = cv2.findContours(thresh_dilated.copy(), cv2.RETR_EXTERNAL,cv2.CHAIN_APPROX_SIMPLE)\n",
    "thresh = cv2.cvtColor(thresh,cv2.COLOR_GRAY2BGR)\n",
    "\n",
    "fig = plt.figure(figsize=(5,5),dpi=160)\n",
    "fig.add_subplot(121)\n",
    "plt.axis('off')\n",
    "plt.imshow(s1[:160,:])\n",
    "fig.add_subplot(122)\n",
    "plt.imshow(s[:160,:])\n",
    "plt.axis('off')\n",
    "plt.show()\n",
    "\n",
    "objects = []\n",
    "\n",
    "for i, c in enumerate(cnts):\n",
    "    if cv2.contourArea(c) > 41:\n",
    "        (x, y, w, h) = cv2.boundingRect(c)\n",
    "        fig = plt.figure(figsize=(5,5),dpi=160)\n",
    "        ax = fig.add_subplot(121)\n",
    "        plt.axis('off')\n",
    "        #plt.imshow(thresh[y:y+h,x:x+w])\n",
    "        plt.imshow(thresh)\n",
    "        print i\n",
    "        print cv2.contourArea(c)\n",
    "        plt.axis([1, 160, 160, 1])\n",
    "        ax.add_patch(patches.Rectangle((x,y),w,h,color='g',fill=False))\n",
    "        ax = fig.add_subplot(122)\n",
    "        plt.axis('off')\n",
    "        plt.imshow(s[y:y+h,x:x+w])\n",
    "        objects.append(s[y:y+h,x:x+w])\n",
    "        plt.show()"
   ]
  },
  {
   "cell_type": "code",
   "execution_count": 10,
   "metadata": {},
   "outputs": [
    {
     "data": {
      "text/plain": [
       "(-0.5, 9.5, 15.5, -0.5)"
      ]
     },
     "execution_count": 10,
     "metadata": {},
     "output_type": "execute_result"
    },
    {
     "data": {
      "image/png": "[encoded data removed]",
      "text/plain": [
       "<matplotlib.figure.Figure at 0x114640390>"
      ]
     },
     "metadata": {},
     "output_type": "display_data"
    }
   ],
   "source": [
    "plt.imshow(s[y:y+h,x:x+w])\n",
    "plt.axis('off')"
   ]
  },
  {
   "cell_type": "code",
   "execution_count": 11,
   "metadata": {
    "collapsed": true
   },
   "outputs": [],
   "source": [
    "class DynNetwork():\n",
    "    def __init__(self):\n",
    "        #self.scalarInputFrame0 =  tf.placeholder(shape=[None,21168],dtype=tf.float32)\n",
    "        #self.imageInFrame0 = tf.reshape(self.scalarInputFrame0,shape=[-1,84,84,3])\n",
    "\n",
    "        #self.scalarInputFrame1 =  tf.placeholder(shape=[None,21168],dtype=tf.float32)\n",
    "        #self.imageInFrame1 = tf.reshape(self.scalarInputFrame1,shape=[-1,84,84,3])\n",
    "        \n",
    "        self.imageInFrame0 = tf.placeholder(shape=[1,160,160,3],dtype=tf.float32,name='imageInFrame0')\n",
    "        self.imageInFrame1 = tf.placeholder(shape=[1,160,160,3],dtype=tf.float32,name='imageInFrame1')\n",
    "\n",
    "        #self.action = tf.placeholder(shape=[1],dtype=tf.int32)\n",
    "        \n",
    "        with tf.variable_scope('conv1') as scope:\n",
    "            kernel = tf.Variable(tf.truncated_normal([4, 4, 3, 16], dtype=tf.float32,\\\n",
    "                                               stddev=1e-1))\n",
    "            biases = tf.Variable(tf.constant(0.0, shape=[16], dtype=tf.float32),\n",
    "                           trainable=True)\n",
    "\n",
    "            conv_F0 = tf.nn.conv2d(self.imageInFrame0, kernel, [1, 2, 2, 1], padding='SAME')\n",
    "            conv_F1 = tf.nn.conv2d(self.imageInFrame1, kernel, [1, 2, 2, 1], padding='SAME')\n",
    "\n",
    "            bias_F0 = tf.nn.bias_add(conv_F0, biases)\n",
    "            bias_F1 = tf.nn.bias_add(conv_F1, biases)\n",
    "\n",
    "            self.conv1_F0 = tf.nn.relu(bias_F0,name=scope.name)\n",
    "            self.conv1_F1 = tf.nn.relu(bias_F1,name=scope.name)\n",
    "\n",
    "        with tf.variable_scope('conv2') as scope:\n",
    "            kernel = tf.Variable(tf.truncated_normal([4, 4, 16, 8], dtype=tf.float32,\\\n",
    "                                               stddev=1e-1))\n",
    "            biases = tf.Variable(tf.constant(0.0, shape=[8], dtype=tf.float32),\n",
    "                           trainable=True)\n",
    "\n",
    "            conv_F0 = tf.nn.conv2d(self.conv1_F0, kernel, [1, 2, 2, 1], padding='SAME')\n",
    "            conv_F1 = tf.nn.conv2d(self.conv1_F1, kernel, [1, 2, 2, 1], padding='SAME')\n",
    "\n",
    "            bias_F0 = tf.nn.bias_add(conv_F0, biases)\n",
    "            bias_F1 = tf.nn.bias_add(conv_F1, biases)\n",
    "\n",
    "            self.conv2_F0 = tf.nn.relu(bias_F0,name=scope.name)\n",
    "            self.conv2_F1 = tf.nn.relu(bias_F1,name=scope.name)\n",
    "        '''\n",
    "        with tf.variable_scope('conv3') as scope:\n",
    "            kernel = tf.Variable(tf.truncated_normal([3, 3, 64, 8], dtype=tf.float32,\\\n",
    "                                               stddev=1e-1))\n",
    "            biases = tf.Variable(tf.constant(0.0, shape=[8], dtype=tf.float32),\n",
    "                           trainable=True)\n",
    "\n",
    "            conv_F0 = tf.nn.conv2d(self.conv2_F0, kernel, [1, 1, 1, 1], padding='SAME')\n",
    "            conv_F1 = tf.nn.conv2d(self.conv2_F1, kernel, [1, 1, 1, 1], padding='SAME')\n",
    "\n",
    "            bias_F0 = tf.nn.bias_add(conv_F0, biases)\n",
    "            bias_F1 = tf.nn.bias_add(conv_F1, biases)\n",
    "\n",
    "            self.conv3_F0 = tf.nn.relu(bias_F0,name=scope.name)\n",
    "            self.conv3_F1 = tf.nn.relu(bias_F1,name=scope.name)\n",
    "        \n",
    "        '''\n",
    "        with tf.variable_scope('conv_diff') as scope:\n",
    "            nonzero_weightsF0 = tf.Variable(tf.truncated_normal([2, 2, 8], dtype=tf.float32,\\\n",
    "                                                                    stddev=1e-1), name='nonzero_weightsF0')\n",
    "            nonzero_weightsF1 = tf.Variable(tf.truncated_normal([2, 2, 8], dtype=tf.float32,\\\n",
    "                                                                    stddev=1e-1), name='nonzero_weightsF1')\n",
    "            weightsF0 = tf.matrix_set_diag(tf.zeros([2,2,8,8]),nonzero_weightsF0)\n",
    "            weightsF1 = tf.matrix_set_diag(tf.zeros([2,2,8,8]),nonzero_weightsF1)\n",
    "            kernel = tf.concat([weightsF0,weightsF1],2)\n",
    "            \n",
    "            biases = tf.Variable(tf.constant(0.0, shape=[8], dtype=tf.float32),\n",
    "                           trainable=True)\n",
    "            conv2_both = tf.concat([self.conv2_F0, self.conv2_F1],3)\n",
    "            \n",
    "            conv = tf.nn.conv2d(conv2_both, kernel, [1, 2, 2, 1], padding='SAME')\n",
    "            \n",
    "            bias = tf.nn.bias_add(conv, biases)\n",
    "            self.conv_diff = tf.nn.relu(bias, name=scope.name)\n",
    "        \n",
    "        #self.cdf = slim.flatten(self.conv_diff)\n",
    "        #self.fc = slim.fully_connected(self.cdf, 3)\n",
    "        #self.logits = tf.concat([self.fc, [[1]]],1)\n",
    "        \n",
    "        self.movers_mask = tf.placeholder(shape=[1,160,160,1],dtype=tf.float32)\n",
    "        #self.frame_diff_scalar = tf.reshape(self.frame_diff,[1,21168])\n",
    "        \n",
    "        nonzero_weightsOut = tf.Variable(tf.truncated_normal([8,8,8,1], dtype=tf.float32,\\\n",
    "                                                                stddev=1e-1), name='nonzero_weightsOut')\n",
    "\n",
    "        biases = tf.Variable(tf.constant(0.0, shape=[1,160,160,1], dtype=tf.float32),\n",
    "                           trainable=True)\n",
    "        \n",
    "        weightsProd = tf.tensordot(self.conv_diff, nonzero_weightsOut, [[3],[0]])\n",
    "\n",
    "        \n",
    "        channels = tf.unstack(weightsProd,axis=5)\n",
    "        screen_channels = []\n",
    "        for ch in channels:\n",
    "            full_cols=[tf.reshape(t,[160,8]) for t in tf.unstack(ch,axis=1)]\n",
    "            screen_channels.append(tf.concat(full_cols,1))\n",
    "        weightsProd_screen = tf.stack(screen_channels,axis=2)\n",
    "        \n",
    "        bias = tf.add(weightsProd_screen, biases)\n",
    "            \n",
    "        self.out = tf.nn.relu(bias, name=scope.name)\n",
    "\n",
    "        #self.loss = tf.reduce_sum(tf.nn.sparse_softmax_cross_entropy_with_logits(labels=self.action, logits=self.logits))\n",
    "        \n",
    "        self.loss = tf.reduce_sum(tf.square(self.movers_mask - self.out))\n",
    "        \n",
    "        self.trainer = tf.train.AdamOptimizer(learning_rate=0.001)\n",
    "        self.update_model = self.trainer.minimize(self.loss)\n",
    "        "
   ]
  },
  {
   "cell_type": "code",
   "execution_count": 12,
   "metadata": {
    "collapsed": true
   },
   "outputs": [],
   "source": [
    "def find_movers(s,s1):\n",
    "    movers = []\n",
    "    frame_diff = s1 - s\n",
    "    fd_grey = cv2.cvtColor(frame_diff, cv2.COLOR_BGR2GRAY)\n",
    "    thresh = cv2.threshold(fd_grey,1,255,cv2.THRESH_BINARY)[1]\n",
    "    thresh_dilated = cv2.dilate(thresh,None,iterations=1)\n",
    "    (cnts, _) = cv2.findContours(thresh_dilated.copy(), cv2.RETR_EXTERNAL,cv2.CHAIN_APPROX_SIMPLE)\n",
    "\n",
    "    for i, c in enumerate(cnts):\n",
    "        if cv2.contourArea(c) > 41:\n",
    "            (x, y, w, h) = cv2.boundingRect(c)\n",
    "            movers.append((y, y+h, x, x+w))\n",
    "    return movers\n",
    "\n",
    "def movers_mask(s, s1, shape):\n",
    "    movers = find_movers(s, s1)\n",
    "    mask = np.zeros(shape)\n",
    "    for m in movers:\n",
    "        mask[m[0]:m[1], m[2]:m[3]] = 1\n",
    "    return mask"
   ]
  },
  {
   "cell_type": "code",
   "execution_count": 13,
   "metadata": {
    "collapsed": true
   },
   "outputs": [],
   "source": [
    "sess = tf.Session()\n",
    "\n",
    "net = DynNetwork()\n",
    "\n",
    "sess.run(tf.variables_initializer(tf.global_variables()))"
   ]
  },
  {
   "cell_type": "code",
   "execution_count": 14,
   "metadata": {
    "scrolled": false
   },
   "outputs": [
    {
     "name": "stdout",
     "output_type": "stream",
     "text": [
      "0\n",
      "2299.43\n"
     ]
    },
    {
     "data": {
      "image/png": "[encoded data removed]",
      "text/plain": [
       "<matplotlib.figure.Figure at 0x1053b0d50>"
      ]
     },
     "metadata": {},
     "output_type": "display_data"
    },
    {
     "name": "stdout",
     "output_type": "stream",
     "text": [
      "> <ipython-input-14-5711bd68deb1>(46)<module>()\n",
      "-> s = s1\n",
      "(Pdb) q\n"
     ]
    },
    {
     "ename": "BdbQuit",
     "evalue": "",
     "output_type": "error",
     "traceback": [
      "\u001b[0;31m---------------------------------------------------------------------------\u001b[0m",
      "\u001b[0;31mBdbQuit\u001b[0m                                   Traceback (most recent call last)",
      "\u001b[0;32m<ipython-input-14-5711bd68deb1>\u001b[0m in \u001b[0;36m<module>\u001b[0;34m()\u001b[0m\n\u001b[1;32m     44\u001b[0m         \u001b[0mpdb\u001b[0m\u001b[0;34m.\u001b[0m\u001b[0mset_trace\u001b[0m\u001b[0;34m(\u001b[0m\u001b[0;34m)\u001b[0m\u001b[0;34m\u001b[0m\u001b[0m\n\u001b[1;32m     45\u001b[0m \u001b[0;34m\u001b[0m\u001b[0m\n\u001b[0;32m---> 46\u001b[0;31m     \u001b[0ms\u001b[0m \u001b[0;34m=\u001b[0m \u001b[0ms1\u001b[0m\u001b[0;34m\u001b[0m\u001b[0m\n\u001b[0m\u001b[1;32m     47\u001b[0m \u001b[0;34m\u001b[0m\u001b[0m\n",
      "\u001b[0;32m<ipython-input-14-5711bd68deb1>\u001b[0m in \u001b[0;36m<module>\u001b[0;34m()\u001b[0m\n\u001b[1;32m     44\u001b[0m         \u001b[0mpdb\u001b[0m\u001b[0;34m.\u001b[0m\u001b[0mset_trace\u001b[0m\u001b[0;34m(\u001b[0m\u001b[0;34m)\u001b[0m\u001b[0;34m\u001b[0m\u001b[0m\n\u001b[1;32m     45\u001b[0m \u001b[0;34m\u001b[0m\u001b[0m\n\u001b[0;32m---> 46\u001b[0;31m     \u001b[0ms\u001b[0m \u001b[0;34m=\u001b[0m \u001b[0ms1\u001b[0m\u001b[0;34m\u001b[0m\u001b[0m\n\u001b[0m\u001b[1;32m     47\u001b[0m \u001b[0;34m\u001b[0m\u001b[0m\n",
      "\u001b[0;32m//anaconda/envs/tensorflow/lib/python2.7/bdb.pyc\u001b[0m in \u001b[0;36mtrace_dispatch\u001b[0;34m(self, frame, event, arg)\u001b[0m\n\u001b[1;32m     47\u001b[0m             \u001b[0;32mreturn\u001b[0m \u001b[0;31m# None\u001b[0m\u001b[0;34m\u001b[0m\u001b[0m\n\u001b[1;32m     48\u001b[0m         \u001b[0;32mif\u001b[0m \u001b[0mevent\u001b[0m \u001b[0;34m==\u001b[0m \u001b[0;34m'line'\u001b[0m\u001b[0;34m:\u001b[0m\u001b[0;34m\u001b[0m\u001b[0m\n\u001b[0;32m---> 49\u001b[0;31m             \u001b[0;32mreturn\u001b[0m \u001b[0mself\u001b[0m\u001b[0;34m.\u001b[0m\u001b[0mdispatch_line\u001b[0m\u001b[0;34m(\u001b[0m\u001b[0mframe\u001b[0m\u001b[0;34m)\u001b[0m\u001b[0;34m\u001b[0m\u001b[0m\n\u001b[0m\u001b[1;32m     50\u001b[0m         \u001b[0;32mif\u001b[0m \u001b[0mevent\u001b[0m \u001b[0;34m==\u001b[0m \u001b[0;34m'call'\u001b[0m\u001b[0;34m:\u001b[0m\u001b[0;34m\u001b[0m\u001b[0m\n\u001b[1;32m     51\u001b[0m             \u001b[0;32mreturn\u001b[0m \u001b[0mself\u001b[0m\u001b[0;34m.\u001b[0m\u001b[0mdispatch_call\u001b[0m\u001b[0;34m(\u001b[0m\u001b[0mframe\u001b[0m\u001b[0;34m,\u001b[0m \u001b[0marg\u001b[0m\u001b[0;34m)\u001b[0m\u001b[0;34m\u001b[0m\u001b[0m\n",
      "\u001b[0;32m//anaconda/envs/tensorflow/lib/python2.7/bdb.pyc\u001b[0m in \u001b[0;36mdispatch_line\u001b[0;34m(self, frame)\u001b[0m\n\u001b[1;32m     66\u001b[0m         \u001b[0;32mif\u001b[0m \u001b[0mself\u001b[0m\u001b[0;34m.\u001b[0m\u001b[0mstop_here\u001b[0m\u001b[0;34m(\u001b[0m\u001b[0mframe\u001b[0m\u001b[0;34m)\u001b[0m \u001b[0;32mor\u001b[0m \u001b[0mself\u001b[0m\u001b[0;34m.\u001b[0m\u001b[0mbreak_here\u001b[0m\u001b[0;34m(\u001b[0m\u001b[0mframe\u001b[0m\u001b[0;34m)\u001b[0m\u001b[0;34m:\u001b[0m\u001b[0;34m\u001b[0m\u001b[0m\n\u001b[1;32m     67\u001b[0m             \u001b[0mself\u001b[0m\u001b[0;34m.\u001b[0m\u001b[0muser_line\u001b[0m\u001b[0;34m(\u001b[0m\u001b[0mframe\u001b[0m\u001b[0;34m)\u001b[0m\u001b[0;34m\u001b[0m\u001b[0m\n\u001b[0;32m---> 68\u001b[0;31m             \u001b[0;32mif\u001b[0m \u001b[0mself\u001b[0m\u001b[0;34m.\u001b[0m\u001b[0mquitting\u001b[0m\u001b[0;34m:\u001b[0m \u001b[0;32mraise\u001b[0m \u001b[0mBdbQuit\u001b[0m\u001b[0;34m\u001b[0m\u001b[0m\n\u001b[0m\u001b[1;32m     69\u001b[0m         \u001b[0;32mreturn\u001b[0m \u001b[0mself\u001b[0m\u001b[0;34m.\u001b[0m\u001b[0mtrace_dispatch\u001b[0m\u001b[0;34m\u001b[0m\u001b[0m\n\u001b[1;32m     70\u001b[0m \u001b[0;34m\u001b[0m\u001b[0m\n",
      "\u001b[0;31mBdbQuit\u001b[0m: "
     ]
    }
   ],
   "source": [
    "num_steps = 50000\n",
    "\n",
    "env.reset()\n",
    "\n",
    "# nothing happens in first 100 steps of ms pacman\n",
    "for i in range(100):\n",
    "    s,r,d,info = env.step(env.action_space.sample()) # take a random action\n",
    "\n",
    "losses = []\n",
    "\n",
    "for i in range(num_steps):\n",
    "    \n",
    "    if info['ale.lives'] == 0:\n",
    "        s = env.reset()\n",
    "        for i in range(100):\n",
    "            s,r,d,info = env.step(env.action_space.sample()) # take a random action\n",
    "\n",
    "    a = np.random.randint(0,9)\n",
    "    s1,r,d,info = env.step(a)\n",
    "\n",
    "    s = s[:160,:]\n",
    "    s1 = s1[:160,:]\n",
    "    \n",
    "    mask = np.expand_dims(movers_mask(s, s1, s.shape[:2]),2)\n",
    "    [dummy, loss] = sess.run([net.update_model, net.loss], \\\n",
    "                             feed_dict={net.imageInFrame0:[s],\\\n",
    "                                        net.imageInFrame1:[s1],\\\n",
    "                                        net.movers_mask: [mask]})\n",
    "    losses.append(loss)\n",
    "\n",
    "    if i % 500 == 0:\n",
    "        print i\n",
    "        print losses[i]\n",
    "        \n",
    "        out = sess.run(tf.reshape(net.out,[160,160,1]), \\\n",
    "                             feed_dict={net.imageInFrame0:[s],\\\n",
    "                                        net.imageInFrame1:[s1],\\\n",
    "                                        net.movers_mask: [mask]})\n",
    "        out_im = np.reshape(out,s.shape[:2])\n",
    "        mask_im = np.reshape(mask,s.shape[:2])\n",
    "        plt.figure(figsize=(10,10))\n",
    "        plt.subplot(121)\n",
    "        plt.axis('off')\n",
    "        plt.imshow(out_im,cmap='gray')\n",
    "        plt.subplot(122)\n",
    "        plt.axis('off')\n",
    "        plt.imshow(mask_im,cmap='gray')\n",
    "        \n",
    "        plt.show()\n",
    "        pdb.set_trace()\n",
    "        \n",
    "    s = s1\n",
    "    "
   ]
  },
  {
   "cell_type": "code",
   "execution_count": 15,
   "metadata": {
    "collapsed": true
   },
   "outputs": [],
   "source": [
    "sess.close()"
   ]
  },
  {
   "cell_type": "code",
   "execution_count": 16,
   "metadata": {},
   "outputs": [
    {
     "data": {
      "text/plain": [
       "[<matplotlib.lines.Line2D at 0x11626c4d0>]"
      ]
     },
     "execution_count": 16,
     "metadata": {},
     "output_type": "execute_result"
    },
    {
     "data": {
      "image/png": "[encoded data removed]",
      "text/plain": [
       "<matplotlib.figure.Figure at 0x11455e690>"
      ]
     },
     "metadata": {},
     "output_type": "display_data"
    }
   ],
   "source": [
    "plt.plot(losses[100:],'o')"
   ]
  }
 ],
 "metadata": {
  "anaconda-cloud": {},
  "kernelspec": {
   "display_name": "Python 2",
   "language": "python",
   "name": "python2"
  },
  "language_info": {
   "codemirror_mode": {
    "name": "ipython",
    "version": 2
   },
   "file_extension": ".py",
   "mimetype": "text/x-python",
   "name": "python",
   "nbconvert_exporter": "python",
   "pygments_lexer": "ipython2",
   "version": "2.7.12"
  }
 },
 "nbformat": 4,
 "nbformat_minor": 1
}
