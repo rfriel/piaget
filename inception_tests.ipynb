{
 "cells": [
  {
   "cell_type": "code",
   "execution_count": 50,
   "metadata": {
    "collapsed": true
   },
   "outputs": [],
   "source": [
    "import os\n",
    "import re\n",
    "\n",
    "import tensorflow as tf\n",
    "import tensorflow.python.platform\n",
    "from tensorflow.python.platform import gfile\n",
    "import numpy as np\n",
    "import matplotlib.pyplot as plt\n",
    "%matplotlib inline\n",
    "\n",
    "import gym\n",
    "import numpy as np\n",
    "import random\n",
    "\n",
    "from sklearn.cluster import KMeans\n",
    "from sklearn.linear_model import LogisticRegression\n",
    "from sklearn.cross_validation import train_test_split\n",
    "\n",
    "from PIL import Image\n",
    "\n",
    "import pdb"
   ]
  },
  {
   "cell_type": "code",
   "execution_count": 34,
   "metadata": {
    "collapsed": true
   },
   "outputs": [],
   "source": [
    "game_id = 981749\n",
    "model_dir = './'\n",
    "images_dir = 'img/' + str(game_id) + '/'\n",
    "class_dirs = [images_dir + d + '/' for d in os.listdir(images_dir) if d.find('mover') == 0]"
   ]
  },
  {
   "cell_type": "code",
   "execution_count": 35,
   "metadata": {
    "collapsed": true
   },
   "outputs": [],
   "source": [
    "def create_graph():\n",
    "  \"\"\"Creates a graph from saved GraphDef file and returns a saver.\"\"\"\n",
    "  # Creates graph from saved graph_def.pb.\n",
    "  with tf.gfile.FastGFile(os.path.join(\n",
    "      model_dir, 'classify_image_graph_def.pb'), 'rb') as f:\n",
    "    graph_def = tf.GraphDef()\n",
    "    graph_def.ParseFromString(f.read())\n",
    "    _ = tf.import_graph_def(graph_def, name='')"
   ]
  },
  {
   "cell_type": "code",
   "execution_count": 39,
   "metadata": {},
   "outputs": [],
   "source": [
    "def extract_features(class_dirs):\n",
    "    nb_features = 2048\n",
    "    features = []\n",
    "    labels = []\n",
    "    \n",
    "    create_graph()\n",
    "\n",
    "    with tf.Session() as sess:\n",
    "\n",
    "        next_to_last_tensor = sess.graph.get_tensor_by_name('pool_3:0')\n",
    "\n",
    "        ind = 0\n",
    "        for class_dir in class_dirs:\n",
    "            class_label = int(class_dir[class_dir.find('mover')+5:-1])\n",
    "            list_images = [class_dir+f for f in os.listdir(class_dir) if re.search('jpg|JPG', f)]\n",
    "            for image in list_images:\n",
    "                if (ind%1 == 0):\n",
    "                    print('Processing %s...' % (image))\n",
    "                if not gfile.Exists(image):\n",
    "                    tf.logging.fatal('File does not exist %s', image)\n",
    "\n",
    "                image_data = gfile.FastGFile(image, 'rb').read()\n",
    "                feature_vec = sess.run(next_to_last_tensor,\n",
    "                                       {'DecodeJpeg/contents:0': image_data})\n",
    "                features.append(np.squeeze(feature_vec))\n",
    "                labels.append(class_label)\n",
    "                ind += 1\n",
    "    return features, labels"
   ]
  },
  {
   "cell_type": "code",
   "execution_count": 40,
   "metadata": {},
   "outputs": [
    {
     "name": "stdout",
     "output_type": "stream",
     "text": [
      "Processing img/981749/mover0/136544.jpg...\n",
      "Processing img/981749/mover0/244560.jpg...\n",
      "Processing img/981749/mover0/296909.jpg...\n",
      "Processing img/981749/mover0/297229.jpg...\n",
      "Processing img/981749/mover0/399094.jpg...\n",
      "Processing img/981749/mover0/403805.jpg...\n",
      "Processing img/981749/mover0/406640.jpg...\n",
      "Processing img/981749/mover0/425961.jpg...\n",
      "Processing img/981749/mover0/485055.jpg...\n",
      "Processing img/981749/mover0/531068.jpg...\n",
      "Processing img/981749/mover0/544901.jpg...\n",
      "Processing img/981749/mover0/570139.jpg...\n",
      "Processing img/981749/mover0/577790.jpg...\n",
      "Processing img/981749/mover0/582255.jpg...\n",
      "Processing img/981749/mover0/613053.jpg...\n",
      "Processing img/981749/mover0/67752.jpg...\n",
      "Processing img/981749/mover0/682278.jpg...\n",
      "Processing img/981749/mover0/777396.jpg...\n",
      "Processing img/981749/mover0/868603.jpg...\n",
      "Processing img/981749/mover0/974990.jpg...\n",
      "Processing img/981749/mover1/165986.jpg...\n",
      "Processing img/981749/mover1/176147.jpg...\n",
      "Processing img/981749/mover1/240694.jpg...\n",
      "Processing img/981749/mover1/281508.jpg...\n",
      "Processing img/981749/mover1/29368.jpg...\n",
      "Processing img/981749/mover1/319556.jpg...\n",
      "Processing img/981749/mover1/33948.jpg...\n",
      "Processing img/981749/mover1/397714.jpg...\n",
      "Processing img/981749/mover1/422017.jpg...\n",
      "Processing img/981749/mover1/435918.jpg...\n",
      "Processing img/981749/mover1/487568.jpg...\n",
      "Processing img/981749/mover1/606138.jpg...\n",
      "Processing img/981749/mover1/617437.jpg...\n",
      "Processing img/981749/mover1/73996.jpg...\n",
      "Processing img/981749/mover1/827836.jpg...\n",
      "Processing img/981749/mover1/93929.jpg...\n",
      "Processing img/981749/mover1/965895.jpg...\n",
      "Processing img/981749/mover2/1683.jpg...\n",
      "Processing img/981749/mover2/179993.jpg...\n",
      "Processing img/981749/mover2/18933.jpg...\n",
      "Processing img/981749/mover2/193726.jpg...\n",
      "Processing img/981749/mover2/307490.jpg...\n",
      "Processing img/981749/mover2/370981.jpg...\n",
      "Processing img/981749/mover2/382161.jpg...\n",
      "Processing img/981749/mover2/429741.jpg...\n",
      "Processing img/981749/mover2/440663.jpg...\n",
      "Processing img/981749/mover2/474674.jpg...\n",
      "Processing img/981749/mover2/499708.jpg...\n",
      "Processing img/981749/mover2/524115.jpg...\n",
      "Processing img/981749/mover2/532256.jpg...\n",
      "Processing img/981749/mover2/734456.jpg...\n",
      "Processing img/981749/mover2/752068.jpg...\n",
      "Processing img/981749/mover2/756852.jpg...\n",
      "Processing img/981749/mover2/871003.jpg...\n",
      "Processing img/981749/mover2/886214.jpg...\n",
      "Processing img/981749/mover2/891037.jpg...\n",
      "Processing img/981749/mover2/920806.jpg...\n",
      "Processing img/981749/mover2/933590.jpg...\n",
      "Processing img/981749/mover2/970794.jpg...\n",
      "Processing img/981749/mover2/974079.jpg...\n",
      "Processing img/981749/mover2/979466.jpg...\n",
      "Processing img/981749/mover3/144722.jpg...\n",
      "Processing img/981749/mover3/155332.jpg...\n",
      "Processing img/981749/mover3/211906.jpg...\n",
      "Processing img/981749/mover3/449253.jpg...\n",
      "Processing img/981749/mover3/713665.jpg...\n",
      "Processing img/981749/mover3/985189.jpg...\n"
     ]
    }
   ],
   "source": [
    "features_l, labels = extract_features(class_dirs);\n",
    "features = np.array(features_l)"
   ]
  },
  {
   "cell_type": "code",
   "execution_count": 54,
   "metadata": {},
   "outputs": [
    {
     "data": {
      "text/plain": [
       "0.88235294117647056"
      ]
     },
     "execution_count": 54,
     "metadata": {},
     "output_type": "execute_result"
    }
   ],
   "source": [
    "LR = LogisticRegression()\n",
    "f_train, f_test, l_train, l_test = train_test_split(features, labels, test_size=0.25)\n",
    "LR.fit(f_train,l_train)\n",
    "LR.score(f_test,l_test)"
   ]
  },
  {
   "cell_type": "code",
   "execution_count": 76,
   "metadata": {},
   "outputs": [
    {
     "name": "stdout",
     "output_type": "stream",
     "text": [
      "(0, 0)\n",
      "(0, 0)\n",
      "(0, 0)\n",
      "(0, 0)\n",
      "(0, 0)\n",
      "(0, 0)\n",
      "(0, 0)\n",
      "(0, 0)\n",
      "(0, 0)\n",
      "(0, 0)\n",
      "(0, 0)\n",
      "(0, 0)\n",
      "(0, 0)\n",
      "(0, 0)\n",
      "(0, 0)\n",
      "(0, 0)\n",
      "(0, 0)\n",
      "(0, 0)\n",
      "(0, 0)\n",
      "(0, 0)\n",
      "(1, 1)\n",
      "(1, 1)\n",
      "(1, 1)\n",
      "(1, 2)\n",
      "(1, 1)\n",
      "(1, 1)\n",
      "(1, 1)\n",
      "(1, 2)\n",
      "(1, 1)\n",
      "(1, 1)\n",
      "(1, 1)\n",
      "(1, 1)\n",
      "(1, 1)\n",
      "(1, 1)\n",
      "(1, 1)\n",
      "(1, 1)\n",
      "(1, 1)\n",
      "(2, 2)\n",
      "(2, 2)\n",
      "(2, 2)\n",
      "(2, 2)\n",
      "(2, 2)\n",
      "(2, 2)\n",
      "(2, 2)\n",
      "(2, 2)\n",
      "(2, 2)\n",
      "(2, 1)\n",
      "(2, 2)\n",
      "(2, 2)\n",
      "(2, 2)\n",
      "(2, 2)\n",
      "(2, 2)\n",
      "(2, 3)\n",
      "(2, 2)\n",
      "(2, 2)\n",
      "(2, 2)\n",
      "(2, 2)\n",
      "(2, 2)\n",
      "(2, 2)\n",
      "(2, 2)\n",
      "(2, 2)\n",
      "(3, 3)\n",
      "(3, 3)\n",
      "(3, 3)\n",
      "(3, 3)\n",
      "(3, 3)\n",
      "(3, 3)\n"
     ]
    }
   ],
   "source": [
    "for (f,l) in zip(features,labels):\n",
    "    print (l, LR.predict(f)[0])"
   ]
  },
  {
   "cell_type": "code",
   "execution_count": 73,
   "metadata": {},
   "outputs": [
    {
     "data": {
      "text/plain": [
       "<matplotlib.colorbar.Colorbar at 0x119983f50>"
      ]
     },
     "execution_count": 73,
     "metadata": {},
     "output_type": "execute_result"
    },
    {
     "data": {
      "image/png": "[encoded data removed]",
      "text/plain": [
       "<matplotlib.figure.Figure at 0x11556e910>"
      ]
     },
     "metadata": {},
     "output_type": "display_data"
    }
   ],
   "source": [
    "KM = KMeans(4)\n",
    "KMlabels = KM.fit_predict(features)\n",
    "label_mat = np.zeros((4,4))\n",
    "for (label,KMlabel) in zip(KMlabels, labels):\n",
    "    label_mat[KMlabel, label] += 1\n",
    "    \n",
    "plt.matshow(label_mat/len(labels),cmap='gray')\n",
    "plt.colorbar()"
   ]
  },
  {
   "cell_type": "code",
   "execution_count": null,
   "metadata": {},
   "outputs": [],
   "source": []
  },
  {
   "cell_type": "code",
   "execution_count": 78,
   "metadata": {
    "collapsed": true
   },
   "outputs": [],
   "source": [
    "plt.imshow?"
   ]
  },
  {
   "cell_type": "code",
   "execution_count": null,
   "metadata": {
    "collapsed": true
   },
   "outputs": [],
   "source": []
  },
  {
   "cell_type": "code",
   "execution_count": null,
   "metadata": {
    "collapsed": true
   },
   "outputs": [],
   "source": []
  }
 ],
 "metadata": {
  "kernelspec": {
   "display_name": "Python 2",
   "language": "python",
   "name": "python2"
  },
  "language_info": {
   "codemirror_mode": {
    "name": "ipython",
    "version": 2
   },
   "file_extension": ".py",
   "mimetype": "text/x-python",
   "name": "python",
   "nbconvert_exporter": "python",
   "pygments_lexer": "ipython2",
   "version": "2.7.12"
  }
 },
 "nbformat": 4,
 "nbformat_minor": 2
}
