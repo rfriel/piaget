{
 "cells": [
  {
   "cell_type": "code",
   "execution_count": 1,
   "metadata": {},
   "outputs": [
    {
     "name": "stderr",
     "output_type": "stream",
     "text": [
      "/home/ubuntu/env2.7/local/lib/python2.7/site-packages/trackpy/utils.py:46: UserWarning: Due to a bug in Scipy 0.18.0, the (faster) cKDTree cannot be used. For better linking performance, upgrade or downgrade scipy.\n",
      "  warnings.warn(\"Due to a bug in Scipy 0.18.0, the (faster) cKDTree cannot \"\n"
     ]
    }
   ],
   "source": [
    "from __future__ import division\n",
    "\n",
    "import gym\n",
    "import numpy as np\n",
    "import pandas as pd\n",
    "import random\n",
    "import tensorflow as tf\n",
    "import tensorflow.contrib.slim as slim\n",
    "\n",
    "import trackpy as tp\n",
    "import matplotlib.pyplot as plt\n",
    "import matplotlib.patches as patches\n",
    "\n",
    "import scipy.misc\n",
    "import os\n",
    "%matplotlib inline\n",
    "from trackpy.predict import NearestVelocityPredict\n",
    "\n",
    "import cv2"
   ]
  },
  {
   "cell_type": "code",
   "execution_count": 2,
   "metadata": {
    "collapsed": true
   },
   "outputs": [],
   "source": [
    "import pdb\n",
    "from time import sleep\n",
    "\n",
    "import tensorflow.python.platform\n",
    "from tensorflow.python.platform import gfile\n",
    "\n",
    "from PIL import Image\n",
    "import re\n",
    "\n",
    "from sklearn.linear_model import LogisticRegression\n",
    "from sklearn.cross_validation import cross_val_score\n",
    "from sklearn.metrics import log_loss\n",
    "from sklearn.preprocessing import LabelBinarizer\n",
    "\n",
    "from sklearn.tree import DecisionTreeClassifier, DecisionTreeRegressor, export_graphviz\n",
    "from sklearn.ensemble import RandomForestClassifier\n",
    "\n",
    "import cPickle"
   ]
  },
  {
   "cell_type": "code",
   "execution_count": 3,
   "metadata": {
    "collapsed": true
   },
   "outputs": [],
   "source": [
    "from piaget import Point, Mover, MoverTracker, FramePair, Box, Categorizer\n",
    "from piaget import init_env, play"
   ]
  },
  {
   "cell_type": "code",
   "execution_count": 38,
   "metadata": {
    "collapsed": true
   },
   "outputs": [],
   "source": [
    "random_seed = 66"
   ]
  },
  {
   "cell_type": "code",
   "execution_count": 46,
   "metadata": {},
   "outputs": [
    {
     "name": "stderr",
     "output_type": "stream",
     "text": [
      "[2017-06-07 03:19:58,864] Making new env: BreakoutNoFrameskip-v4\n"
     ]
    }
   ],
   "source": [
    "np.random.seed(random_seed)\n",
    "#env = gym.make('MsPacman-v0'); num_wait_steps=100;\n",
    "env = gym.make('BreakoutNoFrameskip-v4'); num_wait_steps = 1;\n",
    "#env = gym.make('Assault-v0'); num_wait_steps = 1;"
   ]
  },
  {
   "cell_type": "code",
   "execution_count": 47,
   "metadata": {
    "collapsed": true
   },
   "outputs": [],
   "source": [
    "import matplotlib.colors as mcolors\n",
    "box_colors_rgb = np.array([mcolors.hex2color(v) for v in mcolors.cnames.values()]).reshape((1,150, 3))\n",
    "box_colors_hsv = mcolors.rgb_to_hsv(box_colors_rgb)\n",
    "good_indices = (box_colors_hsv[0][:,1] > 0.5) & (box_colors_hsv[0][:,2] < 0.8)\n",
    "\n",
    "box_colors = box_colors_rgb[0][good_indices]"
   ]
  },
  {
   "cell_type": "code",
   "execution_count": 50,
   "metadata": {
    "scrolled": true
   },
   "outputs": [
    {
     "data": {
      "image/png": "[encoded data removed]",
      "text/plain": [
       "<matplotlib.figure.Figure at 0x7f1558241e90>"
      ]
     },
     "metadata": {},
     "output_type": "display_data"
    },
    {
     "name": "stdout",
     "output_type": "stream",
     "text": [
      "Join (0,), Shift (0, -3) Score 1.0\n",
      "score_forwards: 883.34591186, score_backwards: 883.34591186\n",
      "Crop: (0, -3), crop_backwards: (0, 3)\n",
      "\n",
      "Join (0,), Shift (1, -3) Score 1.08012344973\n",
      "score_forwards: 954.122633627, score_backwards: 954.122633627\n",
      "Crop: (1, -3), crop_backwards: (-1, 3)\n",
      "\n",
      "Join (0,), Shift (0, -2) Score 1.0\n",
      "score_forwards: 883.34591186, score_backwards: 883.34591186\n",
      "Crop: (0, -2), crop_backwards: (0, 2)\n",
      "\n",
      "Join (0,), Shift (1, -2) Score 1.08012344973\n",
      "score_forwards: 954.122633627, score_backwards: 954.122633627\n",
      "Crop: (1, -2), crop_backwards: (-1, 2)\n",
      "\n",
      "Join (0,), Shift (0, -3) Score 1.0\n",
      "score_forwards: 883.34591186, score_backwards: 883.34591186\n",
      "Crop: (0, -3), crop_backwards: (0, 3)\n",
      "\n",
      "Join (0,), Shift (1, -3) Score 1.08012344973\n",
      "score_forwards: 954.122633627, score_backwards: 954.122633627\n",
      "Crop: (1, -3), crop_backwards: (-1, 3)\n",
      "\n",
      "Join (0,), Shift (0, -2) Score 1.0\n",
      "score_forwards: 883.34591186, score_backwards: 883.34591186\n",
      "Crop: (0, -2), crop_backwards: (0, 2)\n",
      "\n",
      "Join (0,), Shift (1, -2) Score 1.08012344973\n",
      "score_forwards: 954.122633627, score_backwards: 954.122633627\n",
      "Crop: (1, -2), crop_backwards: (-1, 2)\n",
      "\n",
      "Join (1,), Shift (0, -3) Score 1.0\n",
      "score_forwards: 883.34591186, score_backwards: 883.34591186\n",
      "Crop: (0, -3), crop_backwards: (0, 3)\n",
      "\n",
      "Join (1,), Shift (1, -3) Score 1.08012344973\n",
      "score_forwards: 954.122633627, score_backwards: 954.122633627\n",
      "Crop: (1, -3), crop_backwards: (-1, 3)\n",
      "\n",
      "Join (1,), Shift (0, -2) Score 1.0\n",
      "score_forwards: 883.34591186, score_backwards: 883.34591186\n",
      "Crop: (0, -2), crop_backwards: (0, 2)\n",
      "\n",
      "Join (1,), Shift (1, -2) Score 1.08012344973\n",
      "score_forwards: 954.122633627, score_backwards: 954.122633627\n",
      "Crop: (1, -2), crop_backwards: (-1, 2)\n",
      "\n",
      "Join (1,), Shift (0, -3) Score 1.0\n",
      "score_forwards: 883.34591186, score_backwards: 883.34591186\n",
      "Crop: (0, -3), crop_backwards: (0, 3)\n",
      "\n",
      "Join (1,), Shift (1, -3) Score 1.08012344973\n",
      "score_forwards: 954.122633627, score_backwards: 954.122633627\n",
      "Crop: (1, -3), crop_backwards: (-1, 3)\n",
      "\n",
      "Join (1,), Shift (0, -2) Score 1.0\n",
      "score_forwards: 883.34591186, score_backwards: 883.34591186\n",
      "Crop: (0, -2), crop_backwards: (0, 2)\n",
      "\n",
      "Join (1,), Shift (1, -2) Score 1.08012344973\n",
      "score_forwards: 954.122633627, score_backwards: 954.122633627\n",
      "Crop: (1, -2), crop_backwards: (-1, 2)\n",
      "\n",
      "Join (0, 1), Shift (0, -4) Score 0.57735026919\n",
      "score_forwards: 721.24891681, score_backwards: 721.24891681\n",
      "Crop: (0, -4), crop_backwards: (0, 4)\n",
      "\n",
      "Join (0, 1), Shift (1, -4) Score 1.25830573921\n",
      "score_forwards: 1571.92557076, score_backwards: 1571.92557076\n",
      "Crop: (1, -4), crop_backwards: (-1, 4)\n",
      "\n",
      "Join (0, 1), Shift (0, -3) Score 0.0\n",
      "score_forwards: 0.0, score_backwards: 0.0\n",
      "Crop: (0, -3), crop_backwards: (0, 3)\n",
      "\n",
      "Join (0, 1), Shift (1, -3) Score 1.15470053838\n",
      "score_forwards: 1442.49783362, score_backwards: 1442.49783362\n",
      "Crop: (1, -3), crop_backwards: (-1, 3)\n",
      "\n",
      "Join (0, 1), Shift (0, -4) Score 0.57735026919\n",
      "score_forwards: 721.24891681, score_backwards: 721.24891681\n",
      "Crop: (0, -4), crop_backwards: (0, 4)\n",
      "\n",
      "Join (0, 1), Shift (1, -4) Score 1.25830573921\n",
      "score_forwards: 1571.92557076, score_backwards: 1571.92557076\n",
      "Crop: (1, -4), crop_backwards: (-1, 4)\n",
      "\n",
      "Join (0, 1), Shift (0, -3) Score 0.0\n",
      "score_forwards: 0.0, score_backwards: 0.0\n",
      "Crop: (0, -3), crop_backwards: (0, 3)\n",
      "\n",
      "Join (0, 1), Shift (1, -3) Score 1.15470053838\n",
      "score_forwards: 1442.49783362, score_backwards: 1442.49783362\n",
      "Crop: (1, -3), crop_backwards: (-1, 3)\n",
      "\n",
      "\n",
      "Starting . . . \n",
      "\n",
      "\n",
      "self.cnt_best_params: {}\n",
      "len(self.cnts): 2\n",
      "winner: 0\n",
      "winner params: [(0, 1), (0, -3)]\n",
      "winner score: 0.0\n"
     ]
    },
    {
     "data": {
      "image/png": "[encoded data removed]",
      "text/plain": [
       "<matplotlib.figure.Figure at 0x7f154e7fbd90>"
      ]
     },
     "metadata": {},
     "output_type": "display_data"
    },
    {
     "data": {
      "image/png": "[encoded data removed]",
      "text/plain": [
       "<matplotlib.figure.Figure at 0x7f154e1a5890>"
      ]
     },
     "metadata": {},
     "output_type": "display_data"
    },
    {
     "name": "stdout",
     "output_type": "stream",
     "text": [
      "Join (0,), Shift (0, 0) Score 1.0\n",
      "score_forwards: 721.24891681, score_backwards: 721.24891681\n",
      "Crop: (0, 0), crop_backwards: (0, 0)\n",
      "\n",
      "Join (0,), Shift (1, 0) Score 1.11803398875\n",
      "score_forwards: 806.380803343, score_backwards: 806.380803343\n",
      "Crop: (1, 0), crop_backwards: (-1, 0)\n",
      "\n",
      "Join (0,), Shift (0, 1) Score 1.0\n",
      "score_forwards: 721.24891681, score_backwards: 721.24891681\n",
      "Crop: (0, 1), crop_backwards: (0, -1)\n",
      "\n",
      "Join (0,), Shift (1, 1) Score 1.11803398875\n",
      "score_forwards: 806.380803343, score_backwards: 806.380803343\n",
      "Crop: (1, 1), crop_backwards: (-1, -1)\n",
      "\n",
      "Join (0,), Shift (0, 640) Score 1.0\n",
      "score_forwards: 721.24891681, score_backwards: 721.24891681\n",
      "Crop: (0, 640), crop_backwards: (0, -640)\n",
      "\n",
      "Join (0,), Shift (1, 640) Score 1.11803398875\n",
      "score_forwards: 806.380803343, score_backwards: 806.380803343\n",
      "Crop: (1, 640), crop_backwards: (-1, -640)\n",
      "\n",
      "Join (0,), Shift (0, 641) Score 1.0\n",
      "score_forwards: 721.24891681, score_backwards: 721.24891681\n",
      "Crop: (0, 641), crop_backwards: (0, -641)\n",
      "\n",
      "Join (0,), Shift (1, 641) Score 1.11803398875\n",
      "score_forwards: 806.380803343, score_backwards: 806.380803343\n",
      "Crop: (1, 641), crop_backwards: (-1, -641)\n",
      "\n",
      "Join (1,), Shift (-1, 0) Score 1.11803398875\n",
      "score_forwards: 806.380803343, score_backwards: 806.380803343\n",
      "Crop: (-1, 0), crop_backwards: (1, 0)\n",
      "\n",
      "Join (1,), Shift (0, 0) Score 1.0\n",
      "score_forwards: 721.24891681, score_backwards: 721.24891681\n",
      "Crop: (0, 0), crop_backwards: (0, 0)\n",
      "\n",
      "Join (1,), Shift (-1, 1) Score 1.11803398875\n",
      "score_forwards: 806.380803343, score_backwards: 806.380803343\n",
      "Crop: (-1, 1), crop_backwards: (1, -1)\n",
      "\n",
      "Join (1,), Shift (0, 1) Score 1.0\n",
      "score_forwards: 721.24891681, score_backwards: 721.24891681\n",
      "Crop: (0, 1), crop_backwards: (0, -1)\n",
      "\n",
      "Join (1,), Shift (-1, 640) Score 1.11803398875\n",
      "score_forwards: 806.380803343, score_backwards: 806.380803343\n",
      "Crop: (-1, 640), crop_backwards: (1, -640)\n",
      "\n",
      "Join (1,), Shift (0, 640) Score 1.0\n",
      "score_forwards: 721.24891681, score_backwards: 721.24891681\n",
      "Crop: (0, 640), crop_backwards: (0, -640)\n",
      "\n",
      "Join (1,), Shift (-1, 641) Score 1.11803398875\n",
      "score_forwards: 806.380803343, score_backwards: 806.380803343\n",
      "Crop: (-1, 641), crop_backwards: (1, -641)\n",
      "\n",
      "Join (1,), Shift (0, 641) Score 1.0\n",
      "score_forwards: 721.24891681, score_backwards: 721.24891681\n",
      "Crop: (0, 641), crop_backwards: (0, -641)\n",
      "\n",
      "Join (0, 1), Shift (0, 1) Score 0.707106781187\n",
      "score_forwards: 721.24891681, score_backwards: 721.24891681\n",
      "Crop: (0, 1), crop_backwards: (0, -1)\n",
      "\n",
      "Join (0, 1), Shift (1, 1) Score 1.54110350074\n",
      "score_forwards: 1571.92557076, score_backwards: 1571.92557076\n",
      "Crop: (1, 1), crop_backwards: (-1, -1)\n",
      "\n",
      "Join (0, 1), Shift (0, 2) Score 0.0\n",
      "score_forwards: 0.0, score_backwards: 0.0\n",
      "Crop: (0, 2), crop_backwards: (0, -2)\n",
      "\n",
      "Join (0, 1), Shift (1, 2) Score 1.41421356237\n",
      "score_forwards: 1442.49783362, score_backwards: 1442.49783362\n",
      "Crop: (1, 2), crop_backwards: (-1, -2)\n",
      "\n",
      "Join (0, 1), Shift (0, 1) Score 0.707106781187\n",
      "score_forwards: 721.24891681, score_backwards: 721.24891681\n",
      "Crop: (0, 1), crop_backwards: (0, -1)\n",
      "\n",
      "Join (0, 1), Shift (1, 1) Score 1.54110350074\n",
      "score_forwards: 1571.92557076, score_backwards: 1571.92557076\n",
      "Crop: (1, 1), crop_backwards: (-1, -1)\n",
      "\n",
      "Join (0, 1), Shift (0, 2) Score 0.0\n",
      "score_forwards: 0.0, score_backwards: 0.0\n",
      "Crop: (0, 2), crop_backwards: (0, -2)\n",
      "\n",
      "Join (0, 1), Shift (1, 2) Score 1.41421356237\n",
      "score_forwards: 1442.49783362, score_backwards: 1442.49783362\n",
      "Crop: (1, 2), crop_backwards: (-1, -2)\n",
      "\n",
      "\n",
      "Starting . . . \n",
      "\n",
      "\n",
      "self.cnt_best_params: {}\n",
      "len(self.cnts): 2\n",
      "winner: 0\n",
      "winner params: [(0, 1), (0, 2)]\n",
      "winner score: 0.0\n"
     ]
    },
    {
     "data": {
      "image/png": "[encoded data removed]",
      "text/plain": [
       "<matplotlib.figure.Figure at 0x7f154e076490>"
      ]
     },
     "metadata": {},
     "output_type": "display_data"
    },
    {
     "data": {
      "image/png": "[encoded data removed]",
      "text/plain": [
       "<matplotlib.figure.Figure at 0x7f154e811690>"
      ]
     },
     "metadata": {},
     "output_type": "display_data"
    },
    {
     "name": "stdout",
     "output_type": "stream",
     "text": [
      "Join (0,), Shift (-1, 3) Score 1.06066017178\n",
      "score_forwards: 1081.87337522, score_backwards: 1081.87337522\n",
      "Crop: (-1, 3), crop_backwards: (1, -3)\n",
      "\n",
      "Join (0,), Shift (0, 3) Score 1.0\n",
      "score_forwards: 1020.0, score_backwards: 1020.0\n",
      "Crop: (0, 3), crop_backwards: (0, -3)\n",
      "\n",
      "Join (0,), Shift (-1, 4) Score 1.06066017178\n",
      "score_forwards: 1081.87337522, score_backwards: 1081.87337522\n",
      "Crop: (-1, 4), crop_backwards: (1, -4)\n",
      "\n",
      "Join (0,), Shift (0, 4) Score 1.0\n",
      "score_forwards: 1020.0, score_backwards: 1020.0\n",
      "Crop: (0, 4), crop_backwards: (0, -4)\n",
      "\n",
      "Join (0,), Shift (-1, 1617) Score 1.06066017178\n",
      "score_forwards: 1081.87337522, score_backwards: 1081.87337522\n",
      "Crop: (-1, 1617), crop_backwards: (1, -1617)\n",
      "\n",
      "Join (0,), Shift (0, 1617) Score 1.0\n",
      "score_forwards: 1020.0, score_backwards: 1020.0\n",
      "Crop: (0, 1617), crop_backwards: (0, -1617)\n",
      "\n",
      "Join (0,), Shift (-1, 1618) Score 1.06066017178\n",
      "score_forwards: 1081.87337522, score_backwards: 1081.87337522\n",
      "Crop: (-1, 1618), crop_backwards: (1, -1618)\n",
      "\n",
      "Join (0,), Shift (0, 1618) Score 1.0\n",
      "score_forwards: 1020.0, score_backwards: 1020.0\n",
      "Crop: (0, 1618), crop_backwards: (0, -1618)\n",
      "\n",
      "Join (1,), Shift (0, 3) Score 1.0\n",
      "score_forwards: 1020.0, score_backwards: 1020.0\n",
      "Crop: (0, 3), crop_backwards: (0, -3)\n",
      "\n",
      "Join (1,), Shift (1, 3) Score 1.06066017178\n",
      "score_forwards: 1081.87337522, score_backwards: 1081.87337522\n",
      "Crop: (1, 3), crop_backwards: (-1, -3)\n",
      "\n",
      "Join (1,), Shift (0, 4) Score 1.0\n",
      "score_forwards: 1020.0, score_backwards: 1020.0\n",
      "Crop: (0, 4), crop_backwards: (0, -4)\n",
      "\n",
      "Join (1,), Shift (1, 4) Score 1.06066017178\n",
      "score_forwards: 1081.87337522, score_backwards: 1081.87337522\n",
      "Crop: (1, 4), crop_backwards: (-1, -4)\n",
      "\n",
      "Join (1,), Shift (0, 1617) Score 1.0\n",
      "score_forwards: 1020.0, score_backwards: 1020.0\n",
      "Crop: (0, 1617), crop_backwards: (0, -1617)\n",
      "\n",
      "Join (1,), Shift (1, 1617) Score 1.06066017178\n",
      "score_forwards: 1081.87337522, score_backwards: 1081.87337522\n",
      "Crop: (1, 1617), crop_backwards: (-1, -1617)\n",
      "\n",
      "Join (1,), Shift (0, 1618) Score 1.0\n",
      "score_forwards: 1020.0, score_backwards: 1020.0\n",
      "Crop: (0, 1618), crop_backwards: (0, -1618)\n",
      "\n",
      "Join (1,), Shift (1, 1618) Score 1.06066017178\n",
      "score_forwards: 1081.87337522, score_backwards: 1081.87337522\n",
      "Crop: (1, 1618), crop_backwards: (-1, -1618)\n",
      "\n",
      "Join (2,), Shift (-3, -2) Score 1.0\n",
      "score_forwards: 721.24891681, score_backwards: 721.24891681\n",
      "Crop: (-3, -2), crop_backwards: (3, 2)\n",
      "\n",
      "Join (2,), Shift (-3, -2) Score 1.0\n",
      "score_forwards: 721.24891681, score_backwards: 721.24891681\n",
      "Crop: (-3, -2), crop_backwards: (3, 2)\n",
      "\n",
      "Join (2,), Shift (-3, -2) Score 1.0\n",
      "score_forwards: 721.24891681, score_backwards: 721.24891681\n",
      "Crop: (-3, -2), crop_backwards: (3, 2)\n",
      "\n",
      "Join (2,), Shift (-3, -2) Score 1.0\n",
      "score_forwards: 721.24891681, score_backwards: 721.24891681\n",
      "Crop: (-3, -2), crop_backwards: (3, 2)\n",
      "\n",
      "Join (2,), Shift (-3, -2) Score 1.0\n",
      "score_forwards: 721.24891681, score_backwards: 721.24891681\n",
      "Crop: (-3, -2), crop_backwards: (3, 2)\n",
      "\n",
      "Join (2,), Shift (-3, -2) Score 1.0\n",
      "score_forwards: 721.24891681, score_backwards: 721.24891681\n",
      "Crop: (-3, -2), crop_backwards: (3, 2)\n",
      "\n",
      "Join (2,), Shift (-3, -2) Score 1.0\n",
      "score_forwards: 721.24891681, score_backwards: 721.24891681\n",
      "Crop: (-3, -2), crop_backwards: (3, 2)\n",
      "\n",
      "Join (2,), Shift (-3, -2) Score 1.0\n",
      "score_forwards: 721.24891681, score_backwards: 721.24891681\n",
      "Crop: (-3, -2), crop_backwards: (3, 2)\n",
      "\n",
      "Join (0, 1), Shift (-1, 4) Score 1.0\n",
      "score_forwards: 1442.49783362, score_backwards: 1442.49783362\n",
      "Crop: (-1, 4), crop_backwards: (1, -4)\n",
      "\n",
      "Join (0, 1), Shift (0, 4) Score 0.0\n",
      "score_forwards: 0.0, score_backwards: 0.0\n",
      "Crop: (0, 4), crop_backwards: (0, -4)\n",
      "\n",
      "Join (0, 1), Shift (-1, 5) Score 1.08972473589\n",
      "score_forwards: 1571.92557076, score_backwards: 1571.92557076\n",
      "Crop: (-1, 5), crop_backwards: (1, -5)\n",
      "\n",
      "Join (0, 1), Shift (0, 5) Score 0.5\n",
      "score_forwards: 721.24891681, score_backwards: 721.24891681\n",
      "Crop: (0, 5), crop_backwards: (0, -5)\n",
      "\n",
      "Join (0, 1), Shift (-1, 4) Score 1.0\n",
      "score_forwards: 1442.49783362, score_backwards: 1442.49783362\n",
      "Crop: (-1, 4), crop_backwards: (1, -4)\n",
      "\n",
      "Join (0, 1), Shift (0, 4) Score 0.0\n",
      "score_forwards: 0.0, score_backwards: 0.0\n",
      "Crop: (0, 4), crop_backwards: (0, -4)\n",
      "\n",
      "Join (0, 1), Shift (-1, 5) Score 1.08972473589\n",
      "score_forwards: 1571.92557076, score_backwards: 1571.92557076\n",
      "Crop: (-1, 5), crop_backwards: (1, -5)\n",
      "\n",
      "Join (0, 1), Shift (0, 5) Score 0.5\n",
      "score_forwards: 721.24891681, score_backwards: 721.24891681\n",
      "Crop: (0, 5), crop_backwards: (0, -5)\n",
      "\n",
      "Join (0, 2), Shift (0, 4) Score 0.4472135955\n",
      "score_forwards: 721.24891681, score_backwards: 721.24891681\n",
      "Crop: (0, 4), crop_backwards: (0, -4)\n",
      "\n",
      "Join (0, 2), Shift (1, 4) Score 1.0\n",
      "score_forwards: 1612.76160669, score_backwards: 1612.76160669\n",
      "Crop: (1, 4), crop_backwards: (-1, -4)\n",
      "\n",
      "Join (0, 2), Shift (0, 5) Score 0.632455532034\n",
      "score_forwards: 1020.0, score_backwards: 1020.0\n",
      "Crop: (0, 5), crop_backwards: (0, -5)\n",
      "\n",
      "Join (0, 2), Shift (1, 5) Score 1.07238052948\n",
      "score_forwards: 1729.4941457, score_backwards: 1729.4941457\n",
      "Crop: (1, 5), crop_backwards: (-1, -5)\n",
      "\n",
      "Join (0, 2), Shift (0, 4) Score 0.4472135955\n",
      "score_forwards: 721.24891681, score_backwards: 721.24891681\n",
      "Crop: (0, 4), crop_backwards: (0, -4)\n",
      "\n",
      "Join (0, 2), Shift (1, 4) Score 1.0\n",
      "score_forwards: 1612.76160669, score_backwards: 1612.76160669\n",
      "Crop: (1, 4), crop_backwards: (-1, -4)\n",
      "\n",
      "Join (0, 2), Shift (0, 5) Score 0.632455532034\n",
      "score_forwards: 1020.0, score_backwards: 1020.0\n",
      "Crop: (0, 5), crop_backwards: (0, -5)\n",
      "\n",
      "Join (0, 2), Shift (1, 5) Score 1.07238052948\n",
      "score_forwards: 1729.4941457, score_backwards: 1729.4941457\n",
      "Crop: (1, 5), crop_backwards: (-1, -5)\n",
      "\n",
      "Join (1, 2), Shift (-66, -82) Score 0.912870929175\n",
      "score_forwards: 1140.39466852, score_backwards: 1140.39466852\n",
      "Crop: (-66, -82), crop_backwards: (66, 82)\n",
      "\n",
      "Join (1, 2), Shift (-65, -82) Score 1.0\n",
      "score_forwards: 1249.23976882, score_backwards: 1249.23976882\n",
      "Crop: (-65, -82), crop_backwards: (65, 82)\n",
      "\n",
      "Join (1, 2), Shift (-66, -81) Score 1.04083299973\n",
      "score_forwards: 1300.24997597, score_backwards: 1300.24997597\n",
      "Crop: (-66, -81), crop_backwards: (66, 81)\n",
      "\n",
      "Join (1, 2), Shift (-65, -81) Score 1.08012344973\n",
      "score_forwards: 1349.33316864, score_backwards: 1349.33316864\n",
      "Crop: (-65, -81), crop_backwards: (65, 81)\n",
      "\n",
      "Join (1, 2), Shift (-66, -82) Score 0.912870929175\n",
      "score_forwards: 1140.39466852, score_backwards: 1140.39466852\n",
      "Crop: (-66, -82), crop_backwards: (66, 82)\n",
      "\n",
      "Join (1, 2), Shift (-65, -82) Score 1.0\n",
      "score_forwards: 1249.23976882, score_backwards: 1249.23976882\n",
      "Crop: (-65, -82), crop_backwards: (65, 82)\n",
      "\n",
      "Join (1, 2), Shift (-66, -81) Score 1.04083299973\n",
      "score_forwards: 1300.24997597, score_backwards: 1300.24997597\n",
      "Crop: (-66, -81), crop_backwards: (66, 81)\n",
      "\n",
      "Join (1, 2), Shift (-65, -81) Score 1.08012344973\n",
      "score_forwards: 1349.33316864, score_backwards: 1349.33316864\n",
      "Crop: (-65, -81), crop_backwards: (65, 81)\n",
      "\n",
      "\n",
      "Starting . . . \n",
      "\n",
      "\n",
      "self.cnt_best_params: {}\n",
      "len(self.cnts): 3\n",
      "winner: 0\n",
      "winner params: [(0, 1), (0, 4)]\n",
      "winner score: 0.0\n",
      "self.cnt_best_params: {0: [(0, 1), (0, 4)]}\n",
      "len(self.cnts): 3\n",
      "winner: 2\n",
      "winner params: [(2,), [3, 2]]\n",
      "winner score: 1\n"
     ]
    },
    {
     "data": {
      "image/png": "[encoded data removed]",
      "text/plain": [
       "<matplotlib.figure.Figure at 0x7f154e5f2dd0>"
      ]
     },
     "metadata": {},
     "output_type": "display_data"
    },
    {
     "data": {
      "image/png": "[encoded data removed]",
      "text/plain": [
       "<matplotlib.figure.Figure at 0x7f1558186450>"
      ]
     },
     "metadata": {},
     "output_type": "display_data"
    },
    {
     "data": {
      "image/png": "[encoded data removed]",
      "text/plain": [
       "<matplotlib.figure.Figure at 0x7f154e19e5d0>"
      ]
     },
     "metadata": {},
     "output_type": "display_data"
    },
    {
     "name": "stdout",
     "output_type": "stream",
     "text": [
      "Join (0,), Shift (0, 0) Score 1.0\n",
      "score_forwards: 721.24891681, score_backwards: 721.24891681\n",
      "Crop: (0, 0), crop_backwards: (0, 0)\n",
      "\n",
      "Join (0,), Shift (1, 0) Score 1.11803398875\n",
      "score_forwards: 806.380803343, score_backwards: 806.380803343\n",
      "Crop: (1, 0), crop_backwards: (-1, 0)\n",
      "\n",
      "Join (0,), Shift (0, 1) Score 1.0\n",
      "score_forwards: 721.24891681, score_backwards: 721.24891681\n",
      "Crop: (0, 1), crop_backwards: (0, -1)\n",
      "\n",
      "Join (0,), Shift (1, 1) Score 1.11803398875\n",
      "score_forwards: 806.380803343, score_backwards: 806.380803343\n",
      "Crop: (1, 1), crop_backwards: (-1, -1)\n",
      "\n",
      "Join (0,), Shift (0, 640) Score 1.0\n",
      "score_forwards: 721.24891681, score_backwards: 721.24891681\n",
      "Crop: (0, 640), crop_backwards: (0, -640)\n",
      "\n",
      "Join (0,), Shift (1, 640) Score 1.11803398875\n",
      "score_forwards: 806.380803343, score_backwards: 806.380803343\n",
      "Crop: (1, 640), crop_backwards: (-1, -640)\n",
      "\n",
      "Join (0,), Shift (0, 641) Score 1.0\n",
      "score_forwards: 721.24891681, score_backwards: 721.24891681\n",
      "Crop: (0, 641), crop_backwards: (0, -641)\n",
      "\n",
      "Join (0,), Shift (1, 641) Score 1.11803398875\n",
      "score_forwards: 806.380803343, score_backwards: 806.380803343\n",
      "Crop: (1, 641), crop_backwards: (-1, -641)\n",
      "\n",
      "Join (1,), Shift (-1, 0) Score 1.11803398875\n",
      "score_forwards: 806.380803343, score_backwards: 806.380803343\n",
      "Crop: (-1, 0), crop_backwards: (1, 0)\n",
      "\n",
      "Join (1,), Shift (0, 0) Score 1.0\n",
      "score_forwards: 721.24891681, score_backwards: 721.24891681\n",
      "Crop: (0, 0), crop_backwards: (0, 0)\n",
      "\n",
      "Join (1,), Shift (-1, 1) Score 1.11803398875\n",
      "score_forwards: 806.380803343, score_backwards: 806.380803343\n",
      "Crop: (-1, 1), crop_backwards: (1, -1)\n",
      "\n",
      "Join (1,), Shift (0, 1) Score 1.0\n",
      "score_forwards: 721.24891681, score_backwards: 721.24891681\n",
      "Crop: (0, 1), crop_backwards: (0, -1)\n",
      "\n",
      "Join (1,), Shift (-1, 640) Score 1.11803398875\n",
      "score_forwards: 806.380803343, score_backwards: 806.380803343\n",
      "Crop: (-1, 640), crop_backwards: (1, -640)\n",
      "\n",
      "Join (1,), Shift (0, 640) Score 1.0\n",
      "score_forwards: 721.24891681, score_backwards: 721.24891681\n",
      "Crop: (0, 640), crop_backwards: (0, -640)\n",
      "\n",
      "Join (1,), Shift (-1, 641) Score 1.11803398875\n",
      "score_forwards: 806.380803343, score_backwards: 806.380803343\n",
      "Crop: (-1, 641), crop_backwards: (1, -641)\n",
      "\n",
      "Join (1,), Shift (0, 641) Score 1.0\n",
      "score_forwards: 721.24891681, score_backwards: 721.24891681\n",
      "Crop: (0, 641), crop_backwards: (0, -641)\n",
      "\n",
      "Join (2,), Shift (-3, 3) Score 1.26491106407\n",
      "score_forwards: 1020.0, score_backwards: 1020.0\n",
      "Crop: (-3, 3), crop_backwards: (3, -3)\n",
      "\n",
      "Join (2,), Shift (5, 3) Score 1.26491106407\n",
      "score_forwards: 1020.0, score_backwards: 1020.0\n",
      "Crop: (5, 3), crop_backwards: (-5, -3)\n",
      "\n",
      "Join (2,), Shift (-3, -1) Score 1.26491106407\n",
      "score_forwards: 1020.0, score_backwards: 1020.0\n",
      "Crop: (-3, -1), crop_backwards: (3, 1)\n",
      "\n",
      "Join (2,), Shift (5, -1) Score 1.26491106407\n",
      "score_forwards: 1020.0, score_backwards: 1020.0\n",
      "Crop: (5, -1), crop_backwards: (-5, 1)\n",
      "\n",
      "Join (2,), Shift (-3, 3) Score 1.26491106407\n",
      "score_forwards: 1020.0, score_backwards: 1020.0\n",
      "Crop: (-3, 3), crop_backwards: (3, -3)\n",
      "\n",
      "Join (2,), Shift (5, 3) Score 1.26491106407\n",
      "score_forwards: 1020.0, score_backwards: 1020.0\n",
      "Crop: (5, 3), crop_backwards: (-5, -3)\n",
      "\n",
      "Join (2,), Shift (-3, -1) Score 1.26491106407\n",
      "score_forwards: 1020.0, score_backwards: 1020.0\n",
      "Crop: (-3, -1), crop_backwards: (3, 1)\n",
      "\n",
      "Join (2,), Shift (5, -1) Score 1.26491106407\n",
      "score_forwards: 1020.0, score_backwards: 1020.0\n",
      "Crop: (5, -1), crop_backwards: (-5, 1)\n",
      "\n",
      "Join (0, 1), Shift (0, 1) Score 0.707106781187\n",
      "score_forwards: 721.24891681, score_backwards: 721.24891681\n",
      "Crop: (0, 1), crop_backwards: (0, -1)\n",
      "\n",
      "Join (0, 1), Shift (1, 1) Score 1.54110350074\n",
      "score_forwards: 1571.92557076, score_backwards: 1571.92557076\n",
      "Crop: (1, 1), crop_backwards: (-1, -1)\n",
      "\n",
      "Join (0, 1), Shift (0, 2) Score 0.0\n",
      "score_forwards: 0.0, score_backwards: 0.0\n",
      "Crop: (0, 2), crop_backwards: (0, -2)\n",
      "\n",
      "Join (0, 1), Shift (1, 2) Score 1.41421356237\n",
      "score_forwards: 1442.49783362, score_backwards: 1442.49783362\n",
      "Crop: (1, 2), crop_backwards: (-1, -2)\n",
      "\n",
      "Join (0, 1), Shift (0, 1) Score 0.707106781187\n",
      "score_forwards: 721.24891681, score_backwards: 721.24891681\n",
      "Crop: (0, 1), crop_backwards: (0, -1)\n",
      "\n",
      "Join (0, 1), Shift (1, 1) Score 1.54110350074\n",
      "score_forwards: 1571.92557076, score_backwards: 1571.92557076\n",
      "Crop: (1, 1), crop_backwards: (-1, -1)\n",
      "\n",
      "Join (0, 1), Shift (0, 2) Score 0.0\n",
      "score_forwards: 0.0, score_backwards: 0.0\n",
      "Crop: (0, 2), crop_backwards: (0, -2)\n",
      "\n",
      "Join (0, 1), Shift (1, 2) Score 1.41421356237\n",
      "score_forwards: 1442.49783362, score_backwards: 1442.49783362\n",
      "Crop: (1, 2), crop_backwards: (-1, -2)\n",
      "\n",
      "Join (0, 2), Shift (0, 2) Score 0.620173672946\n",
      "score_forwards: 806.380803343, score_backwards: 806.380803343\n",
      "Crop: (0, 2), crop_backwards: (0, -2)\n",
      "\n",
      "Join (0, 2), Shift (1, 2) Score 1.24034734589\n",
      "score_forwards: 1612.76160669, score_backwards: 1612.76160669\n",
      "Crop: (1, 2), crop_backwards: (-1, -2)\n",
      "\n",
      "Join (0, 2), Shift (0, 3) Score 0.960768922831\n",
      "score_forwards: 1249.23976882, score_backwards: 1249.23976882\n",
      "Crop: (0, 3), crop_backwards: (0, -3)\n",
      "\n",
      "Join (0, 2), Shift (1, 3) Score 1.44115338425\n",
      "score_forwards: 1873.85965323, score_backwards: 1873.85965323\n",
      "Crop: (1, 3), crop_backwards: (-1, -3)\n",
      "\n",
      "Join (0, 2), Shift (0, 2) Score 0.620173672946\n",
      "score_forwards: 806.380803343, score_backwards: 806.380803343\n",
      "Crop: (0, 2), crop_backwards: (0, -2)\n",
      "\n",
      "Join (0, 2), Shift (1, 2) Score 1.24034734589\n",
      "score_forwards: 1612.76160669, score_backwards: 1612.76160669\n",
      "Crop: (1, 2), crop_backwards: (-1, -2)\n",
      "\n",
      "Join (0, 2), Shift (0, 3) Score 0.960768922831\n",
      "score_forwards: 1249.23976882, score_backwards: 1249.23976882\n",
      "Crop: (0, 3), crop_backwards: (0, -3)\n",
      "\n",
      "Join (0, 2), Shift (1, 3) Score 1.44115338425\n",
      "score_forwards: 1873.85965323, score_backwards: 1873.85965323\n",
      "Crop: (1, 3), crop_backwards: (-1, -3)\n",
      "\n",
      "Join (1, 2), Shift (-37, -45) Score 1.33333333333\n",
      "score_forwards: 1442.49783362, score_backwards: 1442.49783362\n",
      "Crop: (-37, -45), crop_backwards: (37, 45)\n",
      "\n",
      "Join (1, 2), Shift (-36, -45) Score 1.33333333333\n",
      "score_forwards: 1442.49783362, score_backwards: 1442.49783362\n",
      "Crop: (-36, -45), crop_backwards: (36, 45)\n",
      "\n",
      "Join (1, 2), Shift (-37, -44) Score 1.33333333333\n",
      "score_forwards: 1442.49783362, score_backwards: 1442.49783362\n",
      "Crop: (-37, -44), crop_backwards: (37, 44)\n",
      "\n",
      "Join (1, 2), Shift (-36, -44) Score 1.33333333333\n",
      "score_forwards: 1442.49783362, score_backwards: 1442.49783362\n",
      "Crop: (-36, -44), crop_backwards: (36, 44)\n",
      "\n",
      "Join (1, 2), Shift (-37, -45) Score 1.33333333333\n",
      "score_forwards: 1442.49783362, score_backwards: 1442.49783362\n",
      "Crop: (-37, -45), crop_backwards: (37, 45)\n",
      "\n",
      "Join (1, 2), Shift (-36, -45) Score 1.33333333333\n",
      "score_forwards: 1442.49783362, score_backwards: 1442.49783362\n",
      "Crop: (-36, -45), crop_backwards: (36, 45)\n",
      "\n",
      "Join (1, 2), Shift (-37, -44) Score 1.33333333333\n",
      "score_forwards: 1442.49783362, score_backwards: 1442.49783362\n",
      "Crop: (-37, -44), crop_backwards: (37, 44)\n",
      "\n",
      "Join (1, 2), Shift (-36, -44) Score 1.33333333333\n",
      "score_forwards: 1442.49783362, score_backwards: 1442.49783362\n",
      "Crop: (-36, -44), crop_backwards: (36, 44)\n",
      "\n",
      "\n",
      "Starting . . . \n",
      "\n",
      "\n",
      "self.cnt_best_params: {}\n",
      "len(self.cnts): 3\n",
      "winner: 0\n",
      "winner params: [(0, 1), (0, 2)]\n",
      "winner score: 0.0\n",
      "self.cnt_best_params: {0: [(0, 1), (0, 2)]}\n",
      "len(self.cnts): 3\n",
      "winner: 2\n",
      "winner params: [(2,), [4, 3]]\n",
      "winner score: 1\n"
     ]
    },
    {
     "data": {
      "image/png": "[encoded data removed]",
      "text/plain": [
       "<matplotlib.figure.Figure at 0x7f154e067e50>"
      ]
     },
     "metadata": {},
     "output_type": "display_data"
    },
    {
     "data": {
      "image/png": "[encoded data removed]",
      "text/plain": [
       "<matplotlib.figure.Figure at 0x7f154db28c50>"
      ]
     },
     "metadata": {},
     "output_type": "display_data"
    },
    {
     "data": {
      "image/png": "[encoded data removed]",
      "text/plain": [
       "<matplotlib.figure.Figure at 0x7f154e98d850>"
      ]
     },
     "metadata": {},
     "output_type": "display_data"
    },
    {
     "name": "stdout",
     "output_type": "stream",
     "text": [
      "Join (0,), Shift (-1, 1) Score 1.41421356237\n",
      "score_forwards: 1020.0, score_backwards: 1020.0\n",
      "Crop: (-1, 1), crop_backwards: (1, -1)\n",
      "\n",
      "Join (0,), Shift (0, 1) Score 1.41421356237\n",
      "score_forwards: 1020.0, score_backwards: 1020.0\n",
      "Crop: (0, 1), crop_backwards: (0, -1)\n",
      "\n",
      "Join (0,), Shift (-1, -2) Score 1.11803398875\n",
      "score_forwards: 806.380803343, score_backwards: 806.380803343\n",
      "Crop: (-1, -2), crop_backwards: (1, 2)\n",
      "\n",
      "Join (0,), Shift (0, -2) Score 1.0\n",
      "score_forwards: 721.24891681, score_backwards: 721.24891681\n",
      "Crop: (0, -2), crop_backwards: (0, 2)\n",
      "\n",
      "Join (0,), Shift (-1, -931) Score 1.41421356237\n",
      "score_forwards: 1020.0, score_backwards: 1020.0\n",
      "Crop: (-1, -931), crop_backwards: (1, 931)\n",
      "\n",
      "Join (0,), Shift (0, -931) Score 1.41421356237\n",
      "score_forwards: 1020.0, score_backwards: 1020.0\n",
      "Crop: (0, -931), crop_backwards: (0, 931)\n",
      "\n",
      "Join (0,), Shift (-1, -930) Score 1.11803398875\n",
      "score_forwards: 806.380803343, score_backwards: 806.380803343\n",
      "Crop: (-1, -930), crop_backwards: (1, 930)\n",
      "\n",
      "Join (0,), Shift (0, -930) Score 1.0\n",
      "score_forwards: 721.24891681, score_backwards: 721.24891681\n",
      "Crop: (0, -930), crop_backwards: (0, 930)\n",
      "\n",
      "Join (1,), Shift (0, 1) Score 1.41421356237\n",
      "score_forwards: 1020.0, score_backwards: 1020.0\n",
      "Crop: (0, 1), crop_backwards: (0, -1)\n",
      "\n",
      "Join (1,), Shift (1, 1) Score 1.41421356237\n",
      "score_forwards: 1020.0, score_backwards: 1020.0\n",
      "Crop: (1, 1), crop_backwards: (-1, -1)\n",
      "\n",
      "Join (1,), Shift (0, -2) Score 1.0\n",
      "score_forwards: 721.24891681, score_backwards: 721.24891681\n",
      "Crop: (0, -2), crop_backwards: (0, 2)\n",
      "\n",
      "Join (1,), Shift (1, -2) Score 1.11803398875\n",
      "score_forwards: 806.380803343, score_backwards: 806.380803343\n",
      "Crop: (1, -2), crop_backwards: (-1, 2)\n",
      "\n",
      "Join (1,), Shift (0, -931) Score 1.41421356237\n",
      "score_forwards: 1020.0, score_backwards: 1020.0\n",
      "Crop: (0, -931), crop_backwards: (0, 931)\n",
      "\n",
      "Join (1,), Shift (1, -931) Score 1.41421356237\n",
      "score_forwards: 1020.0, score_backwards: 1020.0\n",
      "Crop: (1, -931), crop_backwards: (-1, 931)\n",
      "\n",
      "Join (1,), Shift (0, -930) Score 1.0\n",
      "score_forwards: 721.24891681, score_backwards: 721.24891681\n",
      "Crop: (0, -930), crop_backwards: (0, 930)\n",
      "\n",
      "Join (1,), Shift (1, -930) Score 1.11803398875\n",
      "score_forwards: 806.380803343, score_backwards: 806.380803343\n",
      "Crop: (1, -930), crop_backwards: (-1, 930)\n",
      "\n",
      "Join (2,), Shift (-3, 3) Score 1.26491106407\n",
      "score_forwards: 1020.0, score_backwards: 1020.0\n",
      "Crop: (-3, 3), crop_backwards: (3, -3)\n",
      "\n",
      "Join (2,), Shift (5, 3) Score 1.26491106407\n",
      "score_forwards: 1020.0, score_backwards: 1020.0\n",
      "Crop: (5, 3), crop_backwards: (-5, -3)\n",
      "\n",
      "Join (2,), Shift (-3, -1) Score 1.26491106407\n",
      "score_forwards: 1020.0, score_backwards: 1020.0\n",
      "Crop: (-3, -1), crop_backwards: (3, 1)\n",
      "\n",
      "Join (2,), Shift (5, -1) Score 1.26491106407\n",
      "score_forwards: 1020.0, score_backwards: 1020.0\n",
      "Crop: (5, -1), crop_backwards: (-5, 1)\n",
      "\n",
      "Join (2,), Shift (-3, 3) Score 1.26491106407\n",
      "score_forwards: 1020.0, score_backwards: 1020.0\n",
      "Crop: (-3, 3), crop_backwards: (3, -3)\n",
      "\n",
      "Join (2,), Shift (5, 3) Score 1.26491106407\n",
      "score_forwards: 1020.0, score_backwards: 1020.0\n",
      "Crop: (5, 3), crop_backwards: (-5, -3)\n",
      "\n",
      "Join (2,), Shift (-3, -1) Score 1.26491106407\n",
      "score_forwards: 1020.0, score_backwards: 1020.0\n",
      "Crop: (-3, -1), crop_backwards: (3, 1)\n",
      "\n",
      "Join (2,), Shift (5, -1) Score 1.26491106407\n",
      "score_forwards: 1020.0, score_backwards: 1020.0\n",
      "Crop: (5, -1), crop_backwards: (-5, 1)\n",
      "\n",
      "Join (0, 1), Shift (-1, -3) Score 1.54110350074\n",
      "score_forwards: 1571.92557076, score_backwards: 1571.92557076\n",
      "Crop: (-1, -3), crop_backwards: (1, 3)\n",
      "\n",
      "Join (0, 1), Shift (0, -3) Score 0.707106781187\n",
      "score_forwards: 721.24891681, score_backwards: 721.24891681\n",
      "Crop: (0, -3), crop_backwards: (0, 3)\n",
      "\n",
      "Join (0, 1), Shift (-1, -2) Score 1.41421356237\n",
      "score_forwards: 1442.49783362, score_backwards: 1442.49783362\n",
      "Crop: (-1, -2), crop_backwards: (1, 2)\n",
      "\n",
      "Join (0, 1), Shift (0, -2) Score 0.0\n",
      "score_forwards: 0.0, score_backwards: 0.0\n",
      "Crop: (0, -2), crop_backwards: (0, 2)\n",
      "\n",
      "Join (0, 1), Shift (-1, -3) Score 1.54110350074\n",
      "score_forwards: 1571.92557076, score_backwards: 1571.92557076\n",
      "Crop: (-1, -3), crop_backwards: (1, 3)\n",
      "\n",
      "Join (0, 1), Shift (0, -3) Score 0.707106781187\n",
      "score_forwards: 721.24891681, score_backwards: 721.24891681\n",
      "Crop: (0, -3), crop_backwards: (0, 3)\n",
      "\n",
      "Join (0, 1), Shift (-1, -2) Score 1.41421356237\n",
      "score_forwards: 1442.49783362, score_backwards: 1442.49783362\n",
      "Crop: (-1, -2), crop_backwards: (1, 2)\n",
      "\n",
      "Join (0, 1), Shift (0, -2) Score 0.0\n",
      "score_forwards: 0.0, score_backwards: 0.0\n",
      "Crop: (0, -2), crop_backwards: (0, 2)\n",
      "\n",
      "Join (0, 2), Shift (-1, -3) Score 1.44115338425\n",
      "score_forwards: 1873.85965323, score_backwards: 1873.85965323\n",
      "Crop: (-1, -3), crop_backwards: (1, 3)\n",
      "\n",
      "Join (0, 2), Shift (0, -3) Score 0.960768922831\n",
      "score_forwards: 1249.23976882, score_backwards: 1249.23976882\n",
      "Crop: (0, -3), crop_backwards: (0, 3)\n",
      "\n",
      "Join (0, 2), Shift (-1, -2) Score 1.35873244097\n",
      "score_forwards: 1766.69182372, score_backwards: 1766.69182372\n",
      "Crop: (-1, -2), crop_backwards: (1, 2)\n",
      "\n",
      "Join (0, 2), Shift (0, -2) Score 0.784464540553\n",
      "score_forwards: 1020.0, score_backwards: 1020.0\n",
      "Crop: (0, -2), crop_backwards: (0, 2)\n",
      "\n",
      "Join (0, 2), Shift (-1, -3) Score 1.44115338425\n",
      "score_forwards: 1873.85965323, score_backwards: 1873.85965323\n",
      "Crop: (-1, -3), crop_backwards: (1, 3)\n",
      "\n",
      "Join (0, 2), Shift (0, -3) Score 0.960768922831\n",
      "score_forwards: 1249.23976882, score_backwards: 1249.23976882\n",
      "Crop: (0, -3), crop_backwards: (0, 3)\n",
      "\n",
      "Join (0, 2), Shift (-1, -2) Score 1.35873244097\n",
      "score_forwards: 1766.69182372, score_backwards: 1766.69182372\n",
      "Crop: (-1, -2), crop_backwards: (1, 2)\n",
      "\n",
      "Join (0, 2), Shift (0, -2) Score 0.784464540553\n",
      "score_forwards: 1020.0, score_backwards: 1020.0\n",
      "Crop: (0, -2), crop_backwards: (0, 2)\n",
      "\n",
      "Join (1, 2), Shift (0, 0) Score 1.0\n",
      "score_forwards: 1081.87337522, score_backwards: 1081.87337522\n",
      "Crop: (0, 0), crop_backwards: (0, 0)\n",
      "\n",
      "Join (1, 2), Shift (1, 0) Score 1.0\n",
      "score_forwards: 1081.87337522, score_backwards: 1081.87337522\n",
      "Crop: (1, 0), crop_backwards: (-1, 0)\n",
      "\n",
      "Join (1, 2), Shift (0, -88) Score 1.05409255339\n",
      "score_forwards: 1140.39466852, score_backwards: 1140.39466852\n",
      "Crop: (0, -88), crop_backwards: (0, 88)\n",
      "\n",
      "Join (1, 2), Shift (1, -88) Score 0.942809041582\n",
      "score_forwards: 1020.0, score_backwards: 1020.0\n",
      "Crop: (1, -88), crop_backwards: (-1, 88)\n",
      "\n",
      "Join (1, 2), Shift (0, 0) Score 1.0\n",
      "score_forwards: 1081.87337522, score_backwards: 1081.87337522\n",
      "Crop: (0, 0), crop_backwards: (0, 0)\n",
      "\n",
      "Join (1, 2), Shift (1, 0) Score 1.0\n",
      "score_forwards: 1081.87337522, score_backwards: 1081.87337522\n",
      "Crop: (1, 0), crop_backwards: (-1, 0)\n",
      "\n",
      "Join (1, 2), Shift (0, -88) Score 1.05409255339\n",
      "score_forwards: 1140.39466852, score_backwards: 1140.39466852\n",
      "Crop: (0, -88), crop_backwards: (0, 88)\n",
      "\n",
      "Join (1, 2), Shift (1, -88) Score 0.942809041582\n",
      "score_forwards: 1020.0, score_backwards: 1020.0\n",
      "Crop: (1, -88), crop_backwards: (-1, 88)\n",
      "\n",
      "\n",
      "Starting . . . \n",
      "\n",
      "\n",
      "self.cnt_best_params: {}\n",
      "len(self.cnts): 3\n",
      "winner: 0\n",
      "winner params: [(0, 1), (0, -2)]\n",
      "winner score: 0.0\n",
      "self.cnt_best_params: {0: [(0, 1), (0, -2)]}\n",
      "len(self.cnts): 3\n",
      "winner: 2\n",
      "winner params: [(2,), [4, 3]]\n",
      "winner score: 1\n"
     ]
    },
    {
     "data": {
      "image/png": "[encoded data removed]",
      "text/plain": [
       "<matplotlib.figure.Figure at 0x7f154eec0f50>"
      ]
     },
     "metadata": {},
     "output_type": "display_data"
    },
    {
     "data": {
      "image/png": "[encoded data removed]",
      "text/plain": [
       "<matplotlib.figure.Figure at 0x7f154e2d68d0>"
      ]
     },
     "metadata": {},
     "output_type": "display_data"
    },
    {
     "data": {
      "image/png": "[encoded data removed]",
      "text/plain": [
       "<matplotlib.figure.Figure at 0x7f155825dd10>"
      ]
     },
     "metadata": {},
     "output_type": "display_data"
    },
    {
     "name": "stdout",
     "output_type": "stream",
     "text": [
      "Join (0,), Shift (-1, -3) Score 1.06066017178\n",
      "score_forwards: 1081.87337522, score_backwards: 1081.87337522\n",
      "Crop: (-1, -3), crop_backwards: (1, 3)\n",
      "\n",
      "Join (0,), Shift (0, -3) Score 1.0\n",
      "score_forwards: 1020.0, score_backwards: 1020.0\n",
      "Crop: (0, -3), crop_backwards: (0, 3)\n",
      "\n",
      "Join (0,), Shift (-1, -2) Score 1.06066017178\n",
      "score_forwards: 1081.87337522, score_backwards: 1081.87337522\n",
      "Crop: (-1, -2), crop_backwards: (1, 2)\n",
      "\n",
      "Join (0,), Shift (0, -2) Score 1.0\n",
      "score_forwards: 1020.0, score_backwards: 1020.0\n",
      "Crop: (0, -2), crop_backwards: (0, 2)\n",
      "\n",
      "Join (0,), Shift (-1, -3) Score 1.06066017178\n",
      "score_forwards: 1081.87337522, score_backwards: 1081.87337522\n",
      "Crop: (-1, -3), crop_backwards: (1, 3)\n",
      "\n",
      "Join (0,), Shift (0, -3) Score 1.0\n",
      "score_forwards: 1020.0, score_backwards: 1020.0\n",
      "Crop: (0, -3), crop_backwards: (0, 3)\n",
      "\n",
      "Join (0,), Shift (-1, -2) Score 1.06066017178\n",
      "score_forwards: 1081.87337522, score_backwards: 1081.87337522\n",
      "Crop: (-1, -2), crop_backwards: (1, 2)\n",
      "\n",
      "Join (0,), Shift (0, -2) Score 1.0\n",
      "score_forwards: 1020.0, score_backwards: 1020.0\n",
      "Crop: (0, -2), crop_backwards: (0, 2)\n",
      "\n",
      "Join (1,), Shift (-1, -3) Score 1.06066017178\n",
      "score_forwards: 1081.87337522, score_backwards: 1081.87337522\n",
      "Crop: (-1, -3), crop_backwards: (1, 3)\n",
      "\n",
      "Join (1,), Shift (0, -3) Score 1.0\n",
      "score_forwards: 1020.0, score_backwards: 1020.0\n",
      "Crop: (0, -3), crop_backwards: (0, 3)\n",
      "\n",
      "Join (1,), Shift (-1, -2) Score 1.06066017178\n",
      "score_forwards: 1081.87337522, score_backwards: 1081.87337522\n",
      "Crop: (-1, -2), crop_backwards: (1, 2)\n",
      "\n",
      "Join (1,), Shift (0, -2) Score 1.0\n",
      "score_forwards: 1020.0, score_backwards: 1020.0\n",
      "Crop: (0, -2), crop_backwards: (0, 2)\n",
      "\n",
      "Join (1,), Shift (-1, -3) Score 1.06066017178\n",
      "score_forwards: 1081.87337522, score_backwards: 1081.87337522\n",
      "Crop: (-1, -3), crop_backwards: (1, 3)\n",
      "\n",
      "Join (1,), Shift (0, -3) Score 1.0\n",
      "score_forwards: 1020.0, score_backwards: 1020.0\n",
      "Crop: (0, -3), crop_backwards: (0, 3)\n",
      "\n",
      "Join (1,), Shift (-1, -2) Score 1.06066017178\n",
      "score_forwards: 1081.87337522, score_backwards: 1081.87337522\n",
      "Crop: (-1, -2), crop_backwards: (1, 2)\n",
      "\n",
      "Join (1,), Shift (0, -2) Score 1.0\n",
      "score_forwards: 1020.0, score_backwards: 1020.0\n",
      "Crop: (0, -2), crop_backwards: (0, 2)\n",
      "\n",
      "Join (2,), Shift (-3, 3) Score 1.26491106407\n",
      "score_forwards: 1020.0, score_backwards: 1020.0\n",
      "Crop: (-3, 3), crop_backwards: (3, -3)\n",
      "\n",
      "Join (2,), Shift (5, 3) Score 1.26491106407\n",
      "score_forwards: 1020.0, score_backwards: 1020.0\n",
      "Crop: (5, 3), crop_backwards: (-5, -3)\n",
      "\n",
      "Join (2,), Shift (-3, -1) Score 1.26491106407\n",
      "score_forwards: 1020.0, score_backwards: 1020.0\n",
      "Crop: (-3, -1), crop_backwards: (3, 1)\n",
      "\n",
      "Join (2,), Shift (5, -1) Score 1.26491106407\n",
      "score_forwards: 1020.0, score_backwards: 1020.0\n",
      "Crop: (5, -1), crop_backwards: (-5, 1)\n",
      "\n",
      "Join (2,), Shift (-3, 3) Score 1.26491106407\n",
      "score_forwards: 1020.0, score_backwards: 1020.0\n",
      "Crop: (-3, 3), crop_backwards: (3, -3)\n",
      "\n",
      "Join (2,), Shift (5, 3) Score 1.26491106407\n",
      "score_forwards: 1020.0, score_backwards: 1020.0\n",
      "Crop: (5, 3), crop_backwards: (-5, -3)\n",
      "\n",
      "Join (2,), Shift (-3, -1) Score 1.26491106407\n",
      "score_forwards: 1020.0, score_backwards: 1020.0\n",
      "Crop: (-3, -1), crop_backwards: (3, 1)\n",
      "\n",
      "Join (2,), Shift (5, -1) Score 1.26491106407\n",
      "score_forwards: 1020.0, score_backwards: 1020.0\n",
      "Crop: (5, -1), crop_backwards: (-5, 1)\n",
      "\n",
      "Join (0, 1), Shift (0, -5) Score 0.5\n",
      "score_forwards: 721.24891681, score_backwards: 721.24891681\n",
      "Crop: (0, -5), crop_backwards: (0, 5)\n",
      "\n",
      "Join (0, 1), Shift (1, -5) Score 1.08972473589\n",
      "score_forwards: 1571.92557076, score_backwards: 1571.92557076\n",
      "Crop: (1, -5), crop_backwards: (-1, 5)\n",
      "\n",
      "Join (0, 1), Shift (0, -4) Score 0.0\n",
      "score_forwards: 0.0, score_backwards: 0.0\n",
      "Crop: (0, -4), crop_backwards: (0, 4)\n",
      "\n",
      "Join (0, 1), Shift (1, -4) Score 1.0\n",
      "score_forwards: 1442.49783362, score_backwards: 1442.49783362\n",
      "Crop: (1, -4), crop_backwards: (-1, 4)\n",
      "\n",
      "Join (0, 1), Shift (0, -5) Score 0.5\n",
      "score_forwards: 721.24891681, score_backwards: 721.24891681\n",
      "Crop: (0, -5), crop_backwards: (0, 5)\n",
      "\n",
      "Join (0, 1), Shift (1, -5) Score 1.08972473589\n",
      "score_forwards: 1571.92557076, score_backwards: 1571.92557076\n",
      "Crop: (1, -5), crop_backwards: (-1, 5)\n",
      "\n",
      "Join (0, 1), Shift (0, -4) Score 0.0\n",
      "score_forwards: 0.0, score_backwards: 0.0\n",
      "Crop: (0, -4), crop_backwards: (0, 4)\n",
      "\n",
      "Join (0, 1), Shift (1, -4) Score 1.0\n",
      "score_forwards: 1442.49783362, score_backwards: 1442.49783362\n",
      "Crop: (1, -4), crop_backwards: (-1, 4)\n",
      "\n",
      "Join (0, 2), Shift (-1, -5) Score 1.13389341903\n",
      "score_forwards: 1873.85965323, score_backwards: 1873.85965323\n",
      "Crop: (-1, -5), crop_backwards: (1, 5)\n",
      "\n",
      "Join (0, 2), Shift (0, -5) Score 0.755928946018\n",
      "score_forwards: 1249.23976882, score_backwards: 1249.23976882\n",
      "Crop: (0, -5), crop_backwards: (0, 5)\n",
      "\n",
      "Join (0, 2), Shift (-1, -4) Score 1.06904496765\n",
      "score_forwards: 1766.69182372, score_backwards: 1766.69182372\n",
      "Crop: (-1, -4), crop_backwards: (1, 4)\n",
      "\n",
      "Join (0, 2), Shift (0, -4) Score 0.617213399848\n",
      "score_forwards: 1020.0, score_backwards: 1020.0\n",
      "Crop: (0, -4), crop_backwards: (0, 4)\n",
      "\n",
      "Join (0, 2), Shift (-1, -5) Score 1.13389341903\n",
      "score_forwards: 1873.85965323, score_backwards: 1873.85965323\n",
      "Crop: (-1, -5), crop_backwards: (1, 5)\n",
      "\n",
      "Join (0, 2), Shift (0, -5) Score 0.755928946018\n",
      "score_forwards: 1249.23976882, score_backwards: 1249.23976882\n",
      "Crop: (0, -5), crop_backwards: (0, 5)\n",
      "\n",
      "Join (0, 2), Shift (-1, -4) Score 1.06904496765\n",
      "score_forwards: 1766.69182372, score_backwards: 1766.69182372\n",
      "Crop: (-1, -4), crop_backwards: (1, 4)\n",
      "\n",
      "Join (0, 2), Shift (0, -4) Score 0.617213399848\n",
      "score_forwards: 1020.0, score_backwards: 1020.0\n",
      "Crop: (0, -4), crop_backwards: (0, 4)\n",
      "\n",
      "Join (1, 2), Shift (0, 0) Score 1.0\n",
      "score_forwards: 1300.24997597, score_backwards: 1300.24997597\n",
      "Crop: (0, 0), crop_backwards: (0, 0)\n",
      "\n",
      "Join (1, 2), Shift (1, 0) Score 1.0\n",
      "score_forwards: 1300.24997597, score_backwards: 1300.24997597\n",
      "Crop: (1, 0), crop_backwards: (-1, 0)\n",
      "\n",
      "Join (1, 2), Shift (0, -85) Score 1.03774904333\n",
      "score_forwards: 1349.33316864, score_backwards: 1349.33316864\n",
      "Crop: (0, -85), crop_backwards: (0, 85)\n",
      "\n",
      "Join (1, 2), Shift (1, -85) Score 0.960768922831\n",
      "score_forwards: 1249.23976882, score_backwards: 1249.23976882\n",
      "Crop: (1, -85), crop_backwards: (-1, 85)\n",
      "\n",
      "Join (1, 2), Shift (0, 0) Score 1.0\n",
      "score_forwards: 1300.24997597, score_backwards: 1300.24997597\n",
      "Crop: (0, 0), crop_backwards: (0, 0)\n",
      "\n",
      "Join (1, 2), Shift (1, 0) Score 1.0\n",
      "score_forwards: 1300.24997597, score_backwards: 1300.24997597\n",
      "Crop: (1, 0), crop_backwards: (-1, 0)\n",
      "\n",
      "Join (1, 2), Shift (0, -85) Score 1.03774904333\n",
      "score_forwards: 1349.33316864, score_backwards: 1349.33316864\n",
      "Crop: (0, -85), crop_backwards: (0, 85)\n",
      "\n",
      "Join (1, 2), Shift (1, -85) Score 0.960768922831\n",
      "score_forwards: 1249.23976882, score_backwards: 1249.23976882\n",
      "Crop: (1, -85), crop_backwards: (-1, 85)\n",
      "\n",
      "\n",
      "Starting . . . \n",
      "\n",
      "\n",
      "self.cnt_best_params: {}\n",
      "len(self.cnts): 3\n",
      "winner: 0\n",
      "winner params: [(0, 1), (0, -4)]\n",
      "winner score: 0.0\n",
      "self.cnt_best_params: {0: [(0, 1), (0, -4)]}\n",
      "len(self.cnts): 3\n",
      "winner: 2\n",
      "winner params: [(2,), [4, 3]]\n",
      "winner score: 1\n"
     ]
    },
    {
     "data": {
      "image/png": "[encoded data removed]",
      "text/plain": [
       "<matplotlib.figure.Figure at 0x7f154eca9ed0>"
      ]
     },
     "metadata": {},
     "output_type": "display_data"
    },
    {
     "data": {
      "image/png": "[encoded data removed]",
      "text/plain": [
       "<matplotlib.figure.Figure at 0x7f154ef46d90>"
      ]
     },
     "metadata": {},
     "output_type": "display_data"
    },
    {
     "data": {
      "image/png": "[encoded data removed]",
      "text/plain": [
       "<matplotlib.figure.Figure at 0x7f154e453910>"
      ]
     },
     "metadata": {},
     "output_type": "display_data"
    },
    {
     "name": "stdout",
     "output_type": "stream",
     "text": [
      "Join (0,), Shift (-1, 0) Score 1.04880884817\n",
      "score_forwards: 1196.05601875, score_backwards: 1196.05601875\n",
      "Crop: (-1, 0), crop_backwards: (1, 0)\n",
      "\n",
      "Join (0,), Shift (0, 0) Score 1.0\n",
      "score_forwards: 1140.39466852, score_backwards: 1140.39466852\n",
      "Crop: (0, 0), crop_backwards: (0, 0)\n",
      "\n",
      "Join (0,), Shift (-1, 1) Score 1.18321595662\n",
      "score_forwards: 1349.33316864, score_backwards: 1349.33316864\n",
      "Crop: (-1, 1), crop_backwards: (1, -1)\n",
      "\n",
      "Join (0,), Shift (0, 1) Score 1.18321595662\n",
      "score_forwards: 1349.33316864, score_backwards: 1349.33316864\n",
      "Crop: (0, 1), crop_backwards: (0, -1)\n",
      "\n",
      "Join (0,), Shift (-1, 0) Score 1.04880884817\n",
      "score_forwards: 1196.05601875, score_backwards: 1196.05601875\n",
      "Crop: (-1, 0), crop_backwards: (1, 0)\n",
      "\n",
      "Join (0,), Shift (0, 0) Score 1.0\n",
      "score_forwards: 1140.39466852, score_backwards: 1140.39466852\n",
      "Crop: (0, 0), crop_backwards: (0, 0)\n",
      "\n",
      "Join (0,), Shift (-1, 1) Score 1.18321595662\n",
      "score_forwards: 1349.33316864, score_backwards: 1349.33316864\n",
      "Crop: (-1, 1), crop_backwards: (1, -1)\n",
      "\n",
      "Join (0,), Shift (0, 1) Score 1.18321595662\n",
      "score_forwards: 1349.33316864, score_backwards: 1349.33316864\n",
      "Crop: (0, 1), crop_backwards: (0, -1)\n",
      "\n",
      "Join (1,), Shift (0, 0) Score 1.0\n",
      "score_forwards: 1140.39466852, score_backwards: 1140.39466852\n",
      "Crop: (0, 0), crop_backwards: (0, 0)\n",
      "\n",
      "Join (1,), Shift (1, 0) Score 1.04880884817\n",
      "score_forwards: 1196.05601875, score_backwards: 1196.05601875\n",
      "Crop: (1, 0), crop_backwards: (-1, 0)\n",
      "\n",
      "Join (1,), Shift (0, 1) Score 1.18321595662\n",
      "score_forwards: 1349.33316864, score_backwards: 1349.33316864\n",
      "Crop: (0, 1), crop_backwards: (0, -1)\n",
      "\n",
      "Join (1,), Shift (1, 1) Score 1.18321595662\n",
      "score_forwards: 1349.33316864, score_backwards: 1349.33316864\n",
      "Crop: (1, 1), crop_backwards: (-1, -1)\n",
      "\n",
      "Join (1,), Shift (0, 0) Score 1.0\n",
      "score_forwards: 1140.39466852, score_backwards: 1140.39466852\n",
      "Crop: (0, 0), crop_backwards: (0, 0)\n",
      "\n",
      "Join (1,), Shift (1, 0) Score 1.04880884817\n",
      "score_forwards: 1196.05601875, score_backwards: 1196.05601875\n",
      "Crop: (1, 0), crop_backwards: (-1, 0)\n",
      "\n",
      "Join (1,), Shift (0, 1) Score 1.18321595662\n",
      "score_forwards: 1349.33316864, score_backwards: 1349.33316864\n",
      "Crop: (0, 1), crop_backwards: (0, -1)\n",
      "\n",
      "Join (1,), Shift (1, 1) Score 1.18321595662\n",
      "score_forwards: 1349.33316864, score_backwards: 1349.33316864\n",
      "Crop: (1, 1), crop_backwards: (-1, -1)\n",
      "\n",
      "Join (2,), Shift (-3, 3) Score 1.26491106407\n",
      "score_forwards: 1020.0, score_backwards: 1020.0\n",
      "Crop: (-3, 3), crop_backwards: (3, -3)\n",
      "\n",
      "Join (2,), Shift (5, 3) Score 1.26491106407\n",
      "score_forwards: 1020.0, score_backwards: 1020.0\n",
      "Crop: (5, 3), crop_backwards: (-5, -3)\n",
      "\n",
      "Join (2,), Shift (-3, -1) Score 1.26491106407\n",
      "score_forwards: 1020.0, score_backwards: 1020.0\n",
      "Crop: (-3, -1), crop_backwards: (3, 1)\n",
      "\n",
      "Join (2,), Shift (5, -1) Score 1.26491106407\n",
      "score_forwards: 1020.0, score_backwards: 1020.0\n",
      "Crop: (5, -1), crop_backwards: (-5, 1)\n",
      "\n",
      "Join (2,), Shift (-3, 3) Score 1.26491106407\n",
      "score_forwards: 1020.0, score_backwards: 1020.0\n",
      "Crop: (-3, 3), crop_backwards: (3, -3)\n",
      "\n",
      "Join (2,), Shift (5, 3) Score 1.26491106407\n",
      "score_forwards: 1020.0, score_backwards: 1020.0\n",
      "Crop: (5, 3), crop_backwards: (-5, -3)\n",
      "\n",
      "Join (2,), Shift (-3, -1) Score 1.26491106407\n",
      "score_forwards: 1020.0, score_backwards: 1020.0\n",
      "Crop: (-3, -1), crop_backwards: (3, 1)\n",
      "\n",
      "Join (2,), Shift (5, -1) Score 1.26491106407\n",
      "score_forwards: 1020.0, score_backwards: 1020.0\n",
      "Crop: (5, -1), crop_backwards: (-5, 1)\n",
      "\n",
      "Join (0, 1), Shift (-1, -6) Score 0.974679434481\n",
      "score_forwards: 1571.92557076, score_backwards: 1571.92557076\n",
      "Crop: (-1, -6), crop_backwards: (1, 6)\n",
      "\n",
      "Join (0, 1), Shift (0, -6) Score 0.4472135955\n",
      "score_forwards: 721.24891681, score_backwards: 721.24891681\n",
      "Crop: (0, -6), crop_backwards: (0, 6)\n",
      "\n",
      "Join (0, 1), Shift (-1, -5) Score 0.894427191\n",
      "score_forwards: 1442.49783362, score_backwards: 1442.49783362\n",
      "Crop: (-1, -5), crop_backwards: (1, 5)\n",
      "\n",
      "Join (0, 1), Shift (0, -5) Score 0.0\n",
      "score_forwards: 0.0, score_backwards: 0.0\n",
      "Crop: (0, -5), crop_backwards: (0, 5)\n",
      "\n",
      "Join (0, 1), Shift (-1, -6) Score 0.974679434481\n",
      "score_forwards: 1571.92557076, score_backwards: 1571.92557076\n",
      "Crop: (-1, -6), crop_backwards: (1, 6)\n",
      "\n",
      "Join (0, 1), Shift (0, -6) Score 0.4472135955\n",
      "score_forwards: 721.24891681, score_backwards: 721.24891681\n",
      "Crop: (0, -6), crop_backwards: (0, 6)\n",
      "\n",
      "Join (0, 1), Shift (-1, -5) Score 0.894427191\n",
      "score_forwards: 1442.49783362, score_backwards: 1442.49783362\n",
      "Crop: (-1, -5), crop_backwards: (1, 5)\n",
      "\n",
      "Join (0, 1), Shift (0, -5) Score 0.0\n",
      "score_forwards: 0.0, score_backwards: 0.0\n",
      "Crop: (0, -5), crop_backwards: (0, 5)\n",
      "\n",
      "Join (0, 2), Shift (0, 0) Score 1.0\n",
      "score_forwards: 1803.12229203, score_backwards: 1803.12229203\n",
      "Crop: (0, 0), crop_backwards: (0, 0)\n",
      "\n",
      "Join (0, 2), Shift (1, 0) Score 1.18321595662\n",
      "score_forwards: 2133.48306766, score_backwards: 2133.48306766\n",
      "Crop: (1, 0), crop_backwards: (-1, 0)\n",
      "\n",
      "Join (0, 2), Shift (0, 1) Score 1.01980390272\n",
      "score_forwards: 1838.83115049, score_backwards: 1838.83115049\n",
      "Crop: (0, 1), crop_backwards: (0, -1)\n",
      "\n",
      "Join (0, 2), Shift (1, 1) Score 1.16619037897\n",
      "score_forwards: 2102.78386907, score_backwards: 2102.78386907\n",
      "Crop: (1, 1), crop_backwards: (-1, -1)\n",
      "\n",
      "Join (0, 2), Shift (0, 0) Score 1.0\n",
      "score_forwards: 1803.12229203, score_backwards: 1803.12229203\n",
      "Crop: (0, 0), crop_backwards: (0, 0)\n",
      "\n",
      "Join (0, 2), Shift (1, 0) Score 1.18321595662\n",
      "score_forwards: 2133.48306766, score_backwards: 2133.48306766\n",
      "Crop: (1, 0), crop_backwards: (-1, 0)\n",
      "\n",
      "Join (0, 2), Shift (0, 1) Score 1.01980390272\n",
      "score_forwards: 1838.83115049, score_backwards: 1838.83115049\n",
      "Crop: (0, 1), crop_backwards: (0, -1)\n",
      "\n",
      "Join (0, 2), Shift (1, 1) Score 1.16619037897\n",
      "score_forwards: 2102.78386907, score_backwards: 2102.78386907\n",
      "Crop: (1, 1), crop_backwards: (-1, -1)\n",
      "\n",
      "Join (1, 2), Shift (35, 41) Score 1.21106014164\n",
      "score_forwards: 1691.47864308, score_backwards: 1691.47864308\n",
      "Crop: (35, 41), crop_backwards: (-35, -41)\n",
      "\n",
      "Join (1, 2), Shift (36, 41) Score 1.21106014164\n",
      "score_forwards: 1691.47864308, score_backwards: 1691.47864308\n",
      "Crop: (36, 41), crop_backwards: (-36, -41)\n",
      "\n",
      "Join (1, 2), Shift (35, 42) Score 1.21106014164\n",
      "score_forwards: 1691.47864308, score_backwards: 1691.47864308\n",
      "Crop: (35, 42), crop_backwards: (-35, -42)\n",
      "\n",
      "Join (1, 2), Shift (36, 42) Score 1.21106014164\n",
      "score_forwards: 1691.47864308, score_backwards: 1691.47864308\n",
      "Crop: (36, 42), crop_backwards: (-36, -42)\n",
      "\n",
      "Join (1, 2), Shift (35, 41) Score 1.21106014164\n",
      "score_forwards: 1691.47864308, score_backwards: 1691.47864308\n",
      "Crop: (35, 41), crop_backwards: (-35, -41)\n",
      "\n",
      "Join (1, 2), Shift (36, 41) Score 1.21106014164\n",
      "score_forwards: 1691.47864308, score_backwards: 1691.47864308\n",
      "Crop: (36, 41), crop_backwards: (-36, -41)\n",
      "\n",
      "Join (1, 2), Shift (35, 42) Score 1.21106014164\n",
      "score_forwards: 1691.47864308, score_backwards: 1691.47864308\n",
      "Crop: (35, 42), crop_backwards: (-35, -42)\n",
      "\n",
      "Join (1, 2), Shift (36, 42) Score 1.21106014164\n",
      "score_forwards: 1691.47864308, score_backwards: 1691.47864308\n",
      "Crop: (36, 42), crop_backwards: (-36, -42)\n",
      "\n",
      "\n",
      "Starting . . . \n",
      "\n",
      "\n",
      "self.cnt_best_params: {}\n",
      "len(self.cnts): 3\n",
      "winner: 0\n",
      "winner params: [(0, 1), (0, -5)]\n",
      "winner score: 0.0\n",
      "self.cnt_best_params: {0: [(0, 1), (0, -5)]}\n",
      "len(self.cnts): 3\n",
      "winner: 2\n",
      "winner params: [(2,), [4, 3]]\n",
      "winner score: 1\n"
     ]
    },
    {
     "data": {
      "image/png": "[encoded data removed]",
      "text/plain": [
       "<matplotlib.figure.Figure at 0x7f154ea2ad50>"
      ]
     },
     "metadata": {},
     "output_type": "display_data"
    },
    {
     "data": {
      "image/png": "[encoded data removed]",
      "text/plain": [
       "<matplotlib.figure.Figure at 0x7f154e1839d0>"
      ]
     },
     "metadata": {},
     "output_type": "display_data"
    },
    {
     "data": {
      "image/png": "[encoded data removed]",
      "text/plain": [
       "<matplotlib.figure.Figure at 0x7f154e1f0150>"
      ]
     },
     "metadata": {},
     "output_type": "display_data"
    },
    {
     "name": "stdout",
     "output_type": "stream",
     "text": [
      "Join (0,), Shift (0, -3) Score 1.0\n",
      "score_forwards: 883.34591186, score_backwards: 883.34591186\n",
      "Crop: (0, -3), crop_backwards: (0, 3)\n",
      "\n",
      "Join (0,), Shift (1, -3) Score 1.08012344973\n",
      "score_forwards: 954.122633627, score_backwards: 954.122633627\n",
      "Crop: (1, -3), crop_backwards: (-1, 3)\n",
      "\n",
      "Join (0,), Shift (0, -2) Score 1.0\n",
      "score_forwards: 883.34591186, score_backwards: 883.34591186\n",
      "Crop: (0, -2), crop_backwards: (0, 2)\n",
      "\n",
      "Join (0,), Shift (1, -2) Score 1.08012344973\n",
      "score_forwards: 954.122633627, score_backwards: 954.122633627\n",
      "Crop: (1, -2), crop_backwards: (-1, 2)\n",
      "\n",
      "Join (0,), Shift (0, -3) Score 1.0\n",
      "score_forwards: 883.34591186, score_backwards: 883.34591186\n",
      "Crop: (0, -3), crop_backwards: (0, 3)\n",
      "\n",
      "Join (0,), Shift (1, -3) Score 1.08012344973\n",
      "score_forwards: 954.122633627, score_backwards: 954.122633627\n",
      "Crop: (1, -3), crop_backwards: (-1, 3)\n",
      "\n",
      "Join (0,), Shift (0, -2) Score 1.0\n",
      "score_forwards: 883.34591186, score_backwards: 883.34591186\n",
      "Crop: (0, -2), crop_backwards: (0, 2)\n",
      "\n",
      "Join (0,), Shift (1, -2) Score 1.08012344973\n",
      "score_forwards: 954.122633627, score_backwards: 954.122633627\n",
      "Crop: (1, -2), crop_backwards: (-1, 2)\n",
      "\n",
      "Join (1,), Shift (0, -3) Score 1.0\n",
      "score_forwards: 883.34591186, score_backwards: 883.34591186\n",
      "Crop: (0, -3), crop_backwards: (0, 3)\n",
      "\n",
      "Join (1,), Shift (1, -3) Score 1.08012344973\n",
      "score_forwards: 954.122633627, score_backwards: 954.122633627\n",
      "Crop: (1, -3), crop_backwards: (-1, 3)\n",
      "\n",
      "Join (1,), Shift (0, -2) Score 1.0\n",
      "score_forwards: 883.34591186, score_backwards: 883.34591186\n",
      "Crop: (0, -2), crop_backwards: (0, 2)\n",
      "\n",
      "Join (1,), Shift (1, -2) Score 1.08012344973\n",
      "score_forwards: 954.122633627, score_backwards: 954.122633627\n",
      "Crop: (1, -2), crop_backwards: (-1, 2)\n",
      "\n",
      "Join (1,), Shift (0, -3) Score 1.0\n",
      "score_forwards: 883.34591186, score_backwards: 883.34591186\n",
      "Crop: (0, -3), crop_backwards: (0, 3)\n",
      "\n",
      "Join (1,), Shift (1, -3) Score 1.08012344973\n",
      "score_forwards: 954.122633627, score_backwards: 954.122633627\n",
      "Crop: (1, -3), crop_backwards: (-1, 3)\n",
      "\n",
      "Join (1,), Shift (0, -2) Score 1.0\n",
      "score_forwards: 883.34591186, score_backwards: 883.34591186\n",
      "Crop: (0, -2), crop_backwards: (0, 2)\n",
      "\n",
      "Join (1,), Shift (1, -2) Score 1.08012344973\n",
      "score_forwards: 954.122633627, score_backwards: 954.122633627\n",
      "Crop: (1, -2), crop_backwards: (-1, 2)\n",
      "\n",
      "Join (2,), Shift (-3, 3) Score 1.26491106407\n",
      "score_forwards: 1020.0, score_backwards: 1020.0\n",
      "Crop: (-3, 3), crop_backwards: (3, -3)\n",
      "\n",
      "Join (2,), Shift (5, 3) Score 1.26491106407\n",
      "score_forwards: 1020.0, score_backwards: 1020.0\n",
      "Crop: (5, 3), crop_backwards: (-5, -3)\n",
      "\n",
      "Join (2,), Shift (-3, -1) Score 1.26491106407\n",
      "score_forwards: 1020.0, score_backwards: 1020.0\n",
      "Crop: (-3, -1), crop_backwards: (3, 1)\n",
      "\n",
      "Join (2,), Shift (5, -1) Score 1.26491106407\n",
      "score_forwards: 1020.0, score_backwards: 1020.0\n",
      "Crop: (5, -1), crop_backwards: (-5, 1)\n",
      "\n",
      "Join (2,), Shift (-3, 3) Score 1.26491106407\n",
      "score_forwards: 1020.0, score_backwards: 1020.0\n",
      "Crop: (-3, 3), crop_backwards: (3, -3)\n",
      "\n",
      "Join (2,), Shift (5, 3) Score 1.26491106407\n",
      "score_forwards: 1020.0, score_backwards: 1020.0\n",
      "Crop: (5, 3), crop_backwards: (-5, -3)\n",
      "\n",
      "Join (2,), Shift (-3, -1) Score 1.26491106407\n",
      "score_forwards: 1020.0, score_backwards: 1020.0\n",
      "Crop: (-3, -1), crop_backwards: (3, 1)\n",
      "\n",
      "Join (2,), Shift (5, -1) Score 1.26491106407\n",
      "score_forwards: 1020.0, score_backwards: 1020.0\n",
      "Crop: (5, -1), crop_backwards: (-5, 1)\n",
      "\n",
      "Join (0, 1), Shift (0, -4) Score 0.57735026919\n",
      "score_forwards: 721.24891681, score_backwards: 721.24891681\n",
      "Crop: (0, -4), crop_backwards: (0, 4)\n",
      "\n",
      "Join (0, 1), Shift (1, -4) Score 1.25830573921\n",
      "score_forwards: 1571.92557076, score_backwards: 1571.92557076\n",
      "Crop: (1, -4), crop_backwards: (-1, 4)\n",
      "\n",
      "Join (0, 1), Shift (0, -3) Score 0.0\n",
      "score_forwards: 0.0, score_backwards: 0.0\n",
      "Crop: (0, -3), crop_backwards: (0, 3)\n",
      "\n",
      "Join (0, 1), Shift (1, -3) Score 1.15470053838\n",
      "score_forwards: 1442.49783362, score_backwards: 1442.49783362\n",
      "Crop: (1, -3), crop_backwards: (-1, 3)\n",
      "\n",
      "Join (0, 1), Shift (0, -4) Score 0.57735026919\n",
      "score_forwards: 721.24891681, score_backwards: 721.24891681\n",
      "Crop: (0, -4), crop_backwards: (0, 4)\n",
      "\n",
      "Join (0, 1), Shift (1, -4) Score 1.25830573921\n",
      "score_forwards: 1571.92557076, score_backwards: 1571.92557076\n",
      "Crop: (1, -4), crop_backwards: (-1, 4)\n",
      "\n",
      "Join (0, 1), Shift (0, -3) Score 0.0\n",
      "score_forwards: 0.0, score_backwards: 0.0\n",
      "Crop: (0, -3), crop_backwards: (0, 3)\n",
      "\n",
      "Join (0, 1), Shift (1, -3) Score 1.15470053838\n",
      "score_forwards: 1442.49783362, score_backwards: 1442.49783362\n",
      "Crop: (1, -3), crop_backwards: (-1, 3)\n",
      "\n",
      "Join (0, 2), Shift (-1, -4) Score 1.26025207563\n",
      "score_forwards: 1873.85965323, score_backwards: 1873.85965323\n",
      "Crop: (-1, -4), crop_backwards: (1, 4)\n",
      "\n",
      "Join (0, 2), Shift (0, -4) Score 0.840168050417\n",
      "score_forwards: 1249.23976882, score_backwards: 1249.23976882\n",
      "Crop: (0, -4), crop_backwards: (0, 4)\n",
      "\n",
      "Join (0, 2), Shift (-1, -3) Score 1.18817705157\n",
      "score_forwards: 1766.69182372, score_backwards: 1766.69182372\n",
      "Crop: (-1, -3), crop_backwards: (1, 3)\n",
      "\n",
      "Join (0, 2), Shift (0, -3) Score 0.68599434057\n",
      "score_forwards: 1020.0, score_backwards: 1020.0\n",
      "Crop: (0, -3), crop_backwards: (0, 3)\n",
      "\n",
      "Join (0, 2), Shift (-1, -4) Score 1.26025207563\n",
      "score_forwards: 1873.85965323, score_backwards: 1873.85965323\n",
      "Crop: (-1, -4), crop_backwards: (1, 4)\n",
      "\n",
      "Join (0, 2), Shift (0, -4) Score 0.840168050417\n",
      "score_forwards: 1249.23976882, score_backwards: 1249.23976882\n",
      "Crop: (0, -4), crop_backwards: (0, 4)\n",
      "\n",
      "Join (0, 2), Shift (-1, -3) Score 1.18817705157\n",
      "score_forwards: 1766.69182372, score_backwards: 1766.69182372\n",
      "Crop: (-1, -3), crop_backwards: (1, 3)\n",
      "\n",
      "Join (0, 2), Shift (0, -3) Score 0.68599434057\n",
      "score_forwards: 1020.0, score_backwards: 1020.0\n",
      "Crop: (0, -3), crop_backwards: (0, 3)\n",
      "\n",
      "Join (1, 2), Shift (34, 38) Score 1.27920429813\n",
      "score_forwards: 1530.0, score_backwards: 1530.0\n",
      "Crop: (34, 38), crop_backwards: (-34, -38)\n",
      "\n",
      "Join (1, 2), Shift (35, 38) Score 1.27920429813\n",
      "score_forwards: 1530.0, score_backwards: 1530.0\n",
      "Crop: (35, 38), crop_backwards: (-35, -38)\n",
      "\n",
      "Join (1, 2), Shift (34, 39) Score 1.27920429813\n",
      "score_forwards: 1530.0, score_backwards: 1530.0\n",
      "Crop: (34, 39), crop_backwards: (-34, -39)\n",
      "\n",
      "Join (1, 2), Shift (35, 39) Score 1.27920429813\n",
      "score_forwards: 1530.0, score_backwards: 1530.0\n",
      "Crop: (35, 39), crop_backwards: (-35, -39)\n",
      "\n",
      "Join (1, 2), Shift (34, 38) Score 1.27920429813\n",
      "score_forwards: 1530.0, score_backwards: 1530.0\n",
      "Crop: (34, 38), crop_backwards: (-34, -38)\n",
      "\n",
      "Join (1, 2), Shift (35, 38) Score 1.27920429813\n",
      "score_forwards: 1530.0, score_backwards: 1530.0\n",
      "Crop: (35, 38), crop_backwards: (-35, -38)\n",
      "\n",
      "Join (1, 2), Shift (34, 39) Score 1.27920429813\n",
      "score_forwards: 1530.0, score_backwards: 1530.0\n",
      "Crop: (34, 39), crop_backwards: (-34, -39)\n",
      "\n",
      "Join (1, 2), Shift (35, 39) Score 1.27920429813\n",
      "score_forwards: 1530.0, score_backwards: 1530.0\n",
      "Crop: (35, 39), crop_backwards: (-35, -39)\n",
      "\n",
      "\n",
      "Starting . . . \n",
      "\n",
      "\n",
      "self.cnt_best_params: {}\n",
      "len(self.cnts): 3\n",
      "winner: 0\n",
      "winner params: [(0, 1), (0, -3)]\n",
      "winner score: 0.0\n",
      "self.cnt_best_params: {0: [(0, 1), (0, -3)]}\n",
      "len(self.cnts): 3\n",
      "winner: 2\n",
      "winner params: [(2,), [4, 3]]\n",
      "winner score: 1\n"
     ]
    },
    {
     "data": {
      "image/png": "[encoded data removed]",
      "text/plain": [
       "<matplotlib.figure.Figure at 0x7f15580fe490>"
      ]
     },
     "metadata": {},
     "output_type": "display_data"
    },
    {
     "data": {
      "image/png": "[encoded data removed]",
      "text/plain": [
       "<matplotlib.figure.Figure at 0x7f154dea93d0>"
      ]
     },
     "metadata": {},
     "output_type": "display_data"
    },
    {
     "data": {
      "image/png": "[encoded data removed]",
      "text/plain": [
       "<matplotlib.figure.Figure at 0x7f154e19e290>"
      ]
     },
     "metadata": {},
     "output_type": "display_data"
    },
    {
     "name": "stdout",
     "output_type": "stream",
     "text": [
      "Join (0,), Shift (0, 0) Score 1.0\n",
      "score_forwards: 510.0, score_backwards: 510.0\n",
      "Crop: (0, 0), crop_backwards: (0, 0)\n",
      "\n",
      "Join (0,), Shift (1, 0) Score 1.22474487139\n",
      "score_forwards: 624.61988441, score_backwards: 624.61988441\n",
      "Crop: (1, 0), crop_backwards: (-1, 0)\n",
      "\n",
      "Join (0,), Shift (0, 1) Score 1.73205080757\n",
      "score_forwards: 883.34591186, score_backwards: 883.34591186\n",
      "Crop: (0, 1), crop_backwards: (0, -1)\n",
      "\n",
      "Join (0,), Shift (1, -2) Score 1.73205080757\n",
      "score_forwards: 883.34591186, score_backwards: 883.34591186\n",
      "Crop: (1, -2), crop_backwards: (-1, 2)\n",
      "\n",
      "Join (0,), Shift (0, 3) Score 1.0\n",
      "score_forwards: 510.0, score_backwards: 510.0\n",
      "Crop: (0, 3), crop_backwards: (0, -3)\n",
      "\n",
      "Join (0,), Shift (1, 3) Score 1.22474487139\n",
      "score_forwards: 624.61988441, score_backwards: 624.61988441\n",
      "Crop: (1, 3), crop_backwards: (-1, -3)\n",
      "\n",
      "Join (0,), Shift (0, 4) Score 1.73205080757\n",
      "score_forwards: 883.34591186, score_backwards: 883.34591186\n",
      "Crop: (0, 4), crop_backwards: (0, -4)\n",
      "\n",
      "Join (0,), Shift (1, 4) Score 1.73205080757\n",
      "score_forwards: 883.34591186, score_backwards: 883.34591186\n",
      "Crop: (1, 4), crop_backwards: (-1, -4)\n",
      "\n",
      "Join (1,), Shift (0, 0) Score 1.0\n",
      "score_forwards: 510.0, score_backwards: 510.0\n",
      "Crop: (0, 0), crop_backwards: (0, 0)\n",
      "\n",
      "Join (1,), Shift (1, 0) Score 1.22474487139\n",
      "score_forwards: 624.61988441, score_backwards: 624.61988441\n",
      "Crop: (1, 0), crop_backwards: (-1, 0)\n",
      "\n",
      "Join (1,), Shift (0, 1) Score 1.73205080757\n",
      "score_forwards: 883.34591186, score_backwards: 883.34591186\n",
      "Crop: (0, 1), crop_backwards: (0, -1)\n",
      "\n",
      "Join (1,), Shift (1, 1) Score 1.73205080757\n",
      "score_forwards: 883.34591186, score_backwards: 883.34591186\n",
      "Crop: (1, 1), crop_backwards: (-1, -1)\n",
      "\n",
      "Join (1,), Shift (0, 3) Score 1.0\n",
      "score_forwards: 510.0, score_backwards: 510.0\n",
      "Crop: (0, 3), crop_backwards: (0, -3)\n",
      "\n",
      "Join (1,), Shift (1, 3) Score 1.22474487139\n",
      "score_forwards: 624.61988441, score_backwards: 624.61988441\n",
      "Crop: (1, 3), crop_backwards: (-1, -3)\n",
      "\n",
      "Join (1,), Shift (0, 4) Score 1.73205080757\n",
      "score_forwards: 883.34591186, score_backwards: 883.34591186\n",
      "Crop: (0, 4), crop_backwards: (0, -4)\n",
      "\n",
      "Join (1,), Shift (1, 4) Score 1.73205080757\n",
      "score_forwards: 883.34591186, score_backwards: 883.34591186\n",
      "Crop: (1, 4), crop_backwards: (-1, -4)\n",
      "\n",
      "Join (2,), Shift (-3, 3) Score 1.26491106407\n",
      "score_forwards: 1020.0, score_backwards: 1020.0\n",
      "Crop: (-3, 3), crop_backwards: (3, -3)\n",
      "\n",
      "Join (2,), Shift (5, 3) Score 1.26491106407\n",
      "score_forwards: 1020.0, score_backwards: 1020.0\n",
      "Crop: (5, 3), crop_backwards: (-5, -3)\n",
      "\n",
      "Join (2,), Shift (-3, -1) Score 1.26491106407\n",
      "score_forwards: 1020.0, score_backwards: 1020.0\n",
      "Crop: (-3, -1), crop_backwards: (3, 1)\n",
      "\n",
      "Join (2,), Shift (5, -1) Score 1.26491106407\n",
      "score_forwards: 1020.0, score_backwards: 1020.0\n",
      "Crop: (5, -1), crop_backwards: (-5, 1)\n",
      "\n",
      "Join (2,), Shift (-3, 3) Score 1.26491106407\n",
      "score_forwards: 1020.0, score_backwards: 1020.0\n",
      "Crop: (-3, 3), crop_backwards: (3, -3)\n",
      "\n",
      "Join (2,), Shift (5, 3) Score 1.26491106407\n",
      "score_forwards: 1020.0, score_backwards: 1020.0\n",
      "Crop: (5, 3), crop_backwards: (-5, -3)\n",
      "\n",
      "Join (2,), Shift (-3, -1) Score 1.26491106407\n",
      "score_forwards: 1020.0, score_backwards: 1020.0\n",
      "Crop: (-3, -1), crop_backwards: (3, 1)\n",
      "\n",
      "Join (2,), Shift (5, -1) Score 1.26491106407\n",
      "score_forwards: 1020.0, score_backwards: 1020.0\n",
      "Crop: (5, -1), crop_backwards: (-5, 1)\n",
      "\n",
      "Join (0, 1), Shift (0, -2) Score 1.0\n",
      "score_forwards: 721.24891681, score_backwards: 721.24891681\n",
      "Crop: (0, -2), crop_backwards: (0, 2)\n",
      "\n",
      "Join (0, 1), Shift (1, -2) Score 2.17944947177\n",
      "score_forwards: 1571.92557076, score_backwards: 1571.92557076\n",
      "Crop: (1, -2), crop_backwards: (-1, 2)\n",
      "\n",
      "Join (0, 1), Shift (0, -1) Score 0.0\n",
      "score_forwards: 0.0, score_backwards: 0.0\n",
      "Crop: (0, -1), crop_backwards: (0, 1)\n",
      "\n",
      "Join (0, 1), Shift (1, -1) Score 2.0\n",
      "score_forwards: 1442.49783362, score_backwards: 1442.49783362\n",
      "Crop: (1, -1), crop_backwards: (-1, 1)\n",
      "\n",
      "Join (0, 1), Shift (0, -2) Score 1.0\n",
      "score_forwards: 721.24891681, score_backwards: 721.24891681\n",
      "Crop: (0, -2), crop_backwards: (0, 2)\n",
      "\n",
      "Join (0, 1), Shift (1, -2) Score 2.17944947177\n",
      "score_forwards: 1571.92557076, score_backwards: 1571.92557076\n",
      "Crop: (1, -2), crop_backwards: (-1, 2)\n",
      "\n",
      "Join (0, 1), Shift (0, -1) Score 0.0\n",
      "score_forwards: 0.0, score_backwards: 0.0\n",
      "Crop: (0, -1), crop_backwards: (0, 1)\n",
      "\n",
      "Join (0, 1), Shift (1, -1) Score 2.0\n",
      "score_forwards: 1442.49783362, score_backwards: 1442.49783362\n",
      "Crop: (1, -1), crop_backwards: (-1, 1)\n",
      "\n",
      "Join (0, 2), Shift (0, -1) Score 0.942809041582\n",
      "score_forwards: 1020.0, score_backwards: 1020.0\n",
      "Crop: (0, -1), crop_backwards: (0, 1)\n",
      "\n",
      "Join (0, 2), Shift (1, -1) Score 1.63299316186\n",
      "score_forwards: 1766.69182372, score_backwards: 1766.69182372\n",
      "Crop: (1, -1), crop_backwards: (-1, 1)\n",
      "\n",
      "Join (0, 2), Shift (0, 0) Score 1.0\n",
      "score_forwards: 1081.87337522, score_backwards: 1081.87337522\n",
      "Crop: (0, 0), crop_backwards: (0, 0)\n",
      "\n",
      "Join (0, 2), Shift (1, 0) Score 1.59861050777\n",
      "score_forwards: 1729.4941457, score_backwards: 1729.4941457\n",
      "Crop: (1, 0), crop_backwards: (-1, 0)\n",
      "\n",
      "Join (0, 2), Shift (0, -1) Score 0.942809041582\n",
      "score_forwards: 1020.0, score_backwards: 1020.0\n",
      "Crop: (0, -1), crop_backwards: (0, 1)\n",
      "\n",
      "Join (0, 2), Shift (1, -1) Score 1.63299316186\n",
      "score_forwards: 1766.69182372, score_backwards: 1766.69182372\n",
      "Crop: (1, -1), crop_backwards: (-1, 1)\n",
      "\n",
      "Join (0, 2), Shift (0, 0) Score 1.0\n",
      "score_forwards: 1081.87337522, score_backwards: 1081.87337522\n",
      "Crop: (0, 0), crop_backwards: (0, 0)\n",
      "\n",
      "Join (0, 2), Shift (1, 0) Score 1.59861050777\n",
      "score_forwards: 1729.4941457, score_backwards: 1729.4941457\n",
      "Crop: (1, 0), crop_backwards: (-1, 0)\n",
      "\n",
      "Join (1, 2), Shift (0, 0) Score 1.0\n",
      "score_forwards: 954.122633627, score_backwards: 954.122633627\n",
      "Crop: (0, 0), crop_backwards: (0, 0)\n",
      "\n",
      "Join (1, 2), Shift (1, 0) Score 1.0\n",
      "score_forwards: 954.122633627, score_backwards: 954.122633627\n",
      "Crop: (1, 0), crop_backwards: (-1, 0)\n",
      "\n",
      "Join (1, 2), Shift (0, -70) Score 1.06904496765\n",
      "score_forwards: 1020.0, score_backwards: 1020.0\n",
      "Crop: (0, -70), crop_backwards: (0, 70)\n",
      "\n",
      "Join (1, 2), Shift (1, -70) Score 0.925820099773\n",
      "score_forwards: 883.34591186, score_backwards: 883.34591186\n",
      "Crop: (1, -70), crop_backwards: (-1, 70)\n",
      "\n",
      "Join (1, 2), Shift (0, 0) Score 1.0\n",
      "score_forwards: 954.122633627, score_backwards: 954.122633627\n",
      "Crop: (0, 0), crop_backwards: (0, 0)\n",
      "\n",
      "Join (1, 2), Shift (1, 0) Score 1.0\n",
      "score_forwards: 954.122633627, score_backwards: 954.122633627\n",
      "Crop: (1, 0), crop_backwards: (-1, 0)\n",
      "\n",
      "Join (1, 2), Shift (0, -70) Score 1.06904496765\n",
      "score_forwards: 1020.0, score_backwards: 1020.0\n",
      "Crop: (0, -70), crop_backwards: (0, 70)\n",
      "\n",
      "Join (1, 2), Shift (1, -70) Score 0.925820099773\n",
      "score_forwards: 883.34591186, score_backwards: 883.34591186\n",
      "Crop: (1, -70), crop_backwards: (-1, 70)\n",
      "\n",
      "\n",
      "Starting . . . \n",
      "\n",
      "\n",
      "self.cnt_best_params: {}\n",
      "len(self.cnts): 3\n",
      "winner: 0\n",
      "winner params: [(0, 1), (0, -1)]\n",
      "winner score: 0.0\n",
      "self.cnt_best_params: {0: [(0, 1), (0, -1)]}\n",
      "len(self.cnts): 3\n",
      "winner: 2\n",
      "winner params: [(2,), [4, 3]]\n",
      "winner score: 1\n"
     ]
    },
    {
     "data": {
      "image/png": "[encoded data removed]",
      "text/plain": [
       "<matplotlib.figure.Figure at 0x7f15580e9dd0>"
      ]
     },
     "metadata": {},
     "output_type": "display_data"
    },
    {
     "data": {
      "image/png": "[encoded data removed]",
      "text/plain": [
       "<matplotlib.figure.Figure at 0x7f154e0c9a90>"
      ]
     },
     "metadata": {},
     "output_type": "display_data"
    },
    {
     "data": {
      "image/png": "[encoded data removed]",
      "text/plain": [
       "<matplotlib.figure.Figure at 0x7f154e495050>"
      ]
     },
     "metadata": {},
     "output_type": "display_data"
    },
    {
     "name": "stdout",
     "output_type": "stream",
     "text": [
      "Join (0,), Shift (-1, -3) Score 1.06066017178\n",
      "score_forwards: 1081.87337522, score_backwards: 1081.87337522\n",
      "Crop: (-1, -3), crop_backwards: (1, 3)\n",
      "\n",
      "Join (0,), Shift (0, -3) Score 1.0\n",
      "score_forwards: 1020.0, score_backwards: 1020.0\n",
      "Crop: (0, -3), crop_backwards: (0, 3)\n",
      "\n",
      "Join (0,), Shift (-1, -2) Score 1.06066017178\n",
      "score_forwards: 1081.87337522, score_backwards: 1081.87337522\n",
      "Crop: (-1, -2), crop_backwards: (1, 2)\n",
      "\n",
      "Join (0,), Shift (0, -2) Score 1.0\n",
      "score_forwards: 1020.0, score_backwards: 1020.0\n",
      "Crop: (0, -2), crop_backwards: (0, 2)\n",
      "\n",
      "Join (0,), Shift (-1, -3) Score 1.06066017178\n",
      "score_forwards: 1081.87337522, score_backwards: 1081.87337522\n",
      "Crop: (-1, -3), crop_backwards: (1, 3)\n",
      "\n",
      "Join (0,), Shift (0, -3) Score 1.0\n",
      "score_forwards: 1020.0, score_backwards: 1020.0\n",
      "Crop: (0, -3), crop_backwards: (0, 3)\n",
      "\n",
      "Join (0,), Shift (-1, -2) Score 1.06066017178\n",
      "score_forwards: 1081.87337522, score_backwards: 1081.87337522\n",
      "Crop: (-1, -2), crop_backwards: (1, 2)\n",
      "\n",
      "Join (0,), Shift (0, -2) Score 1.0\n",
      "score_forwards: 1020.0, score_backwards: 1020.0\n",
      "Crop: (0, -2), crop_backwards: (0, 2)\n",
      "\n",
      "Join (1,), Shift (-1, -3) Score 1.06066017178\n",
      "score_forwards: 1081.87337522, score_backwards: 1081.87337522\n",
      "Crop: (-1, -3), crop_backwards: (1, 3)\n",
      "\n",
      "Join (1,), Shift (0, -3) Score 1.0\n",
      "score_forwards: 1020.0, score_backwards: 1020.0\n",
      "Crop: (0, -3), crop_backwards: (0, 3)\n",
      "\n",
      "Join (1,), Shift (-1, -2) Score 1.06066017178\n",
      "score_forwards: 1081.87337522, score_backwards: 1081.87337522\n",
      "Crop: (-1, -2), crop_backwards: (1, 2)\n",
      "\n",
      "Join (1,), Shift (0, -2) Score 1.0\n",
      "score_forwards: 1020.0, score_backwards: 1020.0\n",
      "Crop: (0, -2), crop_backwards: (0, 2)\n",
      "\n",
      "Join (1,), Shift (-1, -3) Score 1.06066017178\n",
      "score_forwards: 1081.87337522, score_backwards: 1081.87337522\n",
      "Crop: (-1, -3), crop_backwards: (1, 3)\n",
      "\n",
      "Join (1,), Shift (0, -3) Score 1.0\n",
      "score_forwards: 1020.0, score_backwards: 1020.0\n",
      "Crop: (0, -3), crop_backwards: (0, 3)\n",
      "\n",
      "Join (1,), Shift (-1, -2) Score 1.06066017178\n",
      "score_forwards: 1081.87337522, score_backwards: 1081.87337522\n",
      "Crop: (-1, -2), crop_backwards: (1, 2)\n",
      "\n",
      "Join (1,), Shift (0, -2) Score 1.0\n",
      "score_forwards: 1020.0, score_backwards: 1020.0\n",
      "Crop: (0, -2), crop_backwards: (0, 2)\n",
      "\n",
      "Join (2,), Shift (-3, 3) Score 1.26491106407\n",
      "score_forwards: 1020.0, score_backwards: 1020.0\n",
      "Crop: (-3, 3), crop_backwards: (3, -3)\n",
      "\n",
      "Join (2,), Shift (5, 3) Score 1.26491106407\n",
      "score_forwards: 1020.0, score_backwards: 1020.0\n",
      "Crop: (5, 3), crop_backwards: (-5, -3)\n",
      "\n",
      "Join (2,), Shift (-3, -1) Score 1.26491106407\n",
      "score_forwards: 1020.0, score_backwards: 1020.0\n",
      "Crop: (-3, -1), crop_backwards: (3, 1)\n",
      "\n",
      "Join (2,), Shift (5, -1) Score 1.26491106407\n",
      "score_forwards: 1020.0, score_backwards: 1020.0\n",
      "Crop: (5, -1), crop_backwards: (-5, 1)\n",
      "\n",
      "Join (2,), Shift (-3, 3) Score 1.26491106407\n",
      "score_forwards: 1020.0, score_backwards: 1020.0\n",
      "Crop: (-3, 3), crop_backwards: (3, -3)\n",
      "\n",
      "Join (2,), Shift (5, 3) Score 1.26491106407\n",
      "score_forwards: 1020.0, score_backwards: 1020.0\n",
      "Crop: (5, 3), crop_backwards: (-5, -3)\n",
      "\n",
      "Join (2,), Shift (-3, -1) Score 1.26491106407\n",
      "score_forwards: 1020.0, score_backwards: 1020.0\n",
      "Crop: (-3, -1), crop_backwards: (3, 1)\n",
      "\n",
      "Join (2,), Shift (5, -1) Score 1.26491106407\n",
      "score_forwards: 1020.0, score_backwards: 1020.0\n",
      "Crop: (5, -1), crop_backwards: (-5, 1)\n",
      "\n",
      "Join (0, 1), Shift (0, -5) Score 0.5\n",
      "score_forwards: 721.24891681, score_backwards: 721.24891681\n",
      "Crop: (0, -5), crop_backwards: (0, 5)\n",
      "\n",
      "Join (0, 1), Shift (1, -5) Score 1.08972473589\n",
      "score_forwards: 1571.92557076, score_backwards: 1571.92557076\n",
      "Crop: (1, -5), crop_backwards: (-1, 5)\n",
      "\n",
      "Join (0, 1), Shift (0, -4) Score 0.0\n",
      "score_forwards: 0.0, score_backwards: 0.0\n",
      "Crop: (0, -4), crop_backwards: (0, 4)\n",
      "\n",
      "Join (0, 1), Shift (1, -4) Score 1.0\n",
      "score_forwards: 1442.49783362, score_backwards: 1442.49783362\n",
      "Crop: (1, -4), crop_backwards: (-1, 4)\n",
      "\n",
      "Join (0, 1), Shift (0, -5) Score 0.5\n",
      "score_forwards: 721.24891681, score_backwards: 721.24891681\n",
      "Crop: (0, -5), crop_backwards: (0, 5)\n",
      "\n",
      "Join (0, 1), Shift (1, -5) Score 1.08972473589\n",
      "score_forwards: 1571.92557076, score_backwards: 1571.92557076\n",
      "Crop: (1, -5), crop_backwards: (-1, 5)\n",
      "\n",
      "Join (0, 1), Shift (0, -4) Score 0.0\n",
      "score_forwards: 0.0, score_backwards: 0.0\n",
      "Crop: (0, -4), crop_backwards: (0, 4)\n",
      "\n",
      "Join (0, 1), Shift (1, -4) Score 1.0\n",
      "score_forwards: 1442.49783362, score_backwards: 1442.49783362\n",
      "Crop: (1, -4), crop_backwards: (-1, 4)\n",
      "\n",
      "Join (0, 2), Shift (-1, -5) Score 1.13389341903\n",
      "score_forwards: 1873.85965323, score_backwards: 1873.85965323\n",
      "Crop: (-1, -5), crop_backwards: (1, 5)\n",
      "\n",
      "Join (0, 2), Shift (0, -5) Score 0.755928946018\n",
      "score_forwards: 1249.23976882, score_backwards: 1249.23976882\n",
      "Crop: (0, -5), crop_backwards: (0, 5)\n",
      "\n",
      "Join (0, 2), Shift (-1, -4) Score 1.06904496765\n",
      "score_forwards: 1766.69182372, score_backwards: 1766.69182372\n",
      "Crop: (-1, -4), crop_backwards: (1, 4)\n",
      "\n",
      "Join (0, 2), Shift (0, -4) Score 0.617213399848\n",
      "score_forwards: 1020.0, score_backwards: 1020.0\n",
      "Crop: (0, -4), crop_backwards: (0, 4)\n",
      "\n",
      "Join (0, 2), Shift (-1, -5) Score 1.13389341903\n",
      "score_forwards: 1873.85965323, score_backwards: 1873.85965323\n",
      "Crop: (-1, -5), crop_backwards: (1, 5)\n",
      "\n",
      "Join (0, 2), Shift (0, -5) Score 0.755928946018\n",
      "score_forwards: 1249.23976882, score_backwards: 1249.23976882\n",
      "Crop: (0, -5), crop_backwards: (0, 5)\n",
      "\n",
      "Join (0, 2), Shift (-1, -4) Score 1.06904496765\n",
      "score_forwards: 1766.69182372, score_backwards: 1766.69182372\n",
      "Crop: (-1, -4), crop_backwards: (1, 4)\n",
      "\n",
      "Join (0, 2), Shift (0, -4) Score 0.617213399848\n",
      "score_forwards: 1020.0, score_backwards: 1020.0\n",
      "Crop: (0, -4), crop_backwards: (0, 4)\n",
      "\n",
      "Join (1, 2), Shift (0, 0) Score 1.0\n",
      "score_forwards: 1300.24997597, score_backwards: 1300.24997597\n",
      "Crop: (0, 0), crop_backwards: (0, 0)\n",
      "\n",
      "Join (1, 2), Shift (1, 0) Score 1.0\n",
      "score_forwards: 1300.24997597, score_backwards: 1300.24997597\n",
      "Crop: (1, 0), crop_backwards: (-1, 0)\n",
      "\n",
      "Join (1, 2), Shift (0, -68) Score 1.03774904333\n",
      "score_forwards: 1349.33316864, score_backwards: 1349.33316864\n",
      "Crop: (0, -68), crop_backwards: (0, 68)\n",
      "\n",
      "Join (1, 2), Shift (1, -68) Score 0.960768922831\n",
      "score_forwards: 1249.23976882, score_backwards: 1249.23976882\n",
      "Crop: (1, -68), crop_backwards: (-1, 68)\n",
      "\n",
      "Join (1, 2), Shift (0, 0) Score 1.0\n",
      "score_forwards: 1300.24997597, score_backwards: 1300.24997597\n",
      "Crop: (0, 0), crop_backwards: (0, 0)\n",
      "\n",
      "Join (1, 2), Shift (1, 0) Score 1.0\n",
      "score_forwards: 1300.24997597, score_backwards: 1300.24997597\n",
      "Crop: (1, 0), crop_backwards: (-1, 0)\n",
      "\n",
      "Join (1, 2), Shift (0, -68) Score 1.03774904333\n",
      "score_forwards: 1349.33316864, score_backwards: 1349.33316864\n",
      "Crop: (0, -68), crop_backwards: (0, 68)\n",
      "\n",
      "Join (1, 2), Shift (1, -68) Score 0.960768922831\n",
      "score_forwards: 1249.23976882, score_backwards: 1249.23976882\n",
      "Crop: (1, -68), crop_backwards: (-1, 68)\n",
      "\n",
      "\n",
      "Starting . . . \n",
      "\n",
      "\n",
      "self.cnt_best_params: {}\n",
      "len(self.cnts): 3\n",
      "winner: 0\n",
      "winner params: [(0, 1), (0, -4)]\n",
      "winner score: 0.0\n",
      "self.cnt_best_params: {0: [(0, 1), (0, -4)]}\n",
      "len(self.cnts): 3\n",
      "winner: 2\n",
      "winner params: [(2,), [4, 3]]\n",
      "winner score: 1\n"
     ]
    },
    {
     "data": {
      "image/png": "[encoded data removed]",
      "text/plain": [
       "<matplotlib.figure.Figure at 0x7f154e0b6e90>"
      ]
     },
     "metadata": {},
     "output_type": "display_data"
    },
    {
     "data": {
      "image/png": "[encoded data removed]",
      "text/plain": [
       "<matplotlib.figure.Figure at 0x7f154ec225d0>"
      ]
     },
     "metadata": {},
     "output_type": "display_data"
    },
    {
     "name": "stdout",
     "output_type": "stream",
     "text": [
      "497099\n"
     ]
    }
   ],
   "source": [
    "num_steps = 10\n",
    "img_dir = 'img/'\n",
    "mt_dir = 'mt/'\n",
    "mt = play(num_steps, env, img_dir, mt_dir, num_wait_steps, 2183)\n",
    "fp = mt.frame_pairs\n",
    "frame_thresh = [f.thresh for f in fp]\n",
    "\n",
    "print mt.game_id"
   ]
  },
  {
   "cell_type": "code",
   "execution_count": 51,
   "metadata": {},
   "outputs": [
    {
     "name": "stdout",
     "output_type": "stream",
     "text": [
      "497099\n"
     ]
    }
   ],
   "source": [
    "print mt.game_id"
   ]
  },
  {
   "cell_type": "code",
   "execution_count": 32,
   "metadata": {},
   "outputs": [
    {
     "data": {
      "image/png": "[encoded data removed]",
      "text/plain": [
       "<matplotlib.figure.Figure at 0x7f154ebaa110>"
      ]
     },
     "metadata": {},
     "output_type": "display_data"
    },
    {
     "data": {
      "image/png": "[encoded data removed]",
      "text/plain": [
       "<matplotlib.figure.Figure at 0x7f154e917a10>"
      ]
     },
     "metadata": {},
     "output_type": "display_data"
    },
    {
     "data": {
      "image/png": "[encoded data removed]",
      "text/plain": [
       "<matplotlib.figure.Figure at 0x7f154e3e5690>"
      ]
     },
     "metadata": {},
     "output_type": "display_data"
    },
    {
     "data": {
      "image/png": "[encoded data removed]",
      "text/plain": [
       "<matplotlib.figure.Figure at 0x7f154ed86a10>"
      ]
     },
     "metadata": {},
     "output_type": "display_data"
    },
    {
     "data": {
      "image/png": "[encoded data removed]",
      "text/plain": [
       "<matplotlib.figure.Figure at 0x7f154ebff690>"
      ]
     },
     "metadata": {},
     "output_type": "display_data"
    },
    {
     "data": {
      "image/png": "[encoded data removed]",
      "text/plain": [
       "<matplotlib.figure.Figure at 0x7f154eb41f10>"
      ]
     },
     "metadata": {},
     "output_type": "display_data"
    },
    {
     "data": {
      "image/png": "[encoded data removed]",
      "text/plain": [
       "<matplotlib.figure.Figure at 0x7f154e6ebb50>"
      ]
     },
     "metadata": {},
     "output_type": "display_data"
    },
    {
     "data": {
      "image/png": "[encoded data removed]",
      "text/plain": [
       "<matplotlib.figure.Figure at 0x7f154e571f90>"
      ]
     },
     "metadata": {},
     "output_type": "display_data"
    },
    {
     "data": {
      "image/png": "[encoded data removed]",
      "text/plain": [
       "<matplotlib.figure.Figure at 0x7f154ea6c550>"
      ]
     },
     "metadata": {},
     "output_type": "display_data"
    },
    {
     "data": {
      "image/png": "[encoded data removed]",
      "text/plain": [
       "<matplotlib.figure.Figure at 0x7f154efda5d0>"
      ]
     },
     "metadata": {},
     "output_type": "display_data"
    },
    {
     "data": {
      "image/png": "[encoded data removed]",
      "text/plain": [
       "<matplotlib.figure.Figure at 0x7f154edc89d0>"
      ]
     },
     "metadata": {},
     "output_type": "display_data"
    },
    {
     "data": {
      "image/png": "[encoded data removed]",
      "text/plain": [
       "<matplotlib.figure.Figure at 0x7f154e225ed0>"
      ]
     },
     "metadata": {},
     "output_type": "display_data"
    },
    {
     "data": {
      "image/png": "[encoded data removed]",
      "text/plain": [
       "<matplotlib.figure.Figure at 0x7f154e9c39d0>"
      ]
     },
     "metadata": {},
     "output_type": "display_data"
    },
    {
     "data": {
      "image/png": "[encoded data removed]",
      "text/plain": [
       "<matplotlib.figure.Figure at 0x7f1558240790>"
      ]
     },
     "metadata": {},
     "output_type": "display_data"
    },
    {
     "data": {
      "image/png": "[encoded data removed]",
      "text/plain": [
       "<matplotlib.figure.Figure at 0x7f154e2b7d90>"
      ]
     },
     "metadata": {},
     "output_type": "display_data"
    },
    {
     "data": {
      "image/png": "[encoded data removed]",
      "text/plain": [
       "<matplotlib.figure.Figure at 0x7f1558053590>"
      ]
     },
     "metadata": {},
     "output_type": "display_data"
    },
    {
     "data": {
      "image/png": "[encoded data removed]",
      "text/plain": [
       "<matplotlib.figure.Figure at 0x7f154e38a6d0>"
      ]
     },
     "metadata": {},
     "output_type": "display_data"
    },
    {
     "data": {
      "image/png": "[encoded data removed]",
      "text/plain": [
       "<matplotlib.figure.Figure at 0x7f154e3f8f90>"
      ]
     },
     "metadata": {},
     "output_type": "display_data"
    },
    {
     "data": {
      "image/png": "[encoded data removed]",
      "text/plain": [
       "<matplotlib.figure.Figure at 0x7f154e23ac50>"
      ]
     },
     "metadata": {},
     "output_type": "display_data"
    },
    {
     "data": {
      "image/png": "[encoded data removed]",
      "text/plain": [
       "<matplotlib.figure.Figure at 0x7f154e317c50>"
      ]
     },
     "metadata": {},
     "output_type": "display_data"
    }
   ],
   "source": [
    "for f in fp:\n",
    "    plt.imshow(f.s1-f.s0)\n",
    "    plt.show()"
   ]
  },
  {
   "cell_type": "code",
   "execution_count": 28,
   "metadata": {
    "scrolled": false
   },
   "outputs": [
    {
     "data": {
      "text/plain": [
       "[<matplotlib.lines.Line2D at 0x7f154e5a2150>]"
      ]
     },
     "execution_count": 28,
     "metadata": {},
     "output_type": "execute_result"
    },
    {
     "data": {
      "image/png": "[encoded data removed]",
      "text/plain": [
       "<matplotlib.figure.Figure at 0x7f154e98d8d0>"
      ]
     },
     "metadata": {},
     "output_type": "display_data"
    }
   ],
   "source": [
    "plt.plot([t[1].center.x for t in traj])"
   ]
  },
  {
   "cell_type": "code",
   "execution_count": 24,
   "metadata": {},
   "outputs": [
    {
     "data": {
      "text/plain": [
       "{(-11, 0),\n",
       " (-7, 0),\n",
       " (-2, 0),\n",
       " (-1, 0),\n",
       " (6, 0),\n",
       " (7, 0),\n",
       " (9, 0),\n",
       " (10, 0),\n",
       " (12, 0),\n",
       " (14, 0)}"
      ]
     },
     "execution_count": 24,
     "metadata": {},
     "output_type": "execute_result"
    }
   ],
   "source": [
    "traj = mt.movers[0].trajectory\n",
    "disp_boxes = [(t1[1]-t0[1]) for t1, t0 in zip(traj[1:],traj[:-1])]\n",
    "disp_pts = [b.ll for b in disp_boxes]\n",
    "disp_unique = {d.to_tuple() for d in disp_pts}\n",
    "disp_unique"
   ]
  },
  {
   "cell_type": "code",
   "execution_count": 20,
   "metadata": {},
   "outputs": [
    {
     "data": {
      "image/png": "[encoded data removed]",
      "text/plain": [
       "<matplotlib.figure.Figure at 0x7fddaf78a410>"
      ]
     },
     "metadata": {},
     "output_type": "display_data"
    }
   ],
   "source": [
    "plt.scatter(*zip(*disp_unique))\n",
    "plt.axis([-10,10,-10,10]);"
   ]
  },
  {
   "cell_type": "code",
   "execution_count": 17,
   "metadata": {
    "scrolled": true
   },
   "outputs": [
    {
     "name": "stdout",
     "output_type": "stream",
     "text": [
      "\n",
      " Frame: 0\n"
     ]
    },
    {
     "data": {
      "image/png": "[encoded data removed]",
      "text/plain": [
       "<matplotlib.figure.Figure at 0x7f154e3e5ad0>"
      ]
     },
     "metadata": {},
     "output_type": "display_data"
    },
    {
     "name": "stdout",
     "output_type": "stream",
     "text": [
      "\n",
      " Frame: 1\n"
     ]
    },
    {
     "data": {
      "image/png": "[encoded data removed]",
      "text/plain": [
       "<matplotlib.figure.Figure at 0x7f154e762f90>"
      ]
     },
     "metadata": {},
     "output_type": "display_data"
    },
    {
     "name": "stdout",
     "output_type": "stream",
     "text": [
      "\n",
      " Frame: 2\n"
     ]
    },
    {
     "data": {
      "image/png": "[encoded data removed]",
      "text/plain": [
       "<matplotlib.figure.Figure at 0x7f154e752310>"
      ]
     },
     "metadata": {},
     "output_type": "display_data"
    },
    {
     "name": "stdout",
     "output_type": "stream",
     "text": [
      "\n",
      " Frame: 3\n"
     ]
    },
    {
     "data": {
      "image/png": "[encoded data removed]",
      "text/plain": [
       "<matplotlib.figure.Figure at 0x7f154e7fee90>"
      ]
     },
     "metadata": {},
     "output_type": "display_data"
    },
    {
     "name": "stdout",
     "output_type": "stream",
     "text": [
      "\n",
      " Frame: 4\n"
     ]
    },
    {
     "data": {
      "image/png": "[encoded data removed]",
      "text/plain": [
       "<matplotlib.figure.Figure at 0x7f154e433fd0>"
      ]
     },
     "metadata": {},
     "output_type": "display_data"
    },
    {
     "name": "stdout",
     "output_type": "stream",
     "text": [
      "\n",
      " Frame: 5\n"
     ]
    },
    {
     "data": {
      "image/png": "[encoded data removed]",
      "text/plain": [
       "<matplotlib.figure.Figure at 0x7f154e2d6dd0>"
      ]
     },
     "metadata": {},
     "output_type": "display_data"
    },
    {
     "name": "stdout",
     "output_type": "stream",
     "text": [
      "\n",
      " Frame: 6\n"
     ]
    },
    {
     "data": {
      "image/png": "[encoded data removed]",
      "text/plain": [
       "<matplotlib.figure.Figure at 0x7f154e1a0d90>"
      ]
     },
     "metadata": {},
     "output_type": "display_data"
    },
    {
     "name": "stdout",
     "output_type": "stream",
     "text": [
      "\n",
      " Frame: 7\n"
     ]
    },
    {
     "data": {
      "image/png": "[encoded data removed]",
      "text/plain": [
       "<matplotlib.figure.Figure at 0x7f154e0a7b90>"
      ]
     },
     "metadata": {},
     "output_type": "display_data"
    },
    {
     "name": "stdout",
     "output_type": "stream",
     "text": [
      "\n",
      " Frame: 8\n"
     ]
    },
    {
     "data": {
      "image/png": "[encoded data removed]",
      "text/plain": [
       "<matplotlib.figure.Figure at 0x7f154e591e50>"
      ]
     },
     "metadata": {},
     "output_type": "display_data"
    },
    {
     "name": "stdout",
     "output_type": "stream",
     "text": [
      "\n",
      " Frame: 9\n"
     ]
    },
    {
     "data": {
      "image/png": "[encoded data removed]",
      "text/plain": [
       "<matplotlib.figure.Figure at 0x7f154e41d690>"
      ]
     },
     "metadata": {},
     "output_type": "display_data"
    },
    {
     "name": "stdout",
     "output_type": "stream",
     "text": [
      "\n",
      " Frame: 10\n"
     ]
    },
    {
     "data": {
      "image/png": "[encoded data removed]",
      "text/plain": [
       "<matplotlib.figure.Figure at 0x7f154ee5e950>"
      ]
     },
     "metadata": {},
     "output_type": "display_data"
    },
    {
     "name": "stdout",
     "output_type": "stream",
     "text": [
      "\n",
      " Frame: 11\n"
     ]
    },
    {
     "data": {
      "image/png": "[encoded data removed]",
      "text/plain": [
       "<matplotlib.figure.Figure at 0x7f15580ccc90>"
      ]
     },
     "metadata": {},
     "output_type": "display_data"
    },
    {
     "name": "stdout",
     "output_type": "stream",
     "text": [
      "\n",
      " Frame: 12\n"
     ]
    },
    {
     "data": {
      "image/png": "[encoded data removed]",
      "text/plain": [
       "<matplotlib.figure.Figure at 0x7f154e884950>"
      ]
     },
     "metadata": {},
     "output_type": "display_data"
    },
    {
     "name": "stdout",
     "output_type": "stream",
     "text": [
      "\n",
      " Frame: 13\n"
     ]
    },
    {
     "data": {
      "image/png": "[encoded data removed]",
      "text/plain": [
       "<matplotlib.figure.Figure at 0x7f154eb8d550>"
      ]
     },
     "metadata": {},
     "output_type": "display_data"
    },
    {
     "name": "stdout",
     "output_type": "stream",
     "text": [
      "\n",
      " Frame: 14\n"
     ]
    },
    {
     "data": {
      "image/png": "[encoded data removed]",
      "text/plain": [
       "<matplotlib.figure.Figure at 0x7f154eda3250>"
      ]
     },
     "metadata": {},
     "output_type": "display_data"
    },
    {
     "name": "stdout",
     "output_type": "stream",
     "text": [
      "\n",
      " Frame: 15\n"
     ]
    },
    {
     "data": {
      "image/png": "[encoded data removed]",
      "text/plain": [
       "<matplotlib.figure.Figure at 0x7f154eb6ee50>"
      ]
     },
     "metadata": {},
     "output_type": "display_data"
    },
    {
     "name": "stdout",
     "output_type": "stream",
     "text": [
      "\n",
      " Frame: 16\n"
     ]
    },
    {
     "data": {
      "image/png": "[encoded data removed]",
      "text/plain": [
       "<matplotlib.figure.Figure at 0x7f154ea3ba50>"
      ]
     },
     "metadata": {},
     "output_type": "display_data"
    },
    {
     "name": "stdout",
     "output_type": "stream",
     "text": [
      "\n",
      " Frame: 17\n"
     ]
    },
    {
     "data": {
      "image/png": "[encoded data removed]",
      "text/plain": [
       "<matplotlib.figure.Figure at 0x7f154e801590>"
      ]
     },
     "metadata": {},
     "output_type": "display_data"
    },
    {
     "name": "stdout",
     "output_type": "stream",
     "text": [
      "\n",
      " Frame: 18\n"
     ]
    },
    {
     "data": {
      "image/png": "[encoded data removed]",
      "text/plain": [
       "<matplotlib.figure.Figure at 0x7f154e51bb50>"
      ]
     },
     "metadata": {},
     "output_type": "display_data"
    },
    {
     "name": "stdout",
     "output_type": "stream",
     "text": [
      "\n",
      " Frame: 19\n"
     ]
    },
    {
     "data": {
      "image/png": "[encoded data removed]",
      "text/plain": [
       "<matplotlib.figure.Figure at 0x7f15580444d0>"
      ]
     },
     "metadata": {},
     "output_type": "display_data"
    },
    {
     "name": "stdout",
     "output_type": "stream",
     "text": [
      "\n",
      " Frame: 20\n"
     ]
    },
    {
     "data": {
      "image/png": "[encoded data removed]",
      "text/plain": [
       "<matplotlib.figure.Figure at 0x7f15582426d0>"
      ]
     },
     "metadata": {},
     "output_type": "display_data"
    }
   ],
   "source": [
    "for i in range(mt.cur_frame):\n",
    "    print '\\n Frame: ' + str(i)\n",
    "    #print 'Action: ' + str(mt.action_hist[i]) + '\\n'\n",
    "    fig = plt.figure(figsize=(12,5))\n",
    "\n",
    "    movers_cur_frame = []\n",
    "    for m in mt.movers:\n",
    "        cur_frame_pos = filter(lambda p: p[0]==i, m.trajectory)\n",
    "        if len(cur_frame_pos) > 0:\n",
    "            movers_cur_frame.append((m.id, cur_frame_pos[0][1]))\n",
    "        \n",
    "    ax = plt.gca()\n",
    "    plt.axis('off')\n",
    "    if i == 0:\n",
    "        plt.imshow(fp[i].s0)\n",
    "    else:\n",
    "        plt.imshow(fp[i-1].s1)\n",
    "    for data in movers_cur_frame:\n",
    "        m_id = data[0]\n",
    "        box = data[1]\n",
    "        ax.add_patch(patches.Rectangle((box.ll.x, box.ll.y),\n",
    "                                    box.width, box.height,\n",
    "                                    color=box_colors[(m_id+1) % len(box_colors)],\n",
    "                                    fill=False)\n",
    "            )\n",
    "        plt.text(box.ur.x+3, box.ur.y+3, str(m_id),color='w')\n",
    "    plt.show()"
   ]
  },
  {
   "cell_type": "code",
   "execution_count": 50,
   "metadata": {
    "scrolled": false
   },
   "outputs": [
    {
     "name": "stdout",
     "output_type": "stream",
     "text": [
      "\n",
      " Frame: 0\n"
     ]
    },
    {
     "data": {
      "image/png": "[encoded data removed]",
      "text/plain": [
       "<matplotlib.figure.Figure at 0x7f1c332c21d0>"
      ]
     },
     "metadata": {},
     "output_type": "display_data"
    },
    {
     "name": "stdout",
     "output_type": "stream",
     "text": [
      "\n",
      " Frame: 1\n"
     ]
    },
    {
     "data": {
      "image/png": "[encoded data removed]",
      "text/plain": [
       "<matplotlib.figure.Figure at 0x7f1c3324db10>"
      ]
     },
     "metadata": {},
     "output_type": "display_data"
    },
    {
     "name": "stdout",
     "output_type": "stream",
     "text": [
      "\n",
      " Frame: 2\n"
     ]
    },
    {
     "data": {
      "image/png": "[encoded data removed]",
      "text/plain": [
       "<matplotlib.figure.Figure at 0x7f1c3c648250>"
      ]
     },
     "metadata": {},
     "output_type": "display_data"
    },
    {
     "name": "stdout",
     "output_type": "stream",
     "text": [
      "\n",
      " Frame: 3\n"
     ]
    },
    {
     "data": {
      "image/png": "[encoded data removed]",
      "text/plain": [
       "<matplotlib.figure.Figure at 0x7f1c3c21dbd0>"
      ]
     },
     "metadata": {},
     "output_type": "display_data"
    },
    {
     "name": "stdout",
     "output_type": "stream",
     "text": [
      "\n",
      " Frame: 4\n"
     ]
    },
    {
     "data": {
      "image/png": "[encoded data removed]",
      "text/plain": [
       "<matplotlib.figure.Figure at 0x7f1c333e8ed0>"
      ]
     },
     "metadata": {},
     "output_type": "display_data"
    },
    {
     "name": "stdout",
     "output_type": "stream",
     "text": [
      "\n",
      " Frame: 5\n"
     ]
    },
    {
     "data": {
      "image/png": "[encoded data removed]",
      "text/plain": [
       "<matplotlib.figure.Figure at 0x7f1c3c6a8490>"
      ]
     },
     "metadata": {},
     "output_type": "display_data"
    },
    {
     "name": "stdout",
     "output_type": "stream",
     "text": [
      "\n",
      " Frame: 6\n"
     ]
    },
    {
     "data": {
      "image/png": "[encoded data removed]",
      "text/plain": [
       "<matplotlib.figure.Figure at 0x7f1c3c6cb710>"
      ]
     },
     "metadata": {},
     "output_type": "display_data"
    },
    {
     "name": "stdout",
     "output_type": "stream",
     "text": [
      "\n",
      " Frame: 7\n"
     ]
    },
    {
     "data": {
      "image/png": "[encoded data removed]",
      "text/plain": [
       "<matplotlib.figure.Figure at 0x7f1c331b5390>"
      ]
     },
     "metadata": {},
     "output_type": "display_data"
    },
    {
     "name": "stdout",
     "output_type": "stream",
     "text": [
      "\n",
      " Frame: 8\n"
     ]
    },
    {
     "data": {
      "image/png": "[encoded data removed]",
      "text/plain": [
       "<matplotlib.figure.Figure at 0x7f1c330a6ed0>"
      ]
     },
     "metadata": {},
     "output_type": "display_data"
    },
    {
     "name": "stdout",
     "output_type": "stream",
     "text": [
      "\n",
      " Frame: 9\n"
     ]
    },
    {
     "data": {
      "image/png": "[encoded data removed]",
      "text/plain": [
       "<matplotlib.figure.Figure at 0x7f1c3c399790>"
      ]
     },
     "metadata": {},
     "output_type": "display_data"
    },
    {
     "name": "stdout",
     "output_type": "stream",
     "text": [
      "\n",
      " Frame: 10\n"
     ]
    },
    {
     "data": {
      "image/png": "[encoded data removed]",
      "text/plain": [
       "<matplotlib.figure.Figure at 0x7f1c33191050>"
      ]
     },
     "metadata": {},
     "output_type": "display_data"
    },
    {
     "name": "stdout",
     "output_type": "stream",
     "text": [
      "\n",
      " Frame: 11\n"
     ]
    },
    {
     "data": {
      "image/png": "[encoded data removed]",
      "text/plain": [
       "<matplotlib.figure.Figure at 0x7f1c3c3a4150>"
      ]
     },
     "metadata": {},
     "output_type": "display_data"
    },
    {
     "name": "stdout",
     "output_type": "stream",
     "text": [
      "\n",
      " Frame: 12\n"
     ]
    },
    {
     "data": {
      "image/png": "[encoded data removed]",
      "text/plain": [
       "<matplotlib.figure.Figure at 0x7f1c3c648810>"
      ]
     },
     "metadata": {},
     "output_type": "display_data"
    },
    {
     "name": "stdout",
     "output_type": "stream",
     "text": [
      "\n",
      " Frame: 13\n"
     ]
    },
    {
     "data": {
      "image/png": "[encoded data removed]",
      "text/plain": [
       "<matplotlib.figure.Figure at 0x7f1c3c18bd50>"
      ]
     },
     "metadata": {},
     "output_type": "display_data"
    },
    {
     "name": "stdout",
     "output_type": "stream",
     "text": [
      "\n",
      " Frame: 14\n"
     ]
    },
    {
     "data": {
      "image/png": "[encoded data removed]",
      "text/plain": [
       "<matplotlib.figure.Figure at 0x7f1c337cb690>"
      ]
     },
     "metadata": {},
     "output_type": "display_data"
    },
    {
     "name": "stdout",
     "output_type": "stream",
     "text": [
      "\n",
      " Frame: 15\n"
     ]
    },
    {
     "data": {
      "image/png": "[encoded data removed]",
      "text/plain": [
       "<matplotlib.figure.Figure at 0x7f1c331cd090>"
      ]
     },
     "metadata": {},
     "output_type": "display_data"
    },
    {
     "name": "stdout",
     "output_type": "stream",
     "text": [
      "\n",
      " Frame: 16\n"
     ]
    },
    {
     "data": {
      "image/png": "[encoded data removed]",
      "text/plain": [
       "<matplotlib.figure.Figure at 0x7f1c33366f90>"
      ]
     },
     "metadata": {},
     "output_type": "display_data"
    },
    {
     "name": "stdout",
     "output_type": "stream",
     "text": [
      "\n",
      " Frame: 17\n"
     ]
    },
    {
     "data": {
      "image/png": "[encoded data removed]",
      "text/plain": [
       "<matplotlib.figure.Figure at 0x7f1c3fa7f5d0>"
      ]
     },
     "metadata": {},
     "output_type": "display_data"
    },
    {
     "name": "stdout",
     "output_type": "stream",
     "text": [
      "\n",
      " Frame: 18\n"
     ]
    },
    {
     "data": {
      "image/png": "[encoded data removed]",
      "text/plain": [
       "<matplotlib.figure.Figure at 0x7f1c3c09fd10>"
      ]
     },
     "metadata": {},
     "output_type": "display_data"
    },
    {
     "name": "stdout",
     "output_type": "stream",
     "text": [
      "\n",
      " Frame: 19\n"
     ]
    },
    {
     "data": {
      "image/png": "[encoded data removed]",
      "text/plain": [
       "<matplotlib.figure.Figure at 0x7f1c33606050>"
      ]
     },
     "metadata": {},
     "output_type": "display_data"
    },
    {
     "name": "stdout",
     "output_type": "stream",
     "text": [
      "\n",
      " Frame: 20\n"
     ]
    },
    {
     "data": {
      "image/png": "[encoded data removed]",
      "text/plain": [
       "<matplotlib.figure.Figure at 0x7f1c331ebed0>"
      ]
     },
     "metadata": {},
     "output_type": "display_data"
    },
    {
     "name": "stdout",
     "output_type": "stream",
     "text": [
      "\n",
      " Frame: 21\n"
     ]
    },
    {
     "data": {
      "image/png": "[encoded data removed]",
      "text/plain": [
       "<matplotlib.figure.Figure at 0x7f1c3c293710>"
      ]
     },
     "metadata": {},
     "output_type": "display_data"
    },
    {
     "name": "stdout",
     "output_type": "stream",
     "text": [
      "\n",
      " Frame: 22\n"
     ]
    },
    {
     "data": {
      "image/png": "[encoded data removed]",
      "text/plain": [
       "<matplotlib.figure.Figure at 0x7f1c3c5672d0>"
      ]
     },
     "metadata": {},
     "output_type": "display_data"
    },
    {
     "name": "stdout",
     "output_type": "stream",
     "text": [
      "\n",
      " Frame: 23\n"
     ]
    },
    {
     "data": {
      "image/png": "[encoded data removed]",
      "text/plain": [
       "<matplotlib.figure.Figure at 0x7f1c3c4db1d0>"
      ]
     },
     "metadata": {},
     "output_type": "display_data"
    },
    {
     "name": "stdout",
     "output_type": "stream",
     "text": [
      "\n",
      " Frame: 24\n"
     ]
    },
    {
     "data": {
      "image/png": "[encoded data removed]",
      "text/plain": [
       "<matplotlib.figure.Figure at 0x7f1c33557e50>"
      ]
     },
     "metadata": {},
     "output_type": "display_data"
    },
    {
     "name": "stdout",
     "output_type": "stream",
     "text": [
      "\n",
      " Frame: 25\n"
     ]
    },
    {
     "data": {
      "image/png": "[encoded data removed]",
      "text/plain": [
       "<matplotlib.figure.Figure at 0x7f1c3c0e50d0>"
      ]
     },
     "metadata": {},
     "output_type": "display_data"
    },
    {
     "name": "stdout",
     "output_type": "stream",
     "text": [
      "\n",
      " Frame: 26\n"
     ]
    },
    {
     "data": {
      "image/png": "[encoded data removed]",
      "text/plain": [
       "<matplotlib.figure.Figure at 0x7f1c3c1b1e50>"
      ]
     },
     "metadata": {},
     "output_type": "display_data"
    },
    {
     "name": "stdout",
     "output_type": "stream",
     "text": [
      "\n",
      " Frame: 27\n"
     ]
    },
    {
     "data": {
      "image/png": "[encoded data removed]",
      "text/plain": [
       "<matplotlib.figure.Figure at 0x7f1c3c04bfd0>"
      ]
     },
     "metadata": {},
     "output_type": "display_data"
    },
    {
     "name": "stdout",
     "output_type": "stream",
     "text": [
      "\n",
      " Frame: 28\n"
     ]
    },
    {
     "data": {
      "image/png": "[encoded data removed]",
      "text/plain": [
       "<matplotlib.figure.Figure at 0x7f1c3f4ddf90>"
      ]
     },
     "metadata": {},
     "output_type": "display_data"
    },
    {
     "name": "stdout",
     "output_type": "stream",
     "text": [
      "\n",
      " Frame: 29\n"
     ]
    },
    {
     "data": {
      "image/png": "[encoded data removed]",
      "text/plain": [
       "<matplotlib.figure.Figure at 0x7f1c3c6fee10>"
      ]
     },
     "metadata": {},
     "output_type": "display_data"
    },
    {
     "name": "stdout",
     "output_type": "stream",
     "text": [
      "\n",
      " Frame: 30\n"
     ]
    },
    {
     "data": {
      "image/png": "[encoded data removed]",
      "text/plain": [
       "<matplotlib.figure.Figure at 0x7f1c3c6a4650>"
      ]
     },
     "metadata": {},
     "output_type": "display_data"
    },
    {
     "name": "stdout",
     "output_type": "stream",
     "text": [
      "\n",
      " Frame: 31\n"
     ]
    },
    {
     "data": {
      "image/png": "[encoded data removed]",
      "text/plain": [
       "<matplotlib.figure.Figure at 0x7f1c3c6f3710>"
      ]
     },
     "metadata": {},
     "output_type": "display_data"
    },
    {
     "name": "stdout",
     "output_type": "stream",
     "text": [
      "\n",
      " Frame: 32\n"
     ]
    },
    {
     "data": {
      "image/png": "[encoded data removed]",
      "text/plain": [
       "<matplotlib.figure.Figure at 0x7f1c3f47da90>"
      ]
     },
     "metadata": {},
     "output_type": "display_data"
    },
    {
     "name": "stdout",
     "output_type": "stream",
     "text": [
      "\n",
      " Frame: 33\n"
     ]
    },
    {
     "data": {
      "image/png": "[encoded data removed]",
      "text/plain": [
       "<matplotlib.figure.Figure at 0x7f1c332c2590>"
      ]
     },
     "metadata": {},
     "output_type": "display_data"
    },
    {
     "name": "stdout",
     "output_type": "stream",
     "text": [
      "\n",
      " Frame: 34\n"
     ]
    },
    {
     "data": {
      "image/png": "[encoded data removed]",
      "text/plain": [
       "<matplotlib.figure.Figure at 0x7f1c3fa7f8d0>"
      ]
     },
     "metadata": {},
     "output_type": "display_data"
    }
   ],
   "source": [
    "for i in range(mt.cur_frame-1):\n",
    "    print '\\n Frame: ' + str(i)\n",
    "    #print 'Action: ' + str(mt.action_hist[i]) + '\\n'\n",
    "    fig = plt.figure(figsize=(12,5))\n",
    "\n",
    "    movers_cur_frame = []\n",
    "    for m in mt.movers:\n",
    "        cur_frame_pos = filter(lambda p: p[0]==i, m.trajectory)\n",
    "        if len(cur_frame_pos) > 0:\n",
    "            movers_cur_frame.append((m.id, cur_frame_pos[0][1]))\n",
    "    ax = fig.add_subplot(121)\n",
    "    plt.axis('off')\n",
    "    plt.imshow(fp[i].s0)\n",
    "    finder = fp[i].finder\n",
    "    for m_id, boxes in enumerate(finder.mover_boxes):\n",
    "        box = boxes[0]\n",
    "        ax.add_patch(patches.Rectangle((box.ll.x, box.ll.y),\n",
    "                                    box.width, box.height,\n",
    "                                    color=box_colors[m_id+1],\n",
    "                                    fill=False)\n",
    "            )\n",
    "        plt.text(box.ur.x+3, box.ur.y+3, str(m_id),color='w')\n",
    "    ax = fig.add_subplot(122)\n",
    "    plt.axis('off')\n",
    "    plt.imshow(fp[i].s1)\n",
    "    for m_id, boxes in enumerate(finder.mover_boxes):\n",
    "        box = boxes[1]\n",
    "        ax.add_patch(patches.Rectangle((box.ll.x, box.ll.y),\n",
    "                                    box.width, box.height,\n",
    "                                    color=box_colors[m_id+1],\n",
    "                                    fill=False)\n",
    "            )\n",
    "        plt.text(box.ur.x+3, box.ur.y+3, str(m_id),color='w')\n",
    "    plt.show()"
   ]
  },
  {
   "cell_type": "code",
   "execution_count": null,
   "metadata": {
    "collapsed": true
   },
   "outputs": [],
   "source": [
    "print mt.movers[1].trajectory\n",
    "print mt.movers[2].trajectory"
   ]
  },
  {
   "cell_type": "code",
   "execution_count": null,
   "metadata": {
    "collapsed": true
   },
   "outputs": [],
   "source": [
    "print fp[2].mover_boxes[1][1]\n",
    "print fp[3].mover_boxes[1][0]\n",
    "\n",
    "print (fp[2].mover_boxes[1][1].ll).sq_dist(fp[3].mover_boxes[1][0].ll)\n",
    "print (fp[2].mover_boxes[1][1].ur).sq_dist(fp[3].mover_boxes[1][0].ur)"
   ]
  },
  {
   "cell_type": "code",
   "execution_count": null,
   "metadata": {
    "collapsed": true
   },
   "outputs": [],
   "source": [
    "finder=fp[3].finder\n",
    "#plt.imshow(finder.mover_boxes[1][1].img)\n",
    "(5 + finder.cnts_joined[2].height) % finder.cnts_joined[2].height\n",
    "finder.cnts_joined[2].height"
   ]
  },
  {
   "cell_type": "code",
   "execution_count": null,
   "metadata": {
    "collapsed": true
   },
   "outputs": [],
   "source": [
    "plt.imshow(fp[3].s0 - fp[2].s1)"
   ]
  },
  {
   "cell_type": "code",
   "execution_count": null,
   "metadata": {
    "collapsed": true
   },
   "outputs": [],
   "source": [
    "s0s = [f.s0 for f in fp]\n",
    "s1s = [f.s1 for f in fp]"
   ]
  },
  {
   "cell_type": "code",
   "execution_count": null,
   "metadata": {
    "collapsed": true
   },
   "outputs": [],
   "source": [
    "ii = 2\n",
    "\n",
    "f0 = cv2.cvtColor(fp[ii].s0, cv2.COLOR_BGR2GRAY).astype('float32')\n",
    "f1 = cv2.cvtColor(fp[ii].s1, cv2.COLOR_BGR2GRAY).astype('float32')\n",
    "s0 = fp[ii].s0\n",
    "s1 = fp[ii].s1\n",
    "\n",
    "boxes = fp[ii].boxes\n",
    "\n",
    "plt.imshow(f1-f0)"
   ]
  },
  {
   "cell_type": "code",
   "execution_count": null,
   "metadata": {
    "collapsed": true
   },
   "outputs": [],
   "source": [
    "def join_cnts(cnts, inds):\n",
    "    (x, y, w, h) = cv2.boundingRect(cnts[inds[0]])\n",
    "    ll = Point(x,y)\n",
    "    ur = Point(x+w,y+h)\n",
    "    for ind in inds[1:]:\n",
    "        (x, y, w, h) = cv2.boundingRect(cnts[ind]) \n",
    "        if x < ll.x:\n",
    "            ll.x = x\n",
    "        if x > ur.x:\n",
    "            ur.x = x\n",
    "        if y < ll.y:\n",
    "            ll.y = y\n",
    "        if y > ur.y:\n",
    "            ur.y = y\n",
    "    return Box(ll,ur)"
   ]
  },
  {
   "cell_type": "code",
   "execution_count": null,
   "metadata": {
    "collapsed": true
   },
   "outputs": [],
   "source": [
    "frame_diff = fp[ii].s1 - fp[ii].s0\n",
    "fd_grey = cv2.cvtColor(frame_diff, cv2.COLOR_BGR2GRAY)\n",
    "thresh = cv2.threshold(fd_grey,1,255,cv2.THRESH_BINARY)[1]\n",
    "thresh_dilated = cv2.dilate(thresh,None,iterations=1)\n",
    "(cnts, _) = cv2.findContours(thresh_dilated.copy(), cv2.RETR_EXTERNAL,cv2.CHAIN_APPROX_SIMPLE)\n",
    "\n",
    "from itertools import combinations\n",
    "all_joins = [c \\\n",
    " for l in range(1,len(cnts)+1) \\\n",
    " for c in combinations(range(len(cnts)),l)\\\n",
    "]\n",
    "\n",
    "cnts_joined = [join_cnts(cnts,inds) for inds in all_joins] \n",
    "\n",
    "'''\n",
    "for i, c in enumerate(cnts_joined):\n",
    "    (x, y, w, h) = (c.ll.x, c.ll.y, c.width, c.height)\n",
    "    plt.imshow(thresh_dilated,cmap='gray')\n",
    "    ax = plt.gca()\n",
    "    plt.axis([0, 159, 209, 0])\n",
    "    ax.add_patch(patches.Rectangle((x,y),w,h,color='g',fill=False))\n",
    "    plt.show()\n",
    "'''"
   ]
  },
  {
   "cell_type": "code",
   "execution_count": null,
   "metadata": {
    "collapsed": true
   },
   "outputs": [],
   "source": [
    "def generate_translate(f0, f1, shifts, debug=False):\n",
    "    out = np.zeros(f0.shape)\n",
    "    #out = f1.copy()\n",
    "    n_changed = 0\n",
    "    for i in range(shifts.shape[0]):\n",
    "        for j in range(shifts.shape[1]):\n",
    "            try:\n",
    "                x_out_float = (i+shifts[i,j,0])# % out.shape[0]\n",
    "                y_out_float = (j+shifts[i,j,1])# % out.shape[1]\n",
    "                \n",
    "                #frac_x = x_out_float - int(x_out_float)\n",
    "                #frac_y = y_out_float - int(y_out_float)\n",
    "\n",
    "                x_out = np.round(x_out_float).astype(int) % out.shape[0]\n",
    "                y_out = np.round(y_out_float).astype(int) % out.shape[1]\n",
    "                \n",
    "                out[x_out,y_out,:] = f0[i,j,:]\n",
    "                #out[x_out,y_out,:] = (1-frac_x)*(1-frac_y)*f0[i,j,:]\n",
    "                #out[x_out+1,y_out,:] += (frac_x)*(1-frac_y)*f0[i,j,:]\n",
    "                #out[x_out,y_out+1,:] += (1-frac_x)*(frac_y)*f0[i,j,:]\n",
    "                #out[x_out+1,y_out+1,:] += (frac_x)*(frac_y)*f0[i,j,:]\n",
    "                n_changed += 1\n",
    "            except IndexError:\n",
    "                pass\n",
    "    if debug:\n",
    "        return out, n_changed\n",
    "    else:\n",
    "        return out"
   ]
  },
  {
   "cell_type": "code",
   "execution_count": null,
   "metadata": {
    "collapsed": true
   },
   "outputs": [],
   "source": [
    "all_joins"
   ]
  },
  {
   "cell_type": "code",
   "execution_count": null,
   "metadata": {
    "collapsed": true,
    "scrolled": true
   },
   "outputs": [],
   "source": [
    "cnt_scores = {i: [] for i in range(len(cnts))}\n",
    "cnt_score_params = {i: [] for i in range(len(cnts))}\n",
    "for box_id, box in enumerate(cnts_joined):\n",
    "    print box_id, '\\n'\n",
    "    box0 = Box(box.ll, box.ur)\n",
    "    box1 = Box(box.ll, box.ur)\n",
    "    # grayscale\n",
    "    box0.add_image(f0)\n",
    "    box1.add_image(f1)\n",
    "\n",
    "    box0_1channel = np.expand_dims(box0.img,2)\n",
    "    box1_1channel = np.expand_dims(box1.img,2)\n",
    "    \n",
    "    shifts = np.zeros((f0.shape[0],f0.shape[1],2))\n",
    "    pc = cv2.phaseCorrelate(box0.img,box1.img)\n",
    "    four_shifts = [[np.floor(pc[1]),np.floor(pc[0])],\\\n",
    "                   [np.ceil(pc[1]),np.floor(pc[0])],\\\n",
    "                   [np.floor(pc[1]),np.ceil(pc[0])],\\\n",
    "                   [np.ceil(pc[1]),np.ceil(pc[0])]\n",
    "                  ]\n",
    "    best_ratio = 1\n",
    "    \n",
    "    best_shift = four_shifts[0]\n",
    "    for s in four_shifts:\n",
    "        shifts[:,:,0] = s[0]\n",
    "        shifts[:,:,1] = s[1]\n",
    "\n",
    "        synth_box1 = generate_translate(box0_1channel,box1_1channel,shifts)\n",
    "        synth_box0 = generate_translate(box1_1channel,box0_1channel,-shifts)\n",
    "\n",
    "        ratio0 = score(box0_1channel,box1_1channel,shifts)/score(box0_1channel,box1_1channel,0*shifts)\n",
    "        ratio1 = score(box1_1channel,box0_1channel,-shifts)/score(box1_1channel,box0_1channel,-0*shifts)\n",
    "\n",
    "        ratio_s = max(ratio0,ratio1)\n",
    "        if ratio_s < best_ratio:\n",
    "            best_shift = s\n",
    "            best_ratio = ratio_s\n",
    "    \n",
    "    s = best_shift\n",
    "    for ind in all_joins[box_id]:\n",
    "        cnt_scores[ind].append(best_ratio)\n",
    "        cnt_score_params[ind].append([all_joins[box_id], s])\n",
    "    \n",
    "    shifts[:,:,0] = s[0]\n",
    "    shifts[:,:,1] = s[1]\n",
    "\n",
    "    synth_box1 = generate_translate(box0_1channel,box1_1channel,shifts)\n",
    "    synth_box0 = generate_translate(box1_1channel,box0_1channel,-shifts)\n",
    "\n",
    "    ratio0 = score(box0_1channel,box1_1channel,shifts)/score(box0_1channel,box1_1channel,0*shifts)\n",
    "    ratio1 = score(box1_1channel,box0_1channel,-shifts)/score(box1_1channel,box0_1channel,-0*shifts)\n",
    "\n",
    "    print ratio0\n",
    "    print ''\n",
    "    print ratio1\n",
    "    print ''\n",
    "\n",
    "    print s, '\\n'\n",
    "\n",
    "    plt.figure()\n",
    "    plt.subplot(141)\n",
    "    plt.axis('off')\n",
    "    plt.imshow(box0.img,cmap='gray')\n",
    "    plt.subplot(142)\n",
    "    plt.axis('off')\n",
    "    plt.imshow(box1.img,cmap='gray')\n",
    "    plt.subplot(143)\n",
    "    plt.axis('off')\n",
    "    plt.imshow(synth_box0.squeeze(),cmap='gray')\n",
    "    plt.subplot(144)\n",
    "    plt.axis('off')\n",
    "    plt.imshow(synth_box1.squeeze(),cmap='gray')\n",
    "\n",
    "    plt.figure()\n",
    "    plt.subplot(121)\n",
    "    plt.axis('off')\n",
    "    plt.imshow(box0.img - box1.img)\n",
    "    plt.colorbar()\n",
    "    plt.subplot(122)\n",
    "    plt.axis('off')\n",
    "    plt.imshow(box0.img - synth_box0.squeeze())\n",
    "    plt.colorbar()\n",
    "\n",
    "    plt.show()"
   ]
  },
  {
   "cell_type": "code",
   "execution_count": null,
   "metadata": {
    "collapsed": true
   },
   "outputs": [],
   "source": [
    "print cnt_scores\n",
    "print cnt_score_params\n",
    "\n",
    "print cnt_scores_remaining"
   ]
  },
  {
   "cell_type": "code",
   "execution_count": null,
   "metadata": {
    "collapsed": true
   },
   "outputs": [],
   "source": []
  },
  {
   "cell_type": "code",
   "execution_count": null,
   "metadata": {
    "collapsed": true
   },
   "outputs": [],
   "source": [
    "pdb.set_trace()\n",
    "cnt_best_params = {}\n",
    "cnt_scores_remaining = cnt_scores.copy()\n",
    "cnt_score_params_remaining = cnt_score_params.copy()\n",
    "\n",
    "while len(cnt_best_params) < len(cnts):\n",
    "    best_scores_cnts = {k: min(v) \\\n",
    "                        for k, v in cnt_scores_remaining.iteritems()}\n",
    "    winning_index = np.argmin(best_scores_cnts.values())\n",
    "    winner = best_scores_cnts.keys()[winning_index]\n",
    "    winner_best_index = np.argmin(cnt_scores_remaining[winner])\n",
    "    cnt_best_params[winner] = cnt_score_params[winner][winner_best_index]\n",
    "    print cnt_scores_remaining, '\\n'\n",
    "    print cnt_score_params_remaining, '\\n\\n'\n",
    "    forbidden_inds = set(cnt_best_params[winner][0])\n",
    "    for k in cnt_scores_remaining:\n",
    "        scores_k = cnt_scores_remaining[k]\n",
    "        for j, sc in enumerate(scores_k):\n",
    "            join_k_j = cnt_score_params_remaining[k][j][0]\n",
    "            if len(forbidden_inds & set(join_k_j)) > 0:\n",
    "                del cnt_scores_remaining[k][j]\n",
    "                del cnt_score_params_remaining[k][j]\n",
    "    cnt_scores_remaining.pop(winner)\n",
    "cnt_best_params "
   ]
  },
  {
   "cell_type": "code",
   "execution_count": null,
   "metadata": {
    "collapsed": true
   },
   "outputs": [],
   "source": [
    "cnt_best_params = {}\n",
    "for cnt_id in cnt_scores:\n",
    "    best_index = np.argmin(cnt_scores[cnt_id])\n",
    "    cnt_best_params[cnt_id] = cnt_score_params[cnt_id][best_index]\n",
    "cnt_best_params"
   ]
  },
  {
   "cell_type": "code",
   "execution_count": null,
   "metadata": {
    "collapsed": true
   },
   "outputs": [],
   "source": [
    "mover_joins = set()\n",
    "mover_shifts = {}\n",
    "for c in cnt_best_params.values():\n",
    "    mover_joins.add(c[0])\n",
    "    mover_shifts[c[0]] = Point(int(c[1][1]),int(c[1][0]))\n",
    "mover_boxes = {inds: join_cnts(cnts,inds) for inds in mover_joins}"
   ]
  },
  {
   "cell_type": "code",
   "execution_count": null,
   "metadata": {
    "collapsed": true
   },
   "outputs": [],
   "source": [
    "for ind in mover_boxes:\n",
    "    box = mover_boxes[ind]\n",
    "    shift = mover_shifts[ind]\n",
    "    # delete line below later\n",
    "    shift = Point(shift.x, shift.y)\n",
    "    print shift\n",
    "    n_shift = -shift\n",
    "    box0 = Box(box.ll-shift.thresh(-1), box.ur-shift.thresh(1))\n",
    "    box1 = Box(box.ll-n_shift.thresh(-1), box.ur-n_shift.thresh(1))\n",
    "    print box0.center\n",
    "    print box1.center\n",
    "    print box1.center - box0.center\n",
    "    box0.add_image(s0)\n",
    "    box1.add_image(s1)\n",
    "    plt.subplot(121)\n",
    "    plt.imshow(box0.img)\n",
    "    plt.subplot(122)\n",
    "    plt.imshow(box1.img)\n",
    "    plt.show()"
   ]
  },
  {
   "cell_type": "code",
   "execution_count": null,
   "metadata": {
    "collapsed": true
   },
   "outputs": [],
   "source": [
    "def score(f0, f1, shifts):\n",
    "    err = f1 - generate_translate(f0, f1, shifts)\n",
    "    return np.sqrt(sum(err.flatten()**2))\n",
    "\n",
    "def start(f0, f1):\n",
    "    diff = f1 - f0\n",
    "    nz = diff.nonzero()\n",
    "    rand_nz = np.random.randint(nz[0].shape[0])\n",
    "    point = (nz[0][rand_nz], nz[1][rand_nz])\n",
    "\n",
    "    scores = []\n",
    "    inds = []\n",
    "    s = np.zeros((s0.shape[0],s0.shape[1],2),dtype=int)\n",
    "    for i in range(-3,4):\n",
    "        for j in range(-3,4):\n",
    "            s[point[0], point[1], 0] = i\n",
    "            s[point[0], point[1], 0] = j\n",
    "            inds.append((i,j))\n",
    "            scores.append(score(f0, f1, s))\n",
    "    shift = inds[np.argmin(scores)]\n",
    "    s = np.zeros((s0.shape[0],s0.shape[1],2),dtype=int)\n",
    "    s[point[0], point[1], 0] = shift[0]\n",
    "    s[point[0], point[1], 1] = shift[1]\n",
    "    print score(f0, f1, s)\n",
    "    return shift\n",
    "\n",
    "def expand(f0, f1, shift):\n",
    "    diff = f1 - f0\n",
    "    nz = diff.nonzero()\n",
    "    s = np.zeros((s0.shape[0],s0.shape[1],2),dtype=int)\n",
    "    for ind in range(nz[0].shape[0]-1):\n",
    "        i = nz[0][ind]\n",
    "        j = nz[1][ind]\n",
    "        s[i,j,0] = shift[0]\n",
    "        s[i,j,1] = shift[1]\n",
    "    s[:,:,0] = shift[0]\n",
    "    s[:,:,1] = shift[1]\n",
    "    print score(f0, f1, s)\n",
    "    return s"
   ]
  },
  {
   "cell_type": "code",
   "execution_count": null,
   "metadata": {
    "collapsed": true
   },
   "outputs": [],
   "source": [
    "\n",
    "mhi = np.zeros(frame_thresh[0].shape,dtype=np.float32)\n",
    "\n",
    "f_gray = cv2.cvtColor(fp[0].s0, cv2.COLOR_BGR2GRAY)\n",
    "cv2.updateMotionHistory(f_gray,mhi,1,10)\n",
    "\n",
    "for i, f in enumerate(fp):\n",
    "    f_gray = cv2.cvtColor(f.s1, cv2.COLOR_BGR2GRAY)\n",
    "    cv2.updateMotionHistory(f_gray,mhi,i+2,10)"
   ]
  },
  {
   "cell_type": "code",
   "execution_count": null,
   "metadata": {
    "collapsed": true
   },
   "outputs": [],
   "source": [
    "for i in range(1,10):\n",
    "    mhi2 = mhi.copy()\n",
    "    mhi2[mhi2 != i] = 0\n",
    "    plt.imshow(mhi2,cmap='gray')\n",
    "    plt.show()"
   ]
  },
  {
   "cell_type": "code",
   "execution_count": null,
   "metadata": {
    "collapsed": true
   },
   "outputs": [],
   "source": [
    "mg_mask, mg_orient = cv2.calcMotionGradient(mhi,1,3)\n",
    "\n",
    "for i in range(len(frame_thresh)+1):\n",
    "    seg_mask, seg_bounds = \\\n",
    "    cv2.segmentMotion(mhi, i+1, 2)\n",
    "    \n",
    "    plt.figure(figsize=(12,5))\n",
    "    ax = plt.subplot(131)\n",
    "    plt.imshow(seg_mask,cmap='gray')\n",
    "    plt.axis([0, 159, 209, 0])\n",
    "    for rect in seg_bounds:\n",
    "        x, y, rw, rh = rect\n",
    "        silh_roi   = frame_thresh[1][y:y+rh,x:x+rw]\n",
    "        orient_roi = mg_orient     [y:y+rh,x:x+rw]\n",
    "        mask_roi   = mg_mask       [y:y+rh,x:x+rw]\n",
    "        mhi_roi    = mhi           [y:y+rh,x:x+rw]\n",
    "\n",
    "        angle = cv2.calcGlobalOrientation(orient_roi, mask_roi, mhi_roi, 2, 10)\n",
    "\n",
    "        ax.add_patch(patches.Rectangle((x,y),rw,rh,fill=False,\n",
    "                                       color='g',\n",
    "                                      lw=2))\n",
    "    ax = plt.subplot(132)\n",
    "    plt.imshow(s0s[i])\n",
    "    plt.axis([0, 159, 209, 0])\n",
    "    for rect in seg_bounds:\n",
    "        x, y, rw, rh = rect\n",
    "        silh_roi   = frame_thresh[1][y:y+rh,x:x+rw]\n",
    "        orient_roi = mg_orient     [y:y+rh,x:x+rw]\n",
    "        mask_roi   = mg_mask       [y:y+rh,x:x+rw]\n",
    "        mhi_roi    = mhi           [y:y+rh,x:x+rw]\n",
    "\n",
    "        angle = cv2.calcGlobalOrientation(orient_roi, mask_roi, mhi_roi, 2, 10)\n",
    "\n",
    "        ax.add_patch(patches.Rectangle((x,y),rw,rh,fill=False,\n",
    "                                       color='g',\n",
    "                                      lw=2))\n",
    "    ax = plt.subplot(133)\n",
    "    plt.imshow(s1s[i])\n",
    "    plt.axis([0, 159, 209, 0])\n",
    "    for rect in seg_bounds:\n",
    "        x, y, rw, rh = rect\n",
    "        silh_roi   = frame_thresh[1][y:y+rh,x:x+rw]\n",
    "        orient_roi = mg_orient     [y:y+rh,x:x+rw]\n",
    "        mask_roi   = mg_mask       [y:y+rh,x:x+rw]\n",
    "        mhi_roi    = mhi           [y:y+rh,x:x+rw]\n",
    "\n",
    "        angle = cv2.calcGlobalOrientation(orient_roi, mask_roi, mhi_roi, 2, 10)\n",
    "\n",
    "        ax.add_patch(patches.Rectangle((x,y),rw,rh,fill=False,\n",
    "                                       color='g',\n",
    "                                      lw=2))\n",
    "    plt.show()"
   ]
  },
  {
   "cell_type": "code",
   "execution_count": null,
   "metadata": {
    "collapsed": true
   },
   "outputs": [],
   "source": [
    "i=3\n",
    "s0=s0s[i]\n",
    "s1=s0s[i+1]\n",
    "\n",
    "s0_gray = cv2.cvtColor(s0, cv2.COLOR_BGR2GRAY)\n",
    "s1_gray = cv2.cvtColor(s1, cv2.COLOR_BGR2GRAY)\n",
    "\n",
    "plt.imshow(s1-s0)"
   ]
  },
  {
   "cell_type": "code",
   "execution_count": null,
   "metadata": {
    "collapsed": true
   },
   "outputs": [],
   "source": []
  },
  {
   "cell_type": "code",
   "execution_count": null,
   "metadata": {
    "collapsed": true
   },
   "outputs": [],
   "source": [
    "shift"
   ]
  },
  {
   "cell_type": "code",
   "execution_count": null,
   "metadata": {
    "collapsed": true
   },
   "outputs": [],
   "source": [
    "shift = start(s0,s1)\n",
    "print score(s0, s1, np.zeros((s0.shape[0],s0.shape[1],2),dtype=int))\n",
    "s = expand(s0, s1, shift)\n",
    "plt.figure(figsize=(12,5))\n",
    "plt.subplot(131)\n",
    "plt.imshow(generate_translate(s0, s1, s))\n",
    "plt.subplot(132)\n",
    "plt.imshow(s0)\n",
    "plt.subplot(133)\n",
    "plt.imshow(s1)"
   ]
  },
  {
   "cell_type": "code",
   "execution_count": null,
   "metadata": {
    "collapsed": true
   },
   "outputs": [],
   "source": [
    "s = 0*np.ones((s0.shape[0],s0.shape[1],2),dtype=int)\n",
    "s[:,:,0]=0"
   ]
  },
  {
   "cell_type": "code",
   "execution_count": null,
   "metadata": {
    "collapsed": true
   },
   "outputs": [],
   "source": [
    "plt.imshow(generate_translate(s0, s1, s))"
   ]
  },
  {
   "cell_type": "code",
   "execution_count": null,
   "metadata": {
    "collapsed": true
   },
   "outputs": [],
   "source": [
    "plt.imshow(s0)\n",
    "plt.show()\n",
    "plt.imshow(s1)\n",
    "plt.show()"
   ]
  },
  {
   "cell_type": "code",
   "execution_count": null,
   "metadata": {
    "collapsed": true
   },
   "outputs": [],
   "source": []
  }
 ],
 "metadata": {
  "kernelspec": {
   "display_name": "Python 2",
   "language": "python",
   "name": "python2"
  },
  "language_info": {
   "codemirror_mode": {
    "name": "ipython",
    "version": 2
   },
   "file_extension": ".py",
   "mimetype": "text/x-python",
   "name": "python",
   "nbconvert_exporter": "python",
   "pygments_lexer": "ipython2",
   "version": "2.7.12"
  }
 },
 "nbformat": 4,
 "nbformat_minor": 2
}
