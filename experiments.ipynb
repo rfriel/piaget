{
 "cells": [
  {
   "cell_type": "code",
   "execution_count": 1,
   "metadata": {
    "collapsed": true
   },
   "outputs": [],
   "source": [
    "from __future__ import division\n",
    "\n",
    "import gym\n",
    "import numpy as np\n",
    "import pandas as pd\n",
    "import random\n",
    "import tensorflow as tf\n",
    "import tensorflow.contrib.slim as slim\n",
    "\n",
    "import trackpy as tp\n",
    "import matplotlib.pyplot as plt\n",
    "import matplotlib.patches as patches\n",
    "\n",
    "import scipy.misc\n",
    "import os\n",
    "%matplotlib inline\n",
    "from trackpy.predict import NearestVelocityPredict\n",
    "\n",
    "import cv2"
   ]
  },
  {
   "cell_type": "code",
   "execution_count": 2,
   "metadata": {
    "collapsed": true
   },
   "outputs": [],
   "source": [
    "import pdb\n",
    "from time import sleep\n",
    "\n",
    "import tensorflow.python.platform\n",
    "from tensorflow.python.platform import gfile\n",
    "\n",
    "from PIL import Image\n",
    "import re\n",
    "\n",
    "from sklearn.linear_model import LogisticRegression\n",
    "from sklearn.cross_validation import cross_val_score\n",
    "from sklearn.metrics import log_loss\n",
    "from sklearn.preprocessing import LabelBinarizer\n",
    "\n",
    "from sklearn.tree import DecisionTreeClassifier, DecisionTreeRegressor, export_graphviz\n",
    "from sklearn.ensemble import RandomForestClassifier"
   ]
  },
  {
   "cell_type": "code",
   "execution_count": 3,
   "metadata": {
    "collapsed": true
   },
   "outputs": [],
   "source": [
    "from piaget import Point, Mover, MoverTracker, FramePair, Box, Categorizer\n",
    "from piaget import init_env, play"
   ]
  },
  {
   "cell_type": "code",
   "execution_count": 171,
   "metadata": {
    "collapsed": true
   },
   "outputs": [],
   "source": [
    "random_seed = 1"
   ]
  },
  {
   "cell_type": "code",
   "execution_count": 172,
   "metadata": {},
   "outputs": [
    {
     "name": "stderr",
     "output_type": "stream",
     "text": [
      "[2017-05-16 16:45:21,912] Making new env: Assault-v0\n",
      "/Users/robertfriel/Documents/neural_networks/gym/gym/envs/registration.py:17: DeprecationWarning: Parameters to load are deprecated.  Call .resolve and .require separately.\n",
      "  result = entry_point.load(False)\n"
     ]
    }
   ],
   "source": [
    "np.random.seed(random_seed)\n",
    "#env = gym.make('MsPacman-v0'); num_wait_steps=100;\n",
    "#env = gym.make('Breakout-v0'); num_wait_steps = 1;\n",
    "env = gym.make('Assault-v0'); num_wait_steps = 1;"
   ]
  },
  {
   "cell_type": "code",
   "execution_count": 173,
   "metadata": {
    "collapsed": true
   },
   "outputs": [],
   "source": [
    "import matplotlib.colors as mcolors\n",
    "box_colors_rgb = np.array([mcolors.hex2color(v) for v in mcolors.cnames.values()]).reshape((1,147, 3))\n",
    "box_colors_hsv = mcolors.rgb_to_hsv(box_colors_rgb)\n",
    "good_indices = (box_colors_hsv[0][:,1] > 0.5) & (box_colors_hsv[0][:,2] < 0.8)\n",
    "\n",
    "box_colors = box_colors_rgb[0][good_indices]"
   ]
  },
  {
   "cell_type": "code",
   "execution_count": 496,
   "metadata": {},
   "outputs": [
    {
     "data": {
      "text/plain": [
       "<matplotlib.image.AxesImage at 0x125b39910>"
      ]
     },
     "execution_count": 496,
     "metadata": {},
     "output_type": "execute_result"
    },
    {
     "data": {
      "image/png": "[encoded data removed]",
      "text/plain": [
       "<matplotlib.figure.Figure at 0x125237510>"
      ]
     },
     "metadata": {},
     "output_type": "display_data"
    }
   ],
   "source": [
    "finder = fp[1].finder\n",
    "plt.imshow(finder.mover_boxes[1][1].img)"
   ]
  },
  {
   "cell_type": "code",
   "execution_count": 499,
   "metadata": {
    "scrolled": true
   },
   "outputs": [
    {
     "data": {
      "image/png": "[encoded data removed]",
      "text/plain": [
       "<matplotlib.figure.Figure at 0x11a05aed0>"
      ]
     },
     "metadata": {},
     "output_type": "display_data"
    },
    {
     "name": "stdout",
     "output_type": "stream",
     "text": [
      "Join (0,), Shift [0.0, -6.0], Score 0.0\n",
      "Join (1,), Shift [5.0, 1.0], Score 1\n",
      "Join (2,), Shift [-0.0, 4.0], Score 0.0\n",
      "Join (0, 1), Shift [0.0, -6.0], Score 0.333333333333\n",
      "Join (0, 2), Shift [-0.0, 4.0], Score 0.587220219515\n",
      "Join (1, 2), Shift [-0.0, 4.0], Score 0.218217890236\n",
      "Join (0, 1, 2), Shift [-0.0, 4.0], Score 0.587220219515\n",
      "\n",
      "Starting . . . \n",
      "\n",
      "\n",
      "self.cnt_best_params: {}\n",
      "len(self.cnts): 3\n",
      "winner: 0\n",
      "winner params: [(0,), [0.0, -6.0]]\n",
      "forbidden_inds: set([0])\n",
      "cnt_scores_remaining :{0: [0.0, 0.33333333333333331, 0.58722021951470349, 0.58722021951470349], 1: [1, 0.33333333333333331, 0.21821789023599239, 0.58722021951470349], 2: [0.0, 0.58722021951470349, 0.21821789023599239, 0.58722021951470349]}\n",
      "\n",
      "cnt_score_params_remaining :{0: [[(0,), [0.0, -6.0]], [(0, 1), [0.0, -6.0]], [(0, 2), [-0.0, 4.0]], [(0, 1, 2), [-0.0, 4.0]]], 1: [[(1,), [5.0, 1.0]], [(0, 1), [0.0, -6.0]], [(1, 2), [-0.0, 4.0]], [(0, 1, 2), [-0.0, 4.0]]], 2: [[(2,), [-0.0, 4.0]], [(0, 2), [-0.0, 4.0]], [(1, 2), [-0.0, 4.0]], [(0, 1, 2), [-0.0, 4.0]]]}\n",
      "\n",
      "Examining join (0,), for box 0\n",
      "Deleted join (0,), for box 0\n",
      "j: 0\n",
      "len(params_k): 4\n",
      "Examining join (0, 1), for box 0\n",
      "Deleted join (0, 1), for box 0\n",
      "j: 1\n",
      "len(params_k): 4\n",
      "Examining join (0, 2), for box 0\n",
      "Deleted join (0, 2), for box 0\n",
      "j: 2\n",
      "len(params_k): 4\n",
      "Examining join (0, 1, 2), for box 0\n",
      "Deleted join (0, 1, 2), for box 0\n",
      "j: 3\n",
      "len(params_k): 4\n",
      "Examining join (1,), for box 1\n",
      "Examining join (0, 1), for box 1\n",
      "Deleted join (0, 1), for box 1\n",
      "j: 1\n",
      "len(params_k): 4\n",
      "Examining join (1, 2), for box 1\n",
      "Examining join (0, 1, 2), for box 1\n",
      "Deleted join (0, 1, 2), for box 1\n",
      "j: 3\n",
      "len(params_k): 4\n",
      "Examining join (2,), for box 2\n",
      "Examining join (0, 2), for box 2\n",
      "Deleted join (0, 2), for box 2\n",
      "j: 1\n",
      "len(params_k): 4\n",
      "Examining join (1, 2), for box 2\n",
      "Examining join (0, 1, 2), for box 2\n",
      "Deleted join (0, 1, 2), for box 2\n",
      "j: 3\n",
      "len(params_k): 4\n",
      "cnt_scores_remaining :{1: [1, 0.21821789023599239], 2: [0.0, 0.21821789023599239]}\n",
      "\n",
      "cnt_score_params_remaining :{1: [[(1,), [5.0, 1.0]], [(1, 2), [-0.0, 4.0]]], 2: [[(2,), [-0.0, 4.0]], [(1, 2), [-0.0, 4.0]]]}\n",
      "\n",
      "self.cnt_best_params: {0: [(0,), [0.0, -6.0]]}\n",
      "len(self.cnts): 3\n",
      "winner: 2\n",
      "winner params: [(2,), [-0.0, 4.0]]\n",
      "forbidden_inds: set([2])\n",
      "cnt_scores_remaining :{1: [1, 0.21821789023599239], 2: [0.0, 0.21821789023599239]}\n",
      "\n",
      "cnt_score_params_remaining :{1: [[(1,), [5.0, 1.0]], [(1, 2), [-0.0, 4.0]]], 2: [[(2,), [-0.0, 4.0]], [(1, 2), [-0.0, 4.0]]]}\n",
      "\n",
      "Examining join (1,), for box 1\n",
      "Examining join (1, 2), for box 1\n",
      "Deleted join (1, 2), for box 1\n",
      "j: 1\n",
      "len(params_k): 2\n",
      "Examining join (2,), for box 2\n",
      "Deleted join (2,), for box 2\n",
      "j: 0\n",
      "len(params_k): 2\n",
      "Examining join (1, 2), for box 2\n",
      "Deleted join (1, 2), for box 2\n",
      "j: 1\n",
      "len(params_k): 2\n",
      "cnt_scores_remaining :{1: [1]}\n",
      "\n",
      "cnt_score_params_remaining :{1: [[(1,), [5.0, 1.0]]]}\n",
      "\n",
      "self.cnt_best_params: {0: [(0,), [0.0, -6.0]], 2: [(2,), [-0.0, 4.0]]}\n",
      "len(self.cnts): 3\n",
      "winner: 1\n",
      "winner params: [(1,), [5.0, 1.0]]\n",
      "forbidden_inds: set([1])\n",
      "cnt_scores_remaining :{1: [1]}\n",
      "\n",
      "cnt_score_params_remaining :{1: [[(1,), [5.0, 1.0]]]}\n",
      "\n",
      "Examining join (1,), for box 1\n",
      "Deleted join (1,), for box 1\n",
      "j: 0\n",
      "len(params_k): 1\n",
      "cnt_scores_remaining :{}\n",
      "\n",
      "cnt_score_params_remaining :{}\n",
      "\n"
     ]
    },
    {
     "data": {
      "image/png": "[encoded data removed]",
      "text/plain": [
       "<matplotlib.figure.Figure at 0x119a41210>"
      ]
     },
     "metadata": {},
     "output_type": "display_data"
    },
    {
     "name": "stdout",
     "output_type": "stream",
     "text": [
      "Join (0,), Shift [-0.0, 2.0], Score 0.0\n",
      "Join (1,), Shift [5.0, 1.0], Score 1\n",
      "Join (2,), Shift [5.0, 1.0], Score 1\n",
      "Join (3,), Shift [-0.0, 4.0], Score 0.0\n",
      "Join (0, 1), Shift [0.0, 2.0], Score 0.408248290464\n",
      "Join (0, 2), Shift [-0.0, 2.0], Score 0.534522483825\n",
      "Join (0, 3), Shift [-0.0, 4.0], Score 0.509175077217\n",
      "Join (1, 2), Shift [10.0, 0.0], Score 0.0\n",
      "Join (1, 3), Shift [-0.0, 4.0], Score 0.301511344578\n",
      "Join (2, 3), Shift [0.0, 4.0], Score 0.218217890236\n",
      "Join (0, 1, 2), Shift [-0.0, 2.0], Score 0.534522483825\n",
      "Join (0, 1, 3), Shift [-0.0, 4.0], Score 0.509175077217\n",
      "Join (0, 2, 3), Shift [-0.0, 4.0], Score 0.509175077217\n",
      "Join (1, 2, 3), Shift [-0.0, 4.0], Score 0.301511344578\n",
      "Join (0, 1, 2, 3), Shift [-0.0, 4.0], Score 0.509175077217\n",
      "\n",
      "Starting . . . \n",
      "\n",
      "\n",
      "self.cnt_best_params: {}\n",
      "len(self.cnts): 4\n",
      "winner: 0\n",
      "winner params: [(0,), [-0.0, 2.0]]\n",
      "forbidden_inds: set([0])\n",
      "cnt_scores_remaining :{0: [0.0, 0.40824829046386302, 0.53452248382484879, 0.50917507721731559, 0.53452248382484879, 0.50917507721731559, 0.50917507721731559, 0.50917507721731559], 1: [1, 0.40824829046386302, 0.0, 0.30151134457776363, 0.53452248382484879, 0.50917507721731559, 0.30151134457776363, 0.50917507721731559], 2: [1, 0.53452248382484879, 0.0, 0.21821789023599239, 0.53452248382484879, 0.50917507721731559, 0.30151134457776363, 0.50917507721731559], 3: [0.0, 0.50917507721731559, 0.30151134457776363, 0.21821789023599239, 0.50917507721731559, 0.50917507721731559, 0.30151134457776363, 0.50917507721731559]}\n",
      "\n",
      "cnt_score_params_remaining :{0: [[(0,), [-0.0, 2.0]], [(0, 1), [0.0, 2.0]], [(0, 2), [-0.0, 2.0]], [(0, 3), [-0.0, 4.0]], [(0, 1, 2), [-0.0, 2.0]], [(0, 1, 3), [-0.0, 4.0]], [(0, 2, 3), [-0.0, 4.0]], [(0, 1, 2, 3), [-0.0, 4.0]]], 1: [[(1,), [5.0, 1.0]], [(0, 1), [0.0, 2.0]], [(1, 2), [10.0, 0.0]], [(1, 3), [-0.0, 4.0]], [(0, 1, 2), [-0.0, 2.0]], [(0, 1, 3), [-0.0, 4.0]], [(1, 2, 3), [-0.0, 4.0]], [(0, 1, 2, 3), [-0.0, 4.0]]], 2: [[(2,), [5.0, 1.0]], [(0, 2), [-0.0, 2.0]], [(1, 2), [10.0, 0.0]], [(2, 3), [0.0, 4.0]], [(0, 1, 2), [-0.0, 2.0]], [(0, 2, 3), [-0.0, 4.0]], [(1, 2, 3), [-0.0, 4.0]], [(0, 1, 2, 3), [-0.0, 4.0]]], 3: [[(3,), [-0.0, 4.0]], [(0, 3), [-0.0, 4.0]], [(1, 3), [-0.0, 4.0]], [(2, 3), [0.0, 4.0]], [(0, 1, 3), [-0.0, 4.0]], [(0, 2, 3), [-0.0, 4.0]], [(1, 2, 3), [-0.0, 4.0]], [(0, 1, 2, 3), [-0.0, 4.0]]]}\n",
      "\n",
      "Examining join (0,), for box 0\n",
      "Deleted join (0,), for box 0\n",
      "j: 0\n",
      "len(params_k): 8\n",
      "Examining join (0, 1), for box 0\n",
      "Deleted join (0, 1), for box 0\n",
      "j: 1\n",
      "len(params_k): 8\n",
      "Examining join (0, 2), for box 0\n",
      "Deleted join (0, 2), for box 0\n",
      "j: 2\n",
      "len(params_k): 8\n",
      "Examining join (0, 3), for box 0\n",
      "Deleted join (0, 3), for box 0\n",
      "j: 3\n",
      "len(params_k): 8\n",
      "Examining join (0, 1, 2), for box 0\n",
      "Deleted join (0, 1, 2), for box 0\n",
      "j: 4\n",
      "len(params_k): 8\n",
      "Examining join (0, 1, 3), for box 0\n",
      "Deleted join (0, 1, 3), for box 0\n",
      "j: 5\n",
      "len(params_k): 8\n",
      "Examining join (0, 2, 3), for box 0\n",
      "Deleted join (0, 2, 3), for box 0\n",
      "j: 6\n",
      "len(params_k): 8\n",
      "Examining join (0, 1, 2, 3), for box 0\n",
      "Deleted join (0, 1, 2, 3), for box 0\n",
      "j: 7\n",
      "len(params_k): 8\n",
      "Examining join (1,), for box 1\n",
      "Examining join (0, 1), for box 1\n",
      "Deleted join (0, 1), for box 1\n",
      "j: 1\n",
      "len(params_k): 8\n",
      "Examining join (1, 2), for box 1\n",
      "Examining join (1, 3), for box 1\n",
      "Examining join (0, 1, 2), for box 1\n",
      "Deleted join (0, 1, 2), for box 1\n",
      "j: 4\n",
      "len(params_k): 8\n",
      "Examining join (0, 1, 3), for box 1\n",
      "Deleted join (0, 1, 3), for box 1\n",
      "j: 5\n",
      "len(params_k): 8\n",
      "Examining join (1, 2, 3), for box 1\n",
      "Examining join (0, 1, 2, 3), for box 1\n",
      "Deleted join (0, 1, 2, 3), for box 1\n",
      "j: 7\n",
      "len(params_k): 8\n",
      "Examining join (2,), for box 2\n",
      "Examining join (0, 2), for box 2\n",
      "Deleted join (0, 2), for box 2\n",
      "j: 1\n",
      "len(params_k): 8\n",
      "Examining join (1, 2), for box 2\n",
      "Examining join (2, 3), for box 2\n",
      "Examining join (0, 1, 2), for box 2\n",
      "Deleted join (0, 1, 2), for box 2\n",
      "j: 4\n",
      "len(params_k): 8\n",
      "Examining join (0, 2, 3), for box 2\n",
      "Deleted join (0, 2, 3), for box 2\n",
      "j: 5\n",
      "len(params_k): 8\n",
      "Examining join (1, 2, 3), for box 2\n",
      "Examining join (0, 1, 2, 3), for box 2\n",
      "Deleted join (0, 1, 2, 3), for box 2\n",
      "j: 7\n",
      "len(params_k): 8\n",
      "Examining join (3,), for box 3\n",
      "Examining join (0, 3), for box 3\n",
      "Deleted join (0, 3), for box 3\n",
      "j: 1\n",
      "len(params_k): 8\n",
      "Examining join (1, 3), for box 3\n",
      "Examining join (2, 3), for box 3\n",
      "Examining join (0, 1, 3), for box 3\n",
      "Deleted join (0, 1, 3), for box 3\n",
      "j: 4\n",
      "len(params_k): 8\n",
      "Examining join (0, 2, 3), for box 3\n",
      "Deleted join (0, 2, 3), for box 3\n",
      "j: 5\n",
      "len(params_k): 8\n",
      "Examining join (1, 2, 3), for box 3\n",
      "Examining join (0, 1, 2, 3), for box 3\n",
      "Deleted join (0, 1, 2, 3), for box 3\n",
      "j: 7\n",
      "len(params_k): 8\n",
      "cnt_scores_remaining :{1: [1, 0.0, 0.30151134457776363, 0.30151134457776363], 2: [1, 0.0, 0.21821789023599239, 0.30151134457776363], 3: [0.0, 0.30151134457776363, 0.21821789023599239, 0.30151134457776363]}\n",
      "\n",
      "cnt_score_params_remaining :{1: [[(1,), [5.0, 1.0]], [(1, 2), [10.0, 0.0]], [(1, 3), [-0.0, 4.0]], [(1, 2, 3), [-0.0, 4.0]]], 2: [[(2,), [5.0, 1.0]], [(1, 2), [10.0, 0.0]], [(2, 3), [0.0, 4.0]], [(1, 2, 3), [-0.0, 4.0]]], 3: [[(3,), [-0.0, 4.0]], [(1, 3), [-0.0, 4.0]], [(2, 3), [0.0, 4.0]], [(1, 2, 3), [-0.0, 4.0]]]}\n",
      "\n",
      "self.cnt_best_params: {0: [(0,), [-0.0, 2.0]]}\n",
      "len(self.cnts): 4\n",
      "winner: 1\n",
      "winner params: [(1, 2), [10.0, 0.0]]\n",
      "forbidden_inds: set([1, 2])\n",
      "cnt_scores_remaining :{1: [1, 0.0, 0.30151134457776363, 0.30151134457776363], 2: [1, 0.0, 0.21821789023599239, 0.30151134457776363], 3: [0.0, 0.30151134457776363, 0.21821789023599239, 0.30151134457776363]}\n",
      "\n",
      "cnt_score_params_remaining :{1: [[(1,), [5.0, 1.0]], [(1, 2), [10.0, 0.0]], [(1, 3), [-0.0, 4.0]], [(1, 2, 3), [-0.0, 4.0]]], 2: [[(2,), [5.0, 1.0]], [(1, 2), [10.0, 0.0]], [(2, 3), [0.0, 4.0]], [(1, 2, 3), [-0.0, 4.0]]], 3: [[(3,), [-0.0, 4.0]], [(1, 3), [-0.0, 4.0]], [(2, 3), [0.0, 4.0]], [(1, 2, 3), [-0.0, 4.0]]]}\n",
      "\n",
      "Examining join (1,), for box 1\n",
      "Deleted join (1,), for box 1\n",
      "j: 0\n",
      "len(params_k): 4\n",
      "Examining join (1, 2), for box 1\n",
      "Deleted join (1, 2), for box 1\n",
      "j: 1\n",
      "len(params_k): 4\n",
      "Examining join (1, 3), for box 1\n",
      "Deleted join (1, 3), for box 1\n",
      "j: 2\n",
      "len(params_k): 4\n",
      "Examining join (1, 2, 3), for box 1\n",
      "Deleted join (1, 2, 3), for box 1\n",
      "j: 3\n",
      "len(params_k): 4\n",
      "Examining join (2,), for box 2\n",
      "Deleted join (2,), for box 2\n",
      "j: 0\n",
      "len(params_k): 4\n",
      "Examining join (1, 2), for box 2\n",
      "Deleted join (1, 2), for box 2\n",
      "j: 1\n",
      "len(params_k): 4\n",
      "Examining join (2, 3), for box 2\n",
      "Deleted join (2, 3), for box 2\n",
      "j: 2\n",
      "len(params_k): 4\n",
      "Examining join (1, 2, 3), for box 2\n",
      "Deleted join (1, 2, 3), for box 2\n",
      "j: 3\n",
      "len(params_k): 4\n",
      "Examining join (3,), for box 3\n",
      "Examining join (1, 3), for box 3\n",
      "Deleted join (1, 3), for box 3\n",
      "j: 1\n",
      "len(params_k): 4\n",
      "Examining join (2, 3), for box 3\n",
      "Deleted join (2, 3), for box 3\n",
      "j: 2\n",
      "len(params_k): 4\n",
      "Examining join (1, 2, 3), for box 3\n",
      "Deleted join (1, 2, 3), for box 3\n",
      "j: 3\n",
      "len(params_k): 4\n",
      "cnt_scores_remaining :{3: [0.0]}\n",
      "\n",
      "cnt_score_params_remaining :{3: [[(3,), [-0.0, 4.0]]]}\n",
      "\n",
      "self.cnt_best_params: {0: [(0,), [-0.0, 2.0]], 1: [(1, 2), [10.0, 0.0]]}\n",
      "len(self.cnts): 4\n",
      "winner: 3\n",
      "winner params: [(3,), [-0.0, 4.0]]\n",
      "forbidden_inds: set([3])\n",
      "cnt_scores_remaining :{3: [0.0]}\n",
      "\n",
      "cnt_score_params_remaining :{3: [[(3,), [-0.0, 4.0]]]}\n",
      "\n",
      "Examining join (3,), for box 3\n",
      "Deleted join (3,), for box 3\n",
      "j: 0\n",
      "len(params_k): 1\n",
      "cnt_scores_remaining :{}\n",
      "\n",
      "cnt_score_params_remaining :{}\n",
      "\n"
     ]
    },
    {
     "data": {
      "image/png": "[encoded data removed]",
      "text/plain": [
       "<matplotlib.figure.Figure at 0x12166e150>"
      ]
     },
     "metadata": {},
     "output_type": "display_data"
    },
    {
     "name": "stdout",
     "output_type": "stream",
     "text": [
      "Join (0,), Shift [-0.0, 2.0], Score 0.408248290464\n",
      "Join (1,), Shift [5.0, 1.0], Score 1\n",
      "Join (2,), Shift [5.0, 1.0], Score 1\n",
      "Join (3,), Shift [5.0, 9.0], Score 1\n",
      "Join (4,), Shift [0.0, 2.0], Score 0.471404520791\n",
      "Join (0, 1), Shift [-0.0, 2.0], Score 0.534522483825\n",
      "Join (0, 2), Shift [-0.0, 2.0], Score 0.612372435696\n",
      "Join (0, 3), Shift [0.0, 2.0], Score 0.841444708273\n",
      "Join (0, 4), Shift [-0.0, 2.0], Score 0.657401442158\n",
      "Join (1, 2), Shift [10.0, 0.0], Score 0.0\n",
      "Join (1, 3), Shift [-17.0, 1.0], Score 1\n",
      "Join (1, 4), Shift [-0.0, 2.0], Score 0.692498305663\n",
      "Join (2, 3), Shift [48.0, 22.0], Score 1\n",
      "Join (2, 4), Shift [0.0, 2.0], Score 0.680882906649\n",
      "Join (3, 4), Shift [0.0, 2.0], Score 0.824621125124\n",
      "Join (0, 1, 2), Shift [-0.0, 2.0], Score 0.612372435696\n",
      "Join (0, 1, 3), Shift [0.0, 2.0], Score 0.841444708273\n",
      "Join (0, 1, 4), Shift [-0.0, 2.0], Score 0.657401442158\n",
      "Join (0, 2, 3), Shift [0.0, 2.0], Score 0.841444708273\n",
      "Join (0, 2, 4), Shift [-0.0, 2.0], Score 0.657401442158\n",
      "Join (0, 3, 4), Shift [-0.0, 2.0], Score 0.657401442158\n",
      "Join (1, 2, 3), Shift [-17.0, 1.0], Score 1\n",
      "Join (1, 2, 4), Shift [-0.0, 2.0], Score 0.692498305663\n",
      "Join (1, 3, 4), Shift [-0.0, 2.0], Score 0.692498305663\n",
      "Join (2, 3, 4), Shift [0.0, 2.0], Score 0.680882906649\n",
      "Join (0, 1, 2, 3), Shift [0.0, 2.0], Score 0.841444708273\n",
      "Join (0, 1, 2, 4), Shift [-0.0, 2.0], Score 0.657401442158\n",
      "Join (0, 1, 3, 4), Shift [-0.0, 2.0], Score 0.657401442158\n",
      "Join (0, 2, 3, 4), Shift [-0.0, 2.0], Score 0.657401442158\n",
      "Join (1, 2, 3, 4), Shift [-0.0, 2.0], Score 0.692498305663\n",
      "Join (0, 1, 2, 3, 4), Shift [-0.0, 2.0], Score 0.657401442158\n",
      "\n",
      "Starting . . . \n",
      "\n",
      "\n",
      "self.cnt_best_params: {}\n",
      "len(self.cnts): 5\n",
      "winner: 1\n",
      "winner params: [(1, 2), [10.0, 0.0]]\n",
      "forbidden_inds: set([1, 2])\n",
      "cnt_scores_remaining :{0: [0.40824829046386302, 0.53452248382484879, 0.61237243569579447, 0.84144470827279672, 0.657401442158001, 0.61237243569579447, 0.84144470827279672, 0.657401442158001, 0.84144470827279672, 0.657401442158001, 0.657401442158001, 0.84144470827279672, 0.657401442158001, 0.657401442158001, 0.657401442158001, 0.657401442158001], 1: [1, 0.53452248382484879, 0.0, 1, 0.69249830566271064, 0.61237243569579447, 0.84144470827279672, 0.657401442158001, 1, 0.69249830566271064, 0.69249830566271064, 0.84144470827279672, 0.657401442158001, 0.657401442158001, 0.69249830566271064, 0.657401442158001], 2: [1, 0.61237243569579447, 0.0, 1, 0.68088290664919016, 0.61237243569579447, 0.84144470827279672, 0.657401442158001, 1, 0.69249830566271064, 0.68088290664919016, 0.84144470827279672, 0.657401442158001, 0.657401442158001, 0.69249830566271064, 0.657401442158001], 3: [1, 0.84144470827279672, 1, 1, 0.82462112512353214, 0.84144470827279672, 0.84144470827279672, 0.657401442158001, 1, 0.69249830566271064, 0.68088290664919016, 0.84144470827279672, 0.657401442158001, 0.657401442158001, 0.69249830566271064, 0.657401442158001], 4: [0.47140452079103162, 0.657401442158001, 0.69249830566271064, 0.68088290664919016, 0.82462112512353214, 0.657401442158001, 0.657401442158001, 0.657401442158001, 0.69249830566271064, 0.69249830566271064, 0.68088290664919016, 0.657401442158001, 0.657401442158001, 0.657401442158001, 0.69249830566271064, 0.657401442158001]}\n",
      "\n",
      "cnt_score_params_remaining :{0: [[(0,), [-0.0, 2.0]], [(0, 1), [-0.0, 2.0]], [(0, 2), [-0.0, 2.0]], [(0, 3), [0.0, 2.0]], [(0, 4), [-0.0, 2.0]], [(0, 1, 2), [-0.0, 2.0]], [(0, 1, 3), [0.0, 2.0]], [(0, 1, 4), [-0.0, 2.0]], [(0, 2, 3), [0.0, 2.0]], [(0, 2, 4), [-0.0, 2.0]], [(0, 3, 4), [-0.0, 2.0]], [(0, 1, 2, 3), [0.0, 2.0]], [(0, 1, 2, 4), [-0.0, 2.0]], [(0, 1, 3, 4), [-0.0, 2.0]], [(0, 2, 3, 4), [-0.0, 2.0]], [(0, 1, 2, 3, 4), [-0.0, 2.0]]], 1: [[(1,), [5.0, 1.0]], [(0, 1), [-0.0, 2.0]], [(1, 2), [10.0, 0.0]], [(1, 3), [-17.0, 1.0]], [(1, 4), [-0.0, 2.0]], [(0, 1, 2), [-0.0, 2.0]], [(0, 1, 3), [0.0, 2.0]], [(0, 1, 4), [-0.0, 2.0]], [(1, 2, 3), [-17.0, 1.0]], [(1, 2, 4), [-0.0, 2.0]], [(1, 3, 4), [-0.0, 2.0]], [(0, 1, 2, 3), [0.0, 2.0]], [(0, 1, 2, 4), [-0.0, 2.0]], [(0, 1, 3, 4), [-0.0, 2.0]], [(1, 2, 3, 4), [-0.0, 2.0]], [(0, 1, 2, 3, 4), [-0.0, 2.0]]], 2: [[(2,), [5.0, 1.0]], [(0, 2), [-0.0, 2.0]], [(1, 2), [10.0, 0.0]], [(2, 3), [48.0, 22.0]], [(2, 4), [0.0, 2.0]], [(0, 1, 2), [-0.0, 2.0]], [(0, 2, 3), [0.0, 2.0]], [(0, 2, 4), [-0.0, 2.0]], [(1, 2, 3), [-17.0, 1.0]], [(1, 2, 4), [-0.0, 2.0]], [(2, 3, 4), [0.0, 2.0]], [(0, 1, 2, 3), [0.0, 2.0]], [(0, 1, 2, 4), [-0.0, 2.0]], [(0, 2, 3, 4), [-0.0, 2.0]], [(1, 2, 3, 4), [-0.0, 2.0]], [(0, 1, 2, 3, 4), [-0.0, 2.0]]], 3: [[(3,), [5.0, 9.0]], [(0, 3), [0.0, 2.0]], [(1, 3), [-17.0, 1.0]], [(2, 3), [48.0, 22.0]], [(3, 4), [0.0, 2.0]], [(0, 1, 3), [0.0, 2.0]], [(0, 2, 3), [0.0, 2.0]], [(0, 3, 4), [-0.0, 2.0]], [(1, 2, 3), [-17.0, 1.0]], [(1, 3, 4), [-0.0, 2.0]], [(2, 3, 4), [0.0, 2.0]], [(0, 1, 2, 3), [0.0, 2.0]], [(0, 1, 3, 4), [-0.0, 2.0]], [(0, 2, 3, 4), [-0.0, 2.0]], [(1, 2, 3, 4), [-0.0, 2.0]], [(0, 1, 2, 3, 4), [-0.0, 2.0]]], 4: [[(4,), [0.0, 2.0]], [(0, 4), [-0.0, 2.0]], [(1, 4), [-0.0, 2.0]], [(2, 4), [0.0, 2.0]], [(3, 4), [0.0, 2.0]], [(0, 1, 4), [-0.0, 2.0]], [(0, 2, 4), [-0.0, 2.0]], [(0, 3, 4), [-0.0, 2.0]], [(1, 2, 4), [-0.0, 2.0]], [(1, 3, 4), [-0.0, 2.0]], [(2, 3, 4), [0.0, 2.0]], [(0, 1, 2, 4), [-0.0, 2.0]], [(0, 1, 3, 4), [-0.0, 2.0]], [(0, 2, 3, 4), [-0.0, 2.0]], [(1, 2, 3, 4), [-0.0, 2.0]], [(0, 1, 2, 3, 4), [-0.0, 2.0]]]}\n",
      "\n",
      "Examining join (0,), for box 0\n",
      "Examining join (0, 1), for box 0\n",
      "Deleted join (0, 1), for box 0\n",
      "j: 1\n",
      "len(params_k): 16\n",
      "Examining join (0, 2), for box 0\n",
      "Deleted join (0, 2), for box 0\n",
      "j: 2\n",
      "len(params_k): 16\n",
      "Examining join (0, 3), for box 0\n",
      "Examining join (0, 4), for box 0\n",
      "Examining join (0, 1, 2), for box 0\n",
      "Deleted join (0, 1, 2), for box 0\n",
      "j: 5\n",
      "len(params_k): 16\n",
      "Examining join (0, 1, 3), for box 0\n",
      "Deleted join (0, 1, 3), for box 0\n",
      "j: 6\n",
      "len(params_k): 16\n",
      "Examining join (0, 1, 4), for box 0\n",
      "Deleted join (0, 1, 4), for box 0\n",
      "j: 7\n",
      "len(params_k): 16\n",
      "Examining join (0, 2, 3), for box 0\n",
      "Deleted join (0, 2, 3), for box 0\n",
      "j: 8\n",
      "len(params_k): 16\n",
      "Examining join (0, 2, 4), for box 0\n",
      "Deleted join (0, 2, 4), for box 0\n",
      "j: 9\n",
      "len(params_k): 16\n",
      "Examining join (0, 3, 4), for box 0\n",
      "Examining join (0, 1, 2, 3), for box 0\n",
      "Deleted join (0, 1, 2, 3), for box 0\n",
      "j: 11\n",
      "len(params_k): 16\n",
      "Examining join (0, 1, 2, 4), for box 0\n",
      "Deleted join (0, 1, 2, 4), for box 0\n",
      "j: 12\n",
      "len(params_k): 16\n",
      "Examining join (0, 1, 3, 4), for box 0\n",
      "Deleted join (0, 1, 3, 4), for box 0\n",
      "j: 13\n",
      "len(params_k): 16\n",
      "Examining join (0, 2, 3, 4), for box 0\n",
      "Deleted join (0, 2, 3, 4), for box 0\n",
      "j: 14\n",
      "len(params_k): 16\n",
      "Examining join (0, 1, 2, 3, 4), for box 0\n",
      "Deleted join (0, 1, 2, 3, 4), for box 0\n",
      "j: 15\n",
      "len(params_k): 16\n",
      "Examining join (1,), for box 1\n",
      "Deleted join (1,), for box 1\n",
      "j: 0\n",
      "len(params_k): 16\n",
      "Examining join (0, 1), for box 1\n",
      "Deleted join (0, 1), for box 1\n",
      "j: 1\n",
      "len(params_k): 16\n",
      "Examining join (1, 2), for box 1\n",
      "Deleted join (1, 2), for box 1\n",
      "j: 2\n",
      "len(params_k): 16\n",
      "Examining join (1, 3), for box 1\n",
      "Deleted join (1, 3), for box 1\n",
      "j: 3\n",
      "len(params_k): 16\n",
      "Examining join (1, 4), for box 1\n",
      "Deleted join (1, 4), for box 1\n",
      "j: 4\n",
      "len(params_k): 16\n",
      "Examining join (0, 1, 2), for box 1\n",
      "Deleted join (0, 1, 2), for box 1\n",
      "j: 5\n",
      "len(params_k): 16\n",
      "Examining join (0, 1, 3), for box 1\n",
      "Deleted join (0, 1, 3), for box 1\n",
      "j: 6\n",
      "len(params_k): 16\n",
      "Examining join (0, 1, 4), for box 1\n",
      "Deleted join (0, 1, 4), for box 1\n",
      "j: 7\n",
      "len(params_k): 16\n",
      "Examining join (1, 2, 3), for box 1\n",
      "Deleted join (1, 2, 3), for box 1\n",
      "j: 8\n",
      "len(params_k): 16\n",
      "Examining join (1, 2, 4), for box 1\n",
      "Deleted join (1, 2, 4), for box 1\n",
      "j: 9\n",
      "len(params_k): 16\n",
      "Examining join (1, 3, 4), for box 1\n",
      "Deleted join (1, 3, 4), for box 1\n",
      "j: 10\n",
      "len(params_k): 16\n",
      "Examining join (0, 1, 2, 3), for box 1\n",
      "Deleted join (0, 1, 2, 3), for box 1\n",
      "j: 11\n",
      "len(params_k): 16\n",
      "Examining join (0, 1, 2, 4), for box 1\n",
      "Deleted join (0, 1, 2, 4), for box 1\n",
      "j: 12\n",
      "len(params_k): 16\n",
      "Examining join (0, 1, 3, 4), for box 1\n",
      "Deleted join (0, 1, 3, 4), for box 1\n",
      "j: 13\n",
      "len(params_k): 16\n",
      "Examining join (1, 2, 3, 4), for box 1\n",
      "Deleted join (1, 2, 3, 4), for box 1\n",
      "j: 14\n",
      "len(params_k): 16\n",
      "Examining join (0, 1, 2, 3, 4), for box 1\n",
      "Deleted join (0, 1, 2, 3, 4), for box 1\n",
      "j: 15\n",
      "len(params_k): 16\n",
      "Examining join (2,), for box 2\n",
      "Deleted join (2,), for box 2\n",
      "j: 0\n",
      "len(params_k): 16\n",
      "Examining join (0, 2), for box 2\n",
      "Deleted join (0, 2), for box 2\n",
      "j: 1\n",
      "len(params_k): 16\n",
      "Examining join (1, 2), for box 2\n",
      "Deleted join (1, 2), for box 2\n",
      "j: 2\n",
      "len(params_k): 16\n",
      "Examining join (2, 3), for box 2\n",
      "Deleted join (2, 3), for box 2\n",
      "j: 3\n",
      "len(params_k): 16\n",
      "Examining join (2, 4), for box 2\n",
      "Deleted join (2, 4), for box 2\n",
      "j: 4\n",
      "len(params_k): 16\n",
      "Examining join (0, 1, 2), for box 2\n",
      "Deleted join (0, 1, 2), for box 2\n",
      "j: 5\n",
      "len(params_k): 16\n",
      "Examining join (0, 2, 3), for box 2\n",
      "Deleted join (0, 2, 3), for box 2\n",
      "j: 6\n",
      "len(params_k): 16\n",
      "Examining join (0, 2, 4), for box 2\n",
      "Deleted join (0, 2, 4), for box 2\n",
      "j: 7\n",
      "len(params_k): 16\n",
      "Examining join (1, 2, 3), for box 2\n",
      "Deleted join (1, 2, 3), for box 2\n",
      "j: 8\n",
      "len(params_k): 16\n",
      "Examining join (1, 2, 4), for box 2\n",
      "Deleted join (1, 2, 4), for box 2\n",
      "j: 9\n",
      "len(params_k): 16\n",
      "Examining join (2, 3, 4), for box 2\n",
      "Deleted join (2, 3, 4), for box 2\n",
      "j: 10\n",
      "len(params_k): 16\n",
      "Examining join (0, 1, 2, 3), for box 2\n",
      "Deleted join (0, 1, 2, 3), for box 2\n",
      "j: 11\n",
      "len(params_k): 16\n",
      "Examining join (0, 1, 2, 4), for box 2\n",
      "Deleted join (0, 1, 2, 4), for box 2\n",
      "j: 12\n",
      "len(params_k): 16\n",
      "Examining join (0, 2, 3, 4), for box 2\n",
      "Deleted join (0, 2, 3, 4), for box 2\n",
      "j: 13\n",
      "len(params_k): 16\n",
      "Examining join (1, 2, 3, 4), for box 2\n",
      "Deleted join (1, 2, 3, 4), for box 2\n",
      "j: 14\n",
      "len(params_k): 16\n",
      "Examining join (0, 1, 2, 3, 4), for box 2\n",
      "Deleted join (0, 1, 2, 3, 4), for box 2\n"
     ]
    },
    {
     "name": "stdout",
     "output_type": "stream",
     "text": [
      "j: 15\n",
      "len(params_k): 16\n",
      "Examining join (3,), for box 3\n",
      "Examining join (0, 3), for box 3\n",
      "Examining join (1, 3), for box 3\n",
      "Deleted join (1, 3), for box 3\n",
      "j: 2\n",
      "len(params_k): 16\n",
      "Examining join (2, 3), for box 3\n",
      "Deleted join (2, 3), for box 3\n",
      "j: 3\n",
      "len(params_k): 16\n",
      "Examining join (3, 4), for box 3\n",
      "Examining join (0, 1, 3), for box 3\n",
      "Deleted join (0, 1, 3), for box 3\n",
      "j: 5\n",
      "len(params_k): 16\n",
      "Examining join (0, 2, 3), for box 3\n",
      "Deleted join (0, 2, 3), for box 3\n",
      "j: 6\n",
      "len(params_k): 16\n",
      "Examining join (0, 3, 4), for box 3\n",
      "Examining join (1, 2, 3), for box 3\n",
      "Deleted join (1, 2, 3), for box 3\n",
      "j: 8\n",
      "len(params_k): 16\n",
      "Examining join (1, 3, 4), for box 3\n",
      "Deleted join (1, 3, 4), for box 3\n",
      "j: 9\n",
      "len(params_k): 16\n",
      "Examining join (2, 3, 4), for box 3\n",
      "Deleted join (2, 3, 4), for box 3\n",
      "j: 10\n",
      "len(params_k): 16\n",
      "Examining join (0, 1, 2, 3), for box 3\n",
      "Deleted join (0, 1, 2, 3), for box 3\n",
      "j: 11\n",
      "len(params_k): 16\n",
      "Examining join (0, 1, 3, 4), for box 3\n",
      "Deleted join (0, 1, 3, 4), for box 3\n",
      "j: 12\n",
      "len(params_k): 16\n",
      "Examining join (0, 2, 3, 4), for box 3\n",
      "Deleted join (0, 2, 3, 4), for box 3\n",
      "j: 13\n",
      "len(params_k): 16\n",
      "Examining join (1, 2, 3, 4), for box 3\n",
      "Deleted join (1, 2, 3, 4), for box 3\n",
      "j: 14\n",
      "len(params_k): 16\n",
      "Examining join (0, 1, 2, 3, 4), for box 3\n",
      "Deleted join (0, 1, 2, 3, 4), for box 3\n",
      "j: 15\n",
      "len(params_k): 16\n",
      "Examining join (4,), for box 4\n",
      "Examining join (0, 4), for box 4\n",
      "Examining join (1, 4), for box 4\n",
      "Deleted join (1, 4), for box 4\n",
      "j: 2\n",
      "len(params_k): 16\n",
      "Examining join (2, 4), for box 4\n",
      "Deleted join (2, 4), for box 4\n",
      "j: 3\n",
      "len(params_k): 16\n",
      "Examining join (3, 4), for box 4\n",
      "Examining join (0, 1, 4), for box 4\n",
      "Deleted join (0, 1, 4), for box 4\n",
      "j: 5\n",
      "len(params_k): 16\n",
      "Examining join (0, 2, 4), for box 4\n",
      "Deleted join (0, 2, 4), for box 4\n",
      "j: 6\n",
      "len(params_k): 16\n",
      "Examining join (0, 3, 4), for box 4\n",
      "Examining join (1, 2, 4), for box 4\n",
      "Deleted join (1, 2, 4), for box 4\n",
      "j: 8\n",
      "len(params_k): 16\n",
      "Examining join (1, 3, 4), for box 4\n",
      "Deleted join (1, 3, 4), for box 4\n",
      "j: 9\n",
      "len(params_k): 16\n",
      "Examining join (2, 3, 4), for box 4\n",
      "Deleted join (2, 3, 4), for box 4\n",
      "j: 10\n",
      "len(params_k): 16\n",
      "Examining join (0, 1, 2, 4), for box 4\n",
      "Deleted join (0, 1, 2, 4), for box 4\n",
      "j: 11\n",
      "len(params_k): 16\n",
      "Examining join (0, 1, 3, 4), for box 4\n",
      "Deleted join (0, 1, 3, 4), for box 4\n",
      "j: 12\n",
      "len(params_k): 16\n",
      "Examining join (0, 2, 3, 4), for box 4\n",
      "Deleted join (0, 2, 3, 4), for box 4\n",
      "j: 13\n",
      "len(params_k): 16\n",
      "Examining join (1, 2, 3, 4), for box 4\n",
      "Deleted join (1, 2, 3, 4), for box 4\n",
      "j: 14\n",
      "len(params_k): 16\n",
      "Examining join (0, 1, 2, 3, 4), for box 4\n",
      "Deleted join (0, 1, 2, 3, 4), for box 4\n",
      "j: 15\n",
      "len(params_k): 16\n",
      "cnt_scores_remaining :{0: [0.40824829046386302, 0.84144470827279672, 0.657401442158001, 0.657401442158001], 3: [1, 0.84144470827279672, 0.82462112512353214, 0.657401442158001], 4: [0.47140452079103162, 0.657401442158001, 0.82462112512353214, 0.657401442158001]}\n",
      "\n",
      "cnt_score_params_remaining :{0: [[(0,), [-0.0, 2.0]], [(0, 3), [0.0, 2.0]], [(0, 4), [-0.0, 2.0]], [(0, 3, 4), [-0.0, 2.0]]], 3: [[(3,), [5.0, 9.0]], [(0, 3), [0.0, 2.0]], [(3, 4), [0.0, 2.0]], [(0, 3, 4), [-0.0, 2.0]]], 4: [[(4,), [0.0, 2.0]], [(0, 4), [-0.0, 2.0]], [(3, 4), [0.0, 2.0]], [(0, 3, 4), [-0.0, 2.0]]]}\n",
      "\n",
      "self.cnt_best_params: {1: [(1, 2), [10.0, 0.0]]}\n",
      "len(self.cnts): 5\n",
      "winner: 0\n",
      "winner params: [(0,), [-0.0, 2.0]]\n",
      "forbidden_inds: set([0])\n",
      "cnt_scores_remaining :{0: [0.40824829046386302, 0.84144470827279672, 0.657401442158001, 0.657401442158001], 3: [1, 0.84144470827279672, 0.82462112512353214, 0.657401442158001], 4: [0.47140452079103162, 0.657401442158001, 0.82462112512353214, 0.657401442158001]}\n",
      "\n",
      "cnt_score_params_remaining :{0: [[(0,), [-0.0, 2.0]], [(0, 3), [0.0, 2.0]], [(0, 4), [-0.0, 2.0]], [(0, 3, 4), [-0.0, 2.0]]], 3: [[(3,), [5.0, 9.0]], [(0, 3), [0.0, 2.0]], [(3, 4), [0.0, 2.0]], [(0, 3, 4), [-0.0, 2.0]]], 4: [[(4,), [0.0, 2.0]], [(0, 4), [-0.0, 2.0]], [(3, 4), [0.0, 2.0]], [(0, 3, 4), [-0.0, 2.0]]]}\n",
      "\n",
      "Examining join (0,), for box 0\n",
      "Deleted join (0,), for box 0\n",
      "j: 0\n",
      "len(params_k): 4\n",
      "Examining join (0, 3), for box 0\n",
      "Deleted join (0, 3), for box 0\n",
      "j: 1\n",
      "len(params_k): 4\n",
      "Examining join (0, 4), for box 0\n",
      "Deleted join (0, 4), for box 0\n",
      "j: 2\n",
      "len(params_k): 4\n",
      "Examining join (0, 3, 4), for box 0\n",
      "Deleted join (0, 3, 4), for box 0\n",
      "j: 3\n",
      "len(params_k): 4\n",
      "Examining join (3,), for box 3\n",
      "Examining join (0, 3), for box 3\n",
      "Deleted join (0, 3), for box 3\n",
      "j: 1\n",
      "len(params_k): 4\n",
      "Examining join (3, 4), for box 3\n",
      "Examining join (0, 3, 4), for box 3\n",
      "Deleted join (0, 3, 4), for box 3\n",
      "j: 3\n",
      "len(params_k): 4\n",
      "Examining join (4,), for box 4\n",
      "Examining join (0, 4), for box 4\n",
      "Deleted join (0, 4), for box 4\n",
      "j: 1\n",
      "len(params_k): 4\n",
      "Examining join (3, 4), for box 4\n",
      "Examining join (0, 3, 4), for box 4\n",
      "Deleted join (0, 3, 4), for box 4\n",
      "j: 3\n",
      "len(params_k): 4\n",
      "cnt_scores_remaining :{3: [1, 0.82462112512353214], 4: [0.47140452079103162, 0.82462112512353214]}\n",
      "\n",
      "cnt_score_params_remaining :{3: [[(3,), [5.0, 9.0]], [(3, 4), [0.0, 2.0]]], 4: [[(4,), [0.0, 2.0]], [(3, 4), [0.0, 2.0]]]}\n",
      "\n",
      "self.cnt_best_params: {0: [(0,), [-0.0, 2.0]], 1: [(1, 2), [10.0, 0.0]]}\n",
      "len(self.cnts): 5\n",
      "winner: 4\n",
      "winner params: [(4,), [0.0, 2.0]]\n",
      "forbidden_inds: set([4])\n",
      "cnt_scores_remaining :{3: [1, 0.82462112512353214], 4: [0.47140452079103162, 0.82462112512353214]}\n",
      "\n",
      "cnt_score_params_remaining :{3: [[(3,), [5.0, 9.0]], [(3, 4), [0.0, 2.0]]], 4: [[(4,), [0.0, 2.0]], [(3, 4), [0.0, 2.0]]]}\n",
      "\n",
      "Examining join (3,), for box 3\n",
      "Examining join (3, 4), for box 3\n",
      "Deleted join (3, 4), for box 3\n",
      "j: 1\n",
      "len(params_k): 2\n",
      "Examining join (4,), for box 4\n",
      "Deleted join (4,), for box 4\n",
      "j: 0\n",
      "len(params_k): 2\n",
      "Examining join (3, 4), for box 4\n",
      "Deleted join (3, 4), for box 4\n",
      "j: 1\n",
      "len(params_k): 2\n",
      "cnt_scores_remaining :{3: [1]}\n",
      "\n",
      "cnt_score_params_remaining :{3: [[(3,), [5.0, 9.0]]]}\n",
      "\n",
      "self.cnt_best_params: {0: [(0,), [-0.0, 2.0]], 1: [(1, 2), [10.0, 0.0]], 4: [(4,), [0.0, 2.0]]}\n",
      "len(self.cnts): 5\n",
      "winner: 3\n",
      "winner params: [(3,), [5.0, 9.0]]\n",
      "forbidden_inds: set([3])\n",
      "cnt_scores_remaining :{3: [1]}\n",
      "\n",
      "cnt_score_params_remaining :{3: [[(3,), [5.0, 9.0]]]}\n",
      "\n",
      "Examining join (3,), for box 3\n",
      "Deleted join (3,), for box 3\n",
      "j: 0\n",
      "len(params_k): 1\n",
      "cnt_scores_remaining :{}\n",
      "\n",
      "cnt_score_params_remaining :{}\n",
      "\n"
     ]
    },
    {
     "data": {
      "image/png": "[encoded data removed]",
      "text/plain": [
       "<matplotlib.figure.Figure at 0x1263cc090>"
      ]
     },
     "metadata": {},
     "output_type": "display_data"
    },
    {
     "name": "stdout",
     "output_type": "stream",
     "text": [
      "Join (0,), Shift [-0.0, 1.0], Score 0.845154254729\n",
      "Join (1,), Shift [-8.0, 0.0], Score 0.0\n",
      "Join (2,), Shift [-0.0, 2.0], Score 0.0\n",
      "Join (0, 1), Shift [0.0, 2.0], Score 0.666666666667\n",
      "Join (0, 2), Shift [0.0, 2.0], Score 0.461880215352\n",
      "Join (1, 2), Shift [-0.0, 2.0], Score 0.412568498504\n",
      "Join (0, 1, 2), Shift [0.0, 2.0], Score 0.461880215352\n",
      "\n",
      "Starting . . . \n",
      "\n",
      "\n",
      "self.cnt_best_params: {}\n",
      "len(self.cnts): 3\n",
      "winner: 1\n",
      "winner params: [(1,), [-8.0, 0.0]]\n",
      "forbidden_inds: set([1])\n",
      "cnt_scores_remaining :{0: [0.84515425472851657, 0.66666666666666663, 0.4618802153517006, 0.4618802153517006], 1: [0.0, 0.66666666666666663, 0.41256849850351734, 0.4618802153517006], 2: [0.0, 0.4618802153517006, 0.41256849850351734, 0.4618802153517006]}\n",
      "\n",
      "cnt_score_params_remaining :{0: [[(0,), [-0.0, 1.0]], [(0, 1), [0.0, 2.0]], [(0, 2), [0.0, 2.0]], [(0, 1, 2), [0.0, 2.0]]], 1: [[(1,), [-8.0, 0.0]], [(0, 1), [0.0, 2.0]], [(1, 2), [-0.0, 2.0]], [(0, 1, 2), [0.0, 2.0]]], 2: [[(2,), [-0.0, 2.0]], [(0, 2), [0.0, 2.0]], [(1, 2), [-0.0, 2.0]], [(0, 1, 2), [0.0, 2.0]]]}\n",
      "\n",
      "Examining join (0,), for box 0\n",
      "Examining join (0, 1), for box 0\n",
      "Deleted join (0, 1), for box 0\n",
      "j: 1\n",
      "len(params_k): 4\n",
      "Examining join (0, 2), for box 0\n",
      "Examining join (0, 1, 2), for box 0\n",
      "Deleted join (0, 1, 2), for box 0\n",
      "j: 3\n",
      "len(params_k): 4\n",
      "Examining join (1,), for box 1\n",
      "Deleted join (1,), for box 1\n",
      "j: 0\n",
      "len(params_k): 4\n",
      "Examining join (0, 1), for box 1\n",
      "Deleted join (0, 1), for box 1\n",
      "j: 1\n",
      "len(params_k): 4\n",
      "Examining join (1, 2), for box 1\n",
      "Deleted join (1, 2), for box 1\n",
      "j: 2\n",
      "len(params_k): 4\n",
      "Examining join (0, 1, 2), for box 1\n",
      "Deleted join (0, 1, 2), for box 1\n",
      "j: 3\n",
      "len(params_k): 4\n",
      "Examining join (2,), for box 2\n",
      "Examining join (0, 2), for box 2\n",
      "Examining join (1, 2), for box 2\n",
      "Deleted join (1, 2), for box 2\n",
      "j: 2\n",
      "len(params_k): 4\n",
      "Examining join (0, 1, 2), for box 2\n",
      "Deleted join (0, 1, 2), for box 2\n",
      "j: 3\n",
      "len(params_k): 4\n",
      "cnt_scores_remaining :{0: [0.84515425472851657, 0.4618802153517006], 2: [0.0, 0.4618802153517006]}\n",
      "\n",
      "cnt_score_params_remaining :{0: [[(0,), [-0.0, 1.0]], [(0, 2), [0.0, 2.0]]], 2: [[(2,), [-0.0, 2.0]], [(0, 2), [0.0, 2.0]]]}\n",
      "\n",
      "self.cnt_best_params: {1: [(1,), [-8.0, 0.0]]}\n",
      "len(self.cnts): 3\n",
      "winner: 2\n",
      "winner params: [(2,), [-0.0, 2.0]]\n",
      "forbidden_inds: set([2])\n",
      "cnt_scores_remaining :{0: [0.84515425472851657, 0.4618802153517006], 2: [0.0, 0.4618802153517006]}\n",
      "\n",
      "cnt_score_params_remaining :{0: [[(0,), [-0.0, 1.0]], [(0, 2), [0.0, 2.0]]], 2: [[(2,), [-0.0, 2.0]], [(0, 2), [0.0, 2.0]]]}\n",
      "\n",
      "Examining join (0,), for box 0\n",
      "Examining join (0, 2), for box 0\n",
      "Deleted join (0, 2), for box 0\n",
      "j: 1\n",
      "len(params_k): 2\n",
      "Examining join (2,), for box 2\n",
      "Deleted join (2,), for box 2\n",
      "j: 0\n",
      "len(params_k): 2\n",
      "Examining join (0, 2), for box 2\n",
      "Deleted join (0, 2), for box 2\n",
      "j: 1\n",
      "len(params_k): 2\n",
      "cnt_scores_remaining :{0: [0.84515425472851657]}\n",
      "\n",
      "cnt_score_params_remaining :{0: [[(0,), [-0.0, 1.0]]]}\n",
      "\n",
      "self.cnt_best_params: {1: [(1,), [-8.0, 0.0]], 2: [(2,), [-0.0, 2.0]]}\n",
      "len(self.cnts): 3\n",
      "winner: 0\n",
      "winner params: [(0,), [-0.0, 1.0]]\n",
      "forbidden_inds: set([0])\n",
      "cnt_scores_remaining :{0: [0.84515425472851657]}\n",
      "\n",
      "cnt_score_params_remaining :{0: [[(0,), [-0.0, 1.0]]]}\n",
      "\n",
      "Examining join (0,), for box 0\n",
      "Deleted join (0,), for box 0\n",
      "j: 0\n",
      "len(params_k): 1\n",
      "cnt_scores_remaining :{}\n",
      "\n",
      "cnt_score_params_remaining :{}\n",
      "\n"
     ]
    },
    {
     "data": {
      "image/png": "[encoded data removed]",
      "text/plain": [
       "<matplotlib.figure.Figure at 0x11a745310>"
      ]
     },
     "metadata": {},
     "output_type": "display_data"
    },
    {
     "name": "stdout",
     "output_type": "stream",
     "text": [
      "Join (0,), Shift [-0.0, 6.0], Score 0.0\n",
      "Join (1,), Shift [-0.0, 2.0], Score 0.0\n",
      "Join (2,), Shift [12.0, 0.0], Score 0.707106781187\n",
      "Join (3,), Shift [0.0, 0.0], Score 1\n",
      "Join (0, 1), Shift [0.0, -6.0], Score 0.0\n",
      "Join (0, 2), Shift [0.0, -6.0], Score 0.721110255093\n",
      "Join (0, 3), Shift [0.0, 2.0], Score 1\n",
      "Join (1, 2), Shift [-0.0, 2.0], Score 0.666666666667\n",
      "Join (1, 3), Shift [1.0, 4.0], Score 1\n",
      "Join (2, 3), Shift [0.0, 0.0], Score 1\n",
      "Join (0, 1, 2), Shift [0.0, -6.0], Score 0.721110255093\n",
      "Join (0, 1, 3), Shift [1.0, 1.0], Score 1\n",
      "Join (0, 2, 3), Shift [0.0, 1.0], Score 1\n",
      "Join (1, 2, 3), Shift [1.0, 4.0], Score 1\n",
      "Join (0, 1, 2, 3), Shift [0.0, 1.0], Score 1\n",
      "\n",
      "Starting . . . \n",
      "\n",
      "\n",
      "self.cnt_best_params: {}\n",
      "len(self.cnts): 4\n",
      "winner: 0\n",
      "winner params: [(0,), [-0.0, 6.0]]\n",
      "forbidden_inds: set([0])\n",
      "cnt_scores_remaining :{0: [0.0, 0.0, 0.7211102550927978, 1, 0.7211102550927978, 1, 1, 1], 1: [0.0, 0.0, 0.66666666666666663, 1, 0.7211102550927978, 1, 1, 1], 2: [0.70710678118654746, 0.7211102550927978, 0.66666666666666663, 1, 0.7211102550927978, 1, 1, 1], 3: [1, 1, 1, 1, 1, 1, 1, 1]}\n",
      "\n",
      "cnt_score_params_remaining :{0: [[(0,), [-0.0, 6.0]], [(0, 1), [0.0, -6.0]], [(0, 2), [0.0, -6.0]], [(0, 3), [0.0, 2.0]], [(0, 1, 2), [0.0, -6.0]], [(0, 1, 3), [1.0, 1.0]], [(0, 2, 3), [0.0, 1.0]], [(0, 1, 2, 3), [0.0, 1.0]]], 1: [[(1,), [-0.0, 2.0]], [(0, 1), [0.0, -6.0]], [(1, 2), [-0.0, 2.0]], [(1, 3), [1.0, 4.0]], [(0, 1, 2), [0.0, -6.0]], [(0, 1, 3), [1.0, 1.0]], [(1, 2, 3), [1.0, 4.0]], [(0, 1, 2, 3), [0.0, 1.0]]], 2: [[(2,), [12.0, 0.0]], [(0, 2), [0.0, -6.0]], [(1, 2), [-0.0, 2.0]], [(2, 3), [0.0, 0.0]], [(0, 1, 2), [0.0, -6.0]], [(0, 2, 3), [0.0, 1.0]], [(1, 2, 3), [1.0, 4.0]], [(0, 1, 2, 3), [0.0, 1.0]]], 3: [[(3,), [0.0, 0.0]], [(0, 3), [0.0, 2.0]], [(1, 3), [1.0, 4.0]], [(2, 3), [0.0, 0.0]], [(0, 1, 3), [1.0, 1.0]], [(0, 2, 3), [0.0, 1.0]], [(1, 2, 3), [1.0, 4.0]], [(0, 1, 2, 3), [0.0, 1.0]]]}\n",
      "\n",
      "Examining join (0,), for box 0\n",
      "Deleted join (0,), for box 0\n",
      "j: 0\n",
      "len(params_k): 8\n",
      "Examining join (0, 1), for box 0\n",
      "Deleted join (0, 1), for box 0\n",
      "j: 1\n",
      "len(params_k): 8\n",
      "Examining join (0, 2), for box 0\n",
      "Deleted join (0, 2), for box 0\n",
      "j: 2\n",
      "len(params_k): 8\n",
      "Examining join (0, 3), for box 0\n",
      "Deleted join (0, 3), for box 0\n",
      "j: 3\n",
      "len(params_k): 8\n",
      "Examining join (0, 1, 2), for box 0\n",
      "Deleted join (0, 1, 2), for box 0\n",
      "j: 4\n",
      "len(params_k): 8\n",
      "Examining join (0, 1, 3), for box 0\n",
      "Deleted join (0, 1, 3), for box 0\n",
      "j: 5\n",
      "len(params_k): 8\n",
      "Examining join (0, 2, 3), for box 0\n",
      "Deleted join (0, 2, 3), for box 0\n",
      "j: 6\n",
      "len(params_k): 8\n",
      "Examining join (0, 1, 2, 3), for box 0\n",
      "Deleted join (0, 1, 2, 3), for box 0\n",
      "j: 7\n",
      "len(params_k): 8\n",
      "Examining join (1,), for box 1\n",
      "Examining join (0, 1), for box 1\n",
      "Deleted join (0, 1), for box 1\n",
      "j: 1\n",
      "len(params_k): 8\n",
      "Examining join (1, 2), for box 1\n",
      "Examining join (1, 3), for box 1\n",
      "Examining join (0, 1, 2), for box 1\n",
      "Deleted join (0, 1, 2), for box 1\n",
      "j: 4\n",
      "len(params_k): 8\n",
      "Examining join (0, 1, 3), for box 1\n",
      "Deleted join (0, 1, 3), for box 1\n",
      "j: 5\n",
      "len(params_k): 8\n",
      "Examining join (1, 2, 3), for box 1\n",
      "Examining join (0, 1, 2, 3), for box 1\n",
      "Deleted join (0, 1, 2, 3), for box 1\n",
      "j: 7\n",
      "len(params_k): 8\n",
      "Examining join (2,), for box 2\n",
      "Examining join (0, 2), for box 2\n",
      "Deleted join (0, 2), for box 2\n",
      "j: 1\n",
      "len(params_k): 8\n",
      "Examining join (1, 2), for box 2\n",
      "Examining join (2, 3), for box 2\n",
      "Examining join (0, 1, 2), for box 2\n",
      "Deleted join (0, 1, 2), for box 2\n",
      "j: 4\n",
      "len(params_k): 8\n",
      "Examining join (0, 2, 3), for box 2\n",
      "Deleted join (0, 2, 3), for box 2\n",
      "j: 5\n",
      "len(params_k): 8\n",
      "Examining join (1, 2, 3), for box 2\n",
      "Examining join (0, 1, 2, 3), for box 2\n",
      "Deleted join (0, 1, 2, 3), for box 2\n",
      "j: 7\n",
      "len(params_k): 8\n",
      "Examining join (3,), for box 3\n",
      "Examining join (0, 3), for box 3\n",
      "Deleted join (0, 3), for box 3\n",
      "j: 1\n",
      "len(params_k): 8\n",
      "Examining join (1, 3), for box 3\n",
      "Examining join (2, 3), for box 3\n",
      "Examining join (0, 1, 3), for box 3\n",
      "Deleted join (0, 1, 3), for box 3\n",
      "j: 4\n",
      "len(params_k): 8\n",
      "Examining join (0, 2, 3), for box 3\n",
      "Deleted join (0, 2, 3), for box 3\n",
      "j: 5\n",
      "len(params_k): 8\n",
      "Examining join (1, 2, 3), for box 3\n",
      "Examining join (0, 1, 2, 3), for box 3\n",
      "Deleted join (0, 1, 2, 3), for box 3\n",
      "j: 7\n",
      "len(params_k): 8\n",
      "cnt_scores_remaining :{1: [0.0, 0.66666666666666663, 1, 1], 2: [0.70710678118654746, 0.66666666666666663, 1, 1], 3: [1, 1, 1, 1]}\n",
      "\n",
      "cnt_score_params_remaining :{1: [[(1,), [-0.0, 2.0]], [(1, 2), [-0.0, 2.0]], [(1, 3), [1.0, 4.0]], [(1, 2, 3), [1.0, 4.0]]], 2: [[(2,), [12.0, 0.0]], [(1, 2), [-0.0, 2.0]], [(2, 3), [0.0, 0.0]], [(1, 2, 3), [1.0, 4.0]]], 3: [[(3,), [0.0, 0.0]], [(1, 3), [1.0, 4.0]], [(2, 3), [0.0, 0.0]], [(1, 2, 3), [1.0, 4.0]]]}\n",
      "\n",
      "self.cnt_best_params: {0: [(0,), [-0.0, 6.0]]}\n",
      "len(self.cnts): 4\n",
      "winner: 1\n",
      "winner params: [(1,), [-0.0, 2.0]]\n",
      "forbidden_inds: set([1])\n",
      "cnt_scores_remaining :{1: [0.0, 0.66666666666666663, 1, 1], 2: [0.70710678118654746, 0.66666666666666663, 1, 1], 3: [1, 1, 1, 1]}\n",
      "\n",
      "cnt_score_params_remaining :{1: [[(1,), [-0.0, 2.0]], [(1, 2), [-0.0, 2.0]], [(1, 3), [1.0, 4.0]], [(1, 2, 3), [1.0, 4.0]]], 2: [[(2,), [12.0, 0.0]], [(1, 2), [-0.0, 2.0]], [(2, 3), [0.0, 0.0]], [(1, 2, 3), [1.0, 4.0]]], 3: [[(3,), [0.0, 0.0]], [(1, 3), [1.0, 4.0]], [(2, 3), [0.0, 0.0]], [(1, 2, 3), [1.0, 4.0]]]}\n",
      "\n",
      "Examining join (1,), for box 1\n",
      "Deleted join (1,), for box 1\n",
      "j: 0\n",
      "len(params_k): 4\n",
      "Examining join (1, 2), for box 1\n",
      "Deleted join (1, 2), for box 1\n",
      "j: 1\n",
      "len(params_k): 4\n",
      "Examining join (1, 3), for box 1\n",
      "Deleted join (1, 3), for box 1\n",
      "j: 2\n",
      "len(params_k): 4\n",
      "Examining join (1, 2, 3), for box 1\n",
      "Deleted join (1, 2, 3), for box 1\n",
      "j: 3\n",
      "len(params_k): 4\n",
      "Examining join (2,), for box 2\n",
      "Examining join (1, 2), for box 2\n",
      "Deleted join (1, 2), for box 2\n",
      "j: 1\n",
      "len(params_k): 4\n",
      "Examining join (2, 3), for box 2\n",
      "Examining join (1, 2, 3), for box 2\n",
      "Deleted join (1, 2, 3), for box 2\n",
      "j: 3\n",
      "len(params_k): 4\n",
      "Examining join (3,), for box 3\n",
      "Examining join (1, 3), for box 3\n",
      "Deleted join (1, 3), for box 3\n",
      "j: 1\n",
      "len(params_k): 4\n",
      "Examining join (2, 3), for box 3\n",
      "Examining join (1, 2, 3), for box 3\n",
      "Deleted join (1, 2, 3), for box 3\n",
      "j: 3\n",
      "len(params_k): 4\n",
      "cnt_scores_remaining :{2: [0.70710678118654746, 1], 3: [1, 1]}\n",
      "\n",
      "cnt_score_params_remaining :{2: [[(2,), [12.0, 0.0]], [(2, 3), [0.0, 0.0]]], 3: [[(3,), [0.0, 0.0]], [(2, 3), [0.0, 0.0]]]}\n",
      "\n",
      "self.cnt_best_params: {0: [(0,), [-0.0, 6.0]], 1: [(1,), [-0.0, 2.0]]}\n",
      "len(self.cnts): 4\n",
      "winner: 2\n",
      "winner params: [(2,), [12.0, 0.0]]\n",
      "forbidden_inds: set([2])\n",
      "cnt_scores_remaining :{2: [0.70710678118654746, 1], 3: [1, 1]}\n",
      "\n",
      "cnt_score_params_remaining :{2: [[(2,), [12.0, 0.0]], [(2, 3), [0.0, 0.0]]], 3: [[(3,), [0.0, 0.0]], [(2, 3), [0.0, 0.0]]]}\n",
      "\n",
      "Examining join (2,), for box 2\n",
      "Deleted join (2,), for box 2\n",
      "j: 0\n",
      "len(params_k): 2\n",
      "Examining join (2, 3), for box 2\n",
      "Deleted join (2, 3), for box 2\n",
      "j: 1\n",
      "len(params_k): 2\n",
      "Examining join (3,), for box 3\n",
      "Examining join (2, 3), for box 3\n",
      "Deleted join (2, 3), for box 3\n",
      "j: 1\n",
      "len(params_k): 2\n",
      "cnt_scores_remaining :{3: [1]}\n",
      "\n",
      "cnt_score_params_remaining :{3: [[(3,), [0.0, 0.0]]]}\n",
      "\n",
      "self.cnt_best_params: {0: [(0,), [-0.0, 6.0]], 1: [(1,), [-0.0, 2.0]], 2: [(2,), [12.0, 0.0]]}\n",
      "len(self.cnts): 4\n",
      "winner: 3\n",
      "winner params: [(3,), [0.0, 0.0]]\n",
      "forbidden_inds: set([3])\n",
      "cnt_scores_remaining :{3: [1]}\n",
      "\n",
      "cnt_score_params_remaining :{3: [[(3,), [0.0, 0.0]]]}\n",
      "\n",
      "Examining join (3,), for box 3\n",
      "Deleted join (3,), for box 3\n",
      "j: 0\n",
      "len(params_k): 1\n",
      "cnt_scores_remaining :{}\n",
      "\n",
      "cnt_score_params_remaining :{}\n",
      "\n",
      "412445\n"
     ]
    }
   ],
   "source": [
    "num_steps = 5\n",
    "img_dir = 'img/'\n",
    "mt = play(num_steps, env, img_dir, num_wait_steps, )\n",
    "fp = mt.frame_pairs\n",
    "frame_thresh = [f.thresh for f in fp]\n",
    "\n",
    "print mt.game_id"
   ]
  },
  {
   "cell_type": "code",
   "execution_count": 500,
   "metadata": {
    "scrolled": false
   },
   "outputs": [
    {
     "name": "stdout",
     "output_type": "stream",
     "text": [
      "\n",
      " Frame: 0\n"
     ]
    },
    {
     "data": {
      "image/png": "[encoded data removed]",
      "text/plain": [
       "<matplotlib.figure.Figure at 0x123a44d10>"
      ]
     },
     "metadata": {},
     "output_type": "display_data"
    },
    {
     "name": "stdout",
     "output_type": "stream",
     "text": [
      "\n",
      " Frame: 1\n"
     ]
    },
    {
     "data": {
      "image/png": "[encoded data removed]",
      "text/plain": [
       "<matplotlib.figure.Figure at 0x11b2c23d0>"
      ]
     },
     "metadata": {},
     "output_type": "display_data"
    },
    {
     "name": "stdout",
     "output_type": "stream",
     "text": [
      "\n",
      " Frame: 2\n"
     ]
    },
    {
     "data": {
      "image/png": "[encoded data removed]",
      "text/plain": [
       "<matplotlib.figure.Figure at 0x123cf3f50>"
      ]
     },
     "metadata": {},
     "output_type": "display_data"
    },
    {
     "name": "stdout",
     "output_type": "stream",
     "text": [
      "\n",
      " Frame: 3\n"
     ]
    },
    {
     "data": {
      "image/png": "[encoded data removed]",
      "text/plain": [
       "<matplotlib.figure.Figure at 0x119c90e10>"
      ]
     },
     "metadata": {},
     "output_type": "display_data"
    },
    {
     "name": "stdout",
     "output_type": "stream",
     "text": [
      "\n",
      " Frame: 4\n"
     ]
    },
    {
     "data": {
      "image/png": "[encoded data removed]",
      "text/plain": [
       "<matplotlib.figure.Figure at 0x11b1c9510>"
      ]
     },
     "metadata": {},
     "output_type": "display_data"
    },
    {
     "name": "stdout",
     "output_type": "stream",
     "text": [
      "\n",
      " Frame: 5\n"
     ]
    },
    {
     "data": {
      "image/png": "[encoded data removed]",
      "text/plain": [
       "<matplotlib.figure.Figure at 0x123d4ecd0>"
      ]
     },
     "metadata": {},
     "output_type": "display_data"
    }
   ],
   "source": [
    "for i in range(mt.cur_frame):\n",
    "    print '\\n Frame: ' + str(i)\n",
    "    #print 'Action: ' + str(mt.action_hist[i]) + '\\n'\n",
    "    fig = plt.figure(figsize=(12,5))\n",
    "\n",
    "    movers_cur_frame = []\n",
    "    for m in mt.movers:\n",
    "        cur_frame_pos = filter(lambda p: p[0]==i, m.trajectory)\n",
    "        if len(cur_frame_pos) > 0:\n",
    "            movers_cur_frame.append((m.id, cur_frame_pos[0][1]))\n",
    "        \n",
    "    ax = plt.gca()\n",
    "    plt.axis('off')\n",
    "    if i == 0:\n",
    "        plt.imshow(fp[i].s0)\n",
    "    else:\n",
    "        plt.imshow(fp[i-1].s1)\n",
    "    for data in movers_cur_frame:\n",
    "        m_id = data[0]\n",
    "        box = data[1]\n",
    "        ax.add_patch(patches.Rectangle((box.ll.x, box.ll.y),\n",
    "                                    box.width, box.height,\n",
    "                                    color=box_colors[m_id+1],\n",
    "                                    fill=False)\n",
    "            )\n",
    "        plt.text(box.ur.x+3, box.ur.y+3, str(m_id),color='w')\n",
    "    plt.show()"
   ]
  },
  {
   "cell_type": "code",
   "execution_count": 501,
   "metadata": {
    "scrolled": false
   },
   "outputs": [
    {
     "name": "stdout",
     "output_type": "stream",
     "text": [
      "\n",
      " Frame: 0\n"
     ]
    },
    {
     "data": {
      "image/png": "[encoded data removed]",
      "text/plain": [
       "<matplotlib.figure.Figure at 0x12525d490>"
      ]
     },
     "metadata": {},
     "output_type": "display_data"
    },
    {
     "name": "stdout",
     "output_type": "stream",
     "text": [
      "\n",
      " Frame: 1\n"
     ]
    },
    {
     "data": {
      "image/png": "[encoded data removed]",
      "text/plain": [
       "<matplotlib.figure.Figure at 0x124abed90>"
      ]
     },
     "metadata": {},
     "output_type": "display_data"
    },
    {
     "name": "stdout",
     "output_type": "stream",
     "text": [
      "\n",
      " Frame: 2\n"
     ]
    },
    {
     "data": {
      "image/png": "[encoded data removed]",
      "text/plain": [
       "<matplotlib.figure.Figure at 0x11b5333d0>"
      ]
     },
     "metadata": {},
     "output_type": "display_data"
    },
    {
     "name": "stdout",
     "output_type": "stream",
     "text": [
      "\n",
      " Frame: 3\n"
     ]
    },
    {
     "data": {
      "image/png": "[encoded data removed]",
      "text/plain": [
       "<matplotlib.figure.Figure at 0x121dd0150>"
      ]
     },
     "metadata": {},
     "output_type": "display_data"
    },
    {
     "name": "stdout",
     "output_type": "stream",
     "text": [
      "\n",
      " Frame: 4\n"
     ]
    },
    {
     "data": {
      "image/png": "[encoded data removed]",
      "text/plain": [
       "<matplotlib.figure.Figure at 0x119e35690>"
      ]
     },
     "metadata": {},
     "output_type": "display_data"
    }
   ],
   "source": [
    "for i in range(mt.cur_frame-1):\n",
    "    print '\\n Frame: ' + str(i)\n",
    "    #print 'Action: ' + str(mt.action_hist[i]) + '\\n'\n",
    "    fig = plt.figure(figsize=(12,5))\n",
    "\n",
    "    movers_cur_frame = []\n",
    "    for m in mt.movers:\n",
    "        cur_frame_pos = filter(lambda p: p[0]==i, m.trajectory)\n",
    "        if len(cur_frame_pos) > 0:\n",
    "            movers_cur_frame.append((m.id, cur_frame_pos[0][1]))\n",
    "    ax = fig.add_subplot(121)\n",
    "    plt.axis('off')\n",
    "    plt.imshow(fp[i].s0)\n",
    "    finder = fp[i].finder\n",
    "    for m_id, boxes in enumerate(finder.mover_boxes):\n",
    "        box = boxes[0]\n",
    "        ax.add_patch(patches.Rectangle((box.ll.x, box.ll.y),\n",
    "                                    box.width, box.height,\n",
    "                                    color=box_colors[m_id+1],\n",
    "                                    fill=False)\n",
    "            )\n",
    "        plt.text(box.ur.x+3, box.ur.y+3, str(m_id),color='w')\n",
    "    ax = fig.add_subplot(122)\n",
    "    plt.axis('off')\n",
    "    plt.imshow(fp[i].s1)\n",
    "    for m_id, boxes in enumerate(finder.mover_boxes):\n",
    "        box = boxes[1]\n",
    "        ax.add_patch(patches.Rectangle((box.ll.x, box.ll.y),\n",
    "                                    box.width, box.height,\n",
    "                                    color=box_colors[m_id+1],\n",
    "                                    fill=False)\n",
    "            )\n",
    "        plt.text(box.ur.x+3, box.ur.y+3, str(m_id),color='w')\n",
    "    plt.show()"
   ]
  },
  {
   "cell_type": "code",
   "execution_count": 74,
   "metadata": {},
   "outputs": [
    {
     "name": "stdout",
     "output_type": "stream",
     "text": [
      "[[0, (139-142, 121-125)], [1, (142-145, 125-129)]]\n",
      "[[2, (135-141, 125-133)], [3, (133-139, 127-135)], [4, (131-137, 129-137)], [5, (127-133, 133-141)], [6, (123-129, 137-145)], [7, (120-126, 140-148)], [8, (116-122, 144-152)], [9, (113-119, 147-155)], [10, (109-115, 151-159)]]\n"
     ]
    }
   ],
   "source": [
    "print mt.movers[1].trajectory\n",
    "print mt.movers[2].trajectory"
   ]
  },
  {
   "cell_type": "code",
   "execution_count": 64,
   "metadata": {},
   "outputs": [
    {
     "name": "stdout",
     "output_type": "stream",
     "text": [
      "(17-20, 124-128)\n",
      "(14-20, 120-128)\n",
      "25\n",
      "0\n"
     ]
    }
   ],
   "source": [
    "print fp[2].mover_boxes[1][1]\n",
    "print fp[3].mover_boxes[1][0]\n",
    "\n",
    "print (fp[2].mover_boxes[1][1].ll).sq_dist(fp[3].mover_boxes[1][0].ll)\n",
    "print (fp[2].mover_boxes[1][1].ur).sq_dist(fp[3].mover_boxes[1][0].ur)"
   ]
  },
  {
   "cell_type": "code",
   "execution_count": 58,
   "metadata": {},
   "outputs": [
    {
     "data": {
      "text/plain": [
       "<matplotlib.image.AxesImage at 0x116efc390>"
      ]
     },
     "execution_count": 58,
     "metadata": {},
     "output_type": "execute_result"
    },
    {
     "data": {
      "image/png": "[encoded data removed]",
      "text/plain": [
       "<matplotlib.figure.Figure at 0x117d3ea90>"
      ]
     },
     "metadata": {},
     "output_type": "display_data"
    }
   ],
   "source": [
    "plt.imshow(fp[3].s0 - fp[2].s1)"
   ]
  },
  {
   "cell_type": "code",
   "execution_count": 35,
   "metadata": {
    "collapsed": true
   },
   "outputs": [],
   "source": [
    "s0s = [f.s0 for f in fp]\n",
    "s1s = [f.s1 for f in fp]"
   ]
  },
  {
   "cell_type": "code",
   "execution_count": 37,
   "metadata": {},
   "outputs": [
    {
     "data": {
      "text/plain": [
       "<matplotlib.image.AxesImage at 0x1150b1550>"
      ]
     },
     "execution_count": 37,
     "metadata": {},
     "output_type": "execute_result"
    },
    {
     "data": {
      "image/png": "[encoded data removed]",
      "text/plain": [
       "<matplotlib.figure.Figure at 0x116c451d0>"
      ]
     },
     "metadata": {},
     "output_type": "display_data"
    }
   ],
   "source": [
    "ii = 2\n",
    "\n",
    "f0 = cv2.cvtColor(fp[ii].s0, cv2.COLOR_BGR2GRAY).astype('float32')\n",
    "f1 = cv2.cvtColor(fp[ii].s1, cv2.COLOR_BGR2GRAY).astype('float32')\n",
    "s0 = fp[ii].s0\n",
    "s1 = fp[ii].s1\n",
    "\n",
    "boxes = fp[ii].boxes\n",
    "\n",
    "plt.imshow(f1-f0)"
   ]
  },
  {
   "cell_type": "code",
   "execution_count": 10,
   "metadata": {
    "collapsed": true
   },
   "outputs": [],
   "source": [
    "def join_cnts(cnts, inds):\n",
    "    (x, y, w, h) = cv2.boundingRect(cnts[inds[0]])\n",
    "    ll = Point(x,y)\n",
    "    ur = Point(x+w,y+h)\n",
    "    for ind in inds[1:]:\n",
    "        (x, y, w, h) = cv2.boundingRect(cnts[ind]) \n",
    "        if x < ll.x:\n",
    "            ll.x = x\n",
    "        if x > ur.x:\n",
    "            ur.x = x\n",
    "        if y < ll.y:\n",
    "            ll.y = y\n",
    "        if y > ur.y:\n",
    "            ur.y = y\n",
    "    return Box(ll,ur)"
   ]
  },
  {
   "cell_type": "code",
   "execution_count": 11,
   "metadata": {},
   "outputs": [
    {
     "data": {
      "text/plain": [
       "\"\\nfor i, c in enumerate(cnts_joined):\\n    (x, y, w, h) = (c.ll.x, c.ll.y, c.width, c.height)\\n    plt.imshow(thresh_dilated,cmap='gray')\\n    ax = plt.gca()\\n    plt.axis([0, 159, 209, 0])\\n    ax.add_patch(patches.Rectangle((x,y),w,h,color='g',fill=False))\\n    plt.show()\\n\""
      ]
     },
     "execution_count": 11,
     "metadata": {},
     "output_type": "execute_result"
    }
   ],
   "source": [
    "frame_diff = fp[ii].s1 - fp[ii].s0\n",
    "fd_grey = cv2.cvtColor(frame_diff, cv2.COLOR_BGR2GRAY)\n",
    "thresh = cv2.threshold(fd_grey,1,255,cv2.THRESH_BINARY)[1]\n",
    "thresh_dilated = cv2.dilate(thresh,None,iterations=1)\n",
    "(cnts, _) = cv2.findContours(thresh_dilated.copy(), cv2.RETR_EXTERNAL,cv2.CHAIN_APPROX_SIMPLE)\n",
    "\n",
    "from itertools import combinations\n",
    "all_joins = [c \\\n",
    " for l in range(1,len(cnts)+1) \\\n",
    " for c in combinations(range(len(cnts)),l)\\\n",
    "]\n",
    "\n",
    "cnts_joined = [join_cnts(cnts,inds) for inds in all_joins] \n",
    "\n",
    "'''\n",
    "for i, c in enumerate(cnts_joined):\n",
    "    (x, y, w, h) = (c.ll.x, c.ll.y, c.width, c.height)\n",
    "    plt.imshow(thresh_dilated,cmap='gray')\n",
    "    ax = plt.gca()\n",
    "    plt.axis([0, 159, 209, 0])\n",
    "    ax.add_patch(patches.Rectangle((x,y),w,h,color='g',fill=False))\n",
    "    plt.show()\n",
    "'''"
   ]
  },
  {
   "cell_type": "code",
   "execution_count": 12,
   "metadata": {
    "collapsed": true
   },
   "outputs": [],
   "source": [
    "def generate_translate(f0, f1, shifts, debug=False):\n",
    "    out = np.zeros(f0.shape)\n",
    "    #out = f1.copy()\n",
    "    n_changed = 0\n",
    "    for i in range(shifts.shape[0]):\n",
    "        for j in range(shifts.shape[1]):\n",
    "            try:\n",
    "                x_out_float = (i+shifts[i,j,0])# % out.shape[0]\n",
    "                y_out_float = (j+shifts[i,j,1])# % out.shape[1]\n",
    "                \n",
    "                #frac_x = x_out_float - int(x_out_float)\n",
    "                #frac_y = y_out_float - int(y_out_float)\n",
    "\n",
    "                x_out = np.round(x_out_float).astype(int) % out.shape[0]\n",
    "                y_out = np.round(y_out_float).astype(int) % out.shape[1]\n",
    "                \n",
    "                out[x_out,y_out,:] = f0[i,j,:]\n",
    "                #out[x_out,y_out,:] = (1-frac_x)*(1-frac_y)*f0[i,j,:]\n",
    "                #out[x_out+1,y_out,:] += (frac_x)*(1-frac_y)*f0[i,j,:]\n",
    "                #out[x_out,y_out+1,:] += (1-frac_x)*(frac_y)*f0[i,j,:]\n",
    "                #out[x_out+1,y_out+1,:] += (frac_x)*(frac_y)*f0[i,j,:]\n",
    "                n_changed += 1\n",
    "            except IndexError:\n",
    "                pass\n",
    "    if debug:\n",
    "        return out, n_changed\n",
    "    else:\n",
    "        return out"
   ]
  },
  {
   "cell_type": "code",
   "execution_count": 13,
   "metadata": {},
   "outputs": [
    {
     "data": {
      "text/plain": [
       "[(0,), (1,), (0, 1)]"
      ]
     },
     "execution_count": 13,
     "metadata": {},
     "output_type": "execute_result"
    }
   ],
   "source": [
    "all_joins"
   ]
  },
  {
   "cell_type": "code",
   "execution_count": 23,
   "metadata": {
    "scrolled": true
   },
   "outputs": [
    {
     "name": "stdout",
     "output_type": "stream",
     "text": [
      "0 \n",
      "\n",
      "0.0\n",
      "\n",
      "0.0\n",
      "\n",
      "[0.0, -17.0] \n",
      "\n"
     ]
    },
    {
     "data": {
      "image/png": "[encoded data removed]",
      "text/plain": [
       "<matplotlib.figure.Figure at 0x105d70050>"
      ]
     },
     "metadata": {},
     "output_type": "display_data"
    },
    {
     "data": {
      "image/png": "[encoded data removed]",
      "text/plain": [
       "<matplotlib.figure.Figure at 0x116fd9a10>"
      ]
     },
     "metadata": {},
     "output_type": "display_data"
    },
    {
     "name": "stdout",
     "output_type": "stream",
     "text": [
      "1 \n",
      "\n",
      "0.0\n",
      "\n",
      "0.0\n",
      "\n",
      "[3.0, -3.0] \n",
      "\n"
     ]
    },
    {
     "data": {
      "image/png": "[encoded data removed]",
      "text/plain": [
       "<matplotlib.figure.Figure at 0x116df8cd0>"
      ]
     },
     "metadata": {},
     "output_type": "display_data"
    },
    {
     "data": {
      "image/png": "[encoded data removed]",
      "text/plain": [
       "<matplotlib.figure.Figure at 0x116c88b50>"
      ]
     },
     "metadata": {},
     "output_type": "display_data"
    },
    {
     "name": "stdout",
     "output_type": "stream",
     "text": [
      "2 \n",
      "\n",
      "0.333333333333\n",
      "\n",
      "0.333333333333\n",
      "\n",
      "[0.0, -17.0] \n",
      "\n"
     ]
    },
    {
     "data": {
      "image/png": "[encoded data removed]",
      "text/plain": [
       "<matplotlib.figure.Figure at 0x116efb4d0>"
      ]
     },
     "metadata": {},
     "output_type": "display_data"
    },
    {
     "data": {
      "image/png": "[encoded data removed]",
      "text/plain": [
       "<matplotlib.figure.Figure at 0x116d9f9d0>"
      ]
     },
     "metadata": {},
     "output_type": "display_data"
    }
   ],
   "source": [
    "cnt_scores = {i: [] for i in range(len(cnts))}\n",
    "cnt_score_params = {i: [] for i in range(len(cnts))}\n",
    "for box_id, box in enumerate(cnts_joined):\n",
    "    print box_id, '\\n'\n",
    "    box0 = Box(box.ll, box.ur)\n",
    "    box1 = Box(box.ll, box.ur)\n",
    "    # grayscale\n",
    "    box0.add_image(f0)\n",
    "    box1.add_image(f1)\n",
    "\n",
    "    box0_1channel = np.expand_dims(box0.img,2)\n",
    "    box1_1channel = np.expand_dims(box1.img,2)\n",
    "    \n",
    "    shifts = np.zeros((f0.shape[0],f0.shape[1],2))\n",
    "    pc = cv2.phaseCorrelate(box0.img,box1.img)\n",
    "    four_shifts = [[np.floor(pc[1]),np.floor(pc[0])],\\\n",
    "                   [np.ceil(pc[1]),np.floor(pc[0])],\\\n",
    "                   [np.floor(pc[1]),np.ceil(pc[0])],\\\n",
    "                   [np.ceil(pc[1]),np.ceil(pc[0])]\n",
    "                  ]\n",
    "    best_ratio = 1\n",
    "    \n",
    "    best_shift = four_shifts[0]\n",
    "    for s in four_shifts:\n",
    "        shifts[:,:,0] = s[0]\n",
    "        shifts[:,:,1] = s[1]\n",
    "\n",
    "        synth_box1 = generate_translate(box0_1channel,box1_1channel,shifts)\n",
    "        synth_box0 = generate_translate(box1_1channel,box0_1channel,-shifts)\n",
    "\n",
    "        ratio0 = score(box0_1channel,box1_1channel,shifts)/score(box0_1channel,box1_1channel,0*shifts)\n",
    "        ratio1 = score(box1_1channel,box0_1channel,-shifts)/score(box1_1channel,box0_1channel,-0*shifts)\n",
    "\n",
    "        ratio_s = max(ratio0,ratio1)\n",
    "        if ratio_s < best_ratio:\n",
    "            best_shift = s\n",
    "            best_ratio = ratio_s\n",
    "    \n",
    "    s = best_shift\n",
    "    for ind in all_joins[box_id]:\n",
    "        cnt_scores[ind].append(best_ratio)\n",
    "        cnt_score_params[ind].append([all_joins[box_id], s])\n",
    "    \n",
    "    shifts[:,:,0] = s[0]\n",
    "    shifts[:,:,1] = s[1]\n",
    "\n",
    "    synth_box1 = generate_translate(box0_1channel,box1_1channel,shifts)\n",
    "    synth_box0 = generate_translate(box1_1channel,box0_1channel,-shifts)\n",
    "\n",
    "    ratio0 = score(box0_1channel,box1_1channel,shifts)/score(box0_1channel,box1_1channel,0*shifts)\n",
    "    ratio1 = score(box1_1channel,box0_1channel,-shifts)/score(box1_1channel,box0_1channel,-0*shifts)\n",
    "\n",
    "    print ratio0\n",
    "    print ''\n",
    "    print ratio1\n",
    "    print ''\n",
    "\n",
    "    print s, '\\n'\n",
    "\n",
    "    plt.figure()\n",
    "    plt.subplot(141)\n",
    "    plt.axis('off')\n",
    "    plt.imshow(box0.img,cmap='gray')\n",
    "    plt.subplot(142)\n",
    "    plt.axis('off')\n",
    "    plt.imshow(box1.img,cmap='gray')\n",
    "    plt.subplot(143)\n",
    "    plt.axis('off')\n",
    "    plt.imshow(synth_box0.squeeze(),cmap='gray')\n",
    "    plt.subplot(144)\n",
    "    plt.axis('off')\n",
    "    plt.imshow(synth_box1.squeeze(),cmap='gray')\n",
    "\n",
    "    plt.figure()\n",
    "    plt.subplot(121)\n",
    "    plt.axis('off')\n",
    "    plt.imshow(box0.img - box1.img)\n",
    "    plt.colorbar()\n",
    "    plt.subplot(122)\n",
    "    plt.axis('off')\n",
    "    plt.imshow(box0.img - synth_box0.squeeze())\n",
    "    plt.colorbar()\n",
    "\n",
    "    plt.show()"
   ]
  },
  {
   "cell_type": "code",
   "execution_count": 27,
   "metadata": {},
   "outputs": [
    {
     "name": "stdout",
     "output_type": "stream",
     "text": [
      "{0: [0.33333333333333331], 1: []}\n",
      "{0: [[(0, 1), [0.0, -17.0]]], 1: []}\n",
      "{}\n"
     ]
    }
   ],
   "source": [
    "print cnt_scores\n",
    "print cnt_score_params\n",
    "\n",
    "print cnt_scores_remaining"
   ]
  },
  {
   "cell_type": "code",
   "execution_count": null,
   "metadata": {
    "collapsed": true
   },
   "outputs": [],
   "source": []
  },
  {
   "cell_type": "code",
   "execution_count": 26,
   "metadata": {},
   "outputs": [
    {
     "name": "stdout",
     "output_type": "stream",
     "text": [
      "--Return--\n",
      "> <ipython-input-26-f10763143cf1>(1)<module>()->None\n",
      "-> pdb.set_trace()\n",
      "(Pdb) s\n",
      "> //anaconda/envs/tensorflow/lib/python2.7/site-packages/IPython/core/interactiveshell.py(2884)run_code()\n",
      "-> sys.excepthook = old_excepthook\n",
      "(Pdb) s\n",
      "> //anaconda/envs/tensorflow/lib/python2.7/site-packages/IPython/core/interactiveshell.py(2900)run_code()\n",
      "-> outflag = 0\n",
      "(Pdb) n\n",
      "> //anaconda/envs/tensorflow/lib/python2.7/site-packages/IPython/core/interactiveshell.py(2901)run_code()\n",
      "-> return outflag\n",
      "(Pdb) n\n",
      "--Return--\n",
      "> //anaconda/envs/tensorflow/lib/python2.7/site-packages/IPython/core/interactiveshell.py(2901)run_code()->0\n",
      "-> return outflag\n",
      "(Pdb) n\n",
      "> //anaconda/envs/tensorflow/lib/python2.7/site-packages/IPython/core/interactiveshell.py(2818)run_ast_nodes()\n",
      "-> for i, node in enumerate(to_run_exec):\n",
      "(Pdb) c\n",
      "{0: [0.0, 0.33333333333333331], 1: [0.0, 0.33333333333333331]} \n",
      "\n",
      "{0: [[(0,), [0.0, -17.0]], [(0, 1), [0.0, -17.0]]], 1: [[(1,), [3.0, -3.0]], [(0, 1), [0.0, -17.0]]]} \n",
      "\n",
      "\n",
      "{1: [0.0]} \n",
      "\n",
      "{0: [[(0, 1), [0.0, -17.0]]], 1: [[(1,), [3.0, -3.0]]]} \n",
      "\n",
      "\n"
     ]
    },
    {
     "data": {
      "text/plain": [
       "{0: [(0,), [0.0, -17.0]], 1: [(1,), [3.0, -3.0]]}"
      ]
     },
     "execution_count": 26,
     "metadata": {},
     "output_type": "execute_result"
    }
   ],
   "source": [
    "pdb.set_trace()\n",
    "cnt_best_params = {}\n",
    "cnt_scores_remaining = cnt_scores.copy()\n",
    "cnt_score_params_remaining = cnt_score_params.copy()\n",
    "\n",
    "while len(cnt_best_params) < len(cnts):\n",
    "    best_scores_cnts = {k: min(v) \\\n",
    "                        for k, v in cnt_scores_remaining.iteritems()}\n",
    "    winning_index = np.argmin(best_scores_cnts.values())\n",
    "    winner = best_scores_cnts.keys()[winning_index]\n",
    "    winner_best_index = np.argmin(cnt_scores_remaining[winner])\n",
    "    cnt_best_params[winner] = cnt_score_params[winner][winner_best_index]\n",
    "    print cnt_scores_remaining, '\\n'\n",
    "    print cnt_score_params_remaining, '\\n\\n'\n",
    "    forbidden_inds = set(cnt_best_params[winner][0])\n",
    "    for k in cnt_scores_remaining:\n",
    "        scores_k = cnt_scores_remaining[k]\n",
    "        for j, sc in enumerate(scores_k):\n",
    "            join_k_j = cnt_score_params_remaining[k][j][0]\n",
    "            if len(forbidden_inds & set(join_k_j)) > 0:\n",
    "                del cnt_scores_remaining[k][j]\n",
    "                del cnt_score_params_remaining[k][j]\n",
    "    cnt_scores_remaining.pop(winner)\n",
    "cnt_best_params "
   ]
  },
  {
   "cell_type": "code",
   "execution_count": 86,
   "metadata": {},
   "outputs": [
    {
     "data": {
      "text/plain": [
       "{0: [(0,), [-0.0, -15.0]], 1: [(0, 1), [0.0, -15.0]]}"
      ]
     },
     "execution_count": 86,
     "metadata": {},
     "output_type": "execute_result"
    }
   ],
   "source": [
    "cnt_best_params = {}\n",
    "for cnt_id in cnt_scores:\n",
    "    best_index = np.argmin(cnt_scores[cnt_id])\n",
    "    cnt_best_params[cnt_id] = cnt_score_params[cnt_id][best_index]\n",
    "cnt_best_params"
   ]
  },
  {
   "cell_type": "code",
   "execution_count": 83,
   "metadata": {
    "collapsed": true
   },
   "outputs": [],
   "source": [
    "mover_joins = set()\n",
    "mover_shifts = {}\n",
    "for c in cnt_best_params.values():\n",
    "    mover_joins.add(c[0])\n",
    "    mover_shifts[c[0]] = Point(int(c[1][1]),int(c[1][0]))\n",
    "mover_boxes = {inds: join_cnts(cnts,inds) for inds in mover_joins}"
   ]
  },
  {
   "cell_type": "code",
   "execution_count": 84,
   "metadata": {},
   "outputs": [
    {
     "name": "stdout",
     "output_type": "stream",
     "text": [
      "(-15, 0)\n",
      "(82.0, 158.5)\n",
      "(67.0, 158.5)\n",
      "(-15.0, 0.0)\n"
     ]
    },
    {
     "data": {
      "image/png": "[encoded data removed]",
      "text/plain": [
       "<matplotlib.figure.Figure at 0x116d35fd0>"
      ]
     },
     "metadata": {},
     "output_type": "display_data"
    },
    {
     "name": "stdout",
     "output_type": "stream",
     "text": [
      "(-15, 0)\n",
      "(82.0, 191.0)\n",
      "(67.0, 191.0)\n",
      "(-15.0, 0.0)\n"
     ]
    },
    {
     "data": {
      "image/png": "[encoded data removed]",
      "text/plain": [
       "<matplotlib.figure.Figure at 0x1179f1310>"
      ]
     },
     "metadata": {},
     "output_type": "display_data"
    }
   ],
   "source": [
    "for ind in mover_boxes:\n",
    "    box = mover_boxes[ind]\n",
    "    shift = mover_shifts[ind]\n",
    "    # delete line below later\n",
    "    shift = Point(shift.x, shift.y)\n",
    "    print shift\n",
    "    n_shift = -shift\n",
    "    box0 = Box(box.ll-shift.thresh(-1), box.ur-shift.thresh(1))\n",
    "    box1 = Box(box.ll-n_shift.thresh(-1), box.ur-n_shift.thresh(1))\n",
    "    print box0.center\n",
    "    print box1.center\n",
    "    print box1.center - box0.center\n",
    "    box0.add_image(s0)\n",
    "    box1.add_image(s1)\n",
    "    plt.subplot(121)\n",
    "    plt.imshow(box0.img)\n",
    "    plt.subplot(122)\n",
    "    plt.imshow(box1.img)\n",
    "    plt.show()"
   ]
  },
  {
   "cell_type": "code",
   "execution_count": 15,
   "metadata": {
    "collapsed": true
   },
   "outputs": [],
   "source": [
    "def score(f0, f1, shifts):\n",
    "    err = f1 - generate_translate(f0, f1, shifts)\n",
    "    return np.sqrt(sum(err.flatten()**2))\n",
    "\n",
    "def start(f0, f1):\n",
    "    diff = f1 - f0\n",
    "    nz = diff.nonzero()\n",
    "    rand_nz = np.random.randint(nz[0].shape[0])\n",
    "    point = (nz[0][rand_nz], nz[1][rand_nz])\n",
    "\n",
    "    scores = []\n",
    "    inds = []\n",
    "    s = np.zeros((s0.shape[0],s0.shape[1],2),dtype=int)\n",
    "    for i in range(-3,4):\n",
    "        for j in range(-3,4):\n",
    "            s[point[0], point[1], 0] = i\n",
    "            s[point[0], point[1], 0] = j\n",
    "            inds.append((i,j))\n",
    "            scores.append(score(f0, f1, s))\n",
    "    shift = inds[np.argmin(scores)]\n",
    "    s = np.zeros((s0.shape[0],s0.shape[1],2),dtype=int)\n",
    "    s[point[0], point[1], 0] = shift[0]\n",
    "    s[point[0], point[1], 1] = shift[1]\n",
    "    print score(f0, f1, s)\n",
    "    return shift\n",
    "\n",
    "def expand(f0, f1, shift):\n",
    "    diff = f1 - f0\n",
    "    nz = diff.nonzero()\n",
    "    s = np.zeros((s0.shape[0],s0.shape[1],2),dtype=int)\n",
    "    for ind in range(nz[0].shape[0]-1):\n",
    "        i = nz[0][ind]\n",
    "        j = nz[1][ind]\n",
    "        s[i,j,0] = shift[0]\n",
    "        s[i,j,1] = shift[1]\n",
    "    s[:,:,0] = shift[0]\n",
    "    s[:,:,1] = shift[1]\n",
    "    print score(f0, f1, s)\n",
    "    return s"
   ]
  },
  {
   "cell_type": "code",
   "execution_count": 735,
   "metadata": {
    "collapsed": true
   },
   "outputs": [],
   "source": [
    "\n",
    "mhi = np.zeros(frame_thresh[0].shape,dtype=np.float32)\n",
    "\n",
    "f_gray = cv2.cvtColor(fp[0].s0, cv2.COLOR_BGR2GRAY)\n",
    "cv2.updateMotionHistory(f_gray,mhi,1,10)\n",
    "\n",
    "for i, f in enumerate(fp):\n",
    "    f_gray = cv2.cvtColor(f.s1, cv2.COLOR_BGR2GRAY)\n",
    "    cv2.updateMotionHistory(f_gray,mhi,i+2,10)"
   ]
  },
  {
   "cell_type": "code",
   "execution_count": 470,
   "metadata": {},
   "outputs": [
    {
     "data": {
      "image/png": "[encoded data removed]",
      "text/plain": [
       "<matplotlib.figure.Figure at 0x1178971d0>"
      ]
     },
     "metadata": {},
     "output_type": "display_data"
    },
    {
     "data": {
      "image/png": "[encoded data removed]",
      "text/plain": [
       "<matplotlib.figure.Figure at 0x128cb5dd0>"
      ]
     },
     "metadata": {},
     "output_type": "display_data"
    },
    {
     "data": {
      "image/png": "[encoded data removed]",
      "text/plain": [
       "<matplotlib.figure.Figure at 0x12af66490>"
      ]
     },
     "metadata": {},
     "output_type": "display_data"
    },
    {
     "data": {
      "image/png": "[encoded data removed]",
      "text/plain": [
       "<matplotlib.figure.Figure at 0x12ac93590>"
      ]
     },
     "metadata": {},
     "output_type": "display_data"
    },
    {
     "data": {
      "image/png": "[encoded data removed]",
      "text/plain": [
       "<matplotlib.figure.Figure at 0x12ae2e110>"
      ]
     },
     "metadata": {},
     "output_type": "display_data"
    },
    {
     "data": {
      "image/png": "[encoded data removed]",
      "text/plain": [
       "<matplotlib.figure.Figure at 0x128f3b5d0>"
      ]
     },
     "metadata": {},
     "output_type": "display_data"
    },
    {
     "data": {
      "image/png": "[encoded data removed]",
      "text/plain": [
       "<matplotlib.figure.Figure at 0x12a42e710>"
      ]
     },
     "metadata": {},
     "output_type": "display_data"
    },
    {
     "data": {
      "image/png": "[encoded data removed]",
      "text/plain": [
       "<matplotlib.figure.Figure at 0x12b259950>"
      ]
     },
     "metadata": {},
     "output_type": "display_data"
    },
    {
     "data": {
      "image/png": "[encoded data removed]",
      "text/plain": [
       "<matplotlib.figure.Figure at 0x129a4d0d0>"
      ]
     },
     "metadata": {},
     "output_type": "display_data"
    }
   ],
   "source": [
    "for i in range(1,10):\n",
    "    mhi2 = mhi.copy()\n",
    "    mhi2[mhi2 != i] = 0\n",
    "    plt.imshow(mhi2,cmap='gray')\n",
    "    plt.show()"
   ]
  },
  {
   "cell_type": "code",
   "execution_count": 458,
   "metadata": {},
   "outputs": [
    {
     "data": {
      "image/png": "[encoded data removed]",
      "text/plain": [
       "<matplotlib.figure.Figure at 0x12a8bc7d0>"
      ]
     },
     "metadata": {},
     "output_type": "display_data"
    },
    {
     "data": {
      "image/png": "[encoded data removed]",
      "text/plain": [
       "<matplotlib.figure.Figure at 0x12a87bad0>"
      ]
     },
     "metadata": {},
     "output_type": "display_data"
    },
    {
     "data": {
      "image/png": "[encoded data removed]",
      "text/plain": [
       "<matplotlib.figure.Figure at 0x102bf2850>"
      ]
     },
     "metadata": {},
     "output_type": "display_data"
    },
    {
     "data": {
      "image/png": "[encoded data removed]",
      "text/plain": [
       "<matplotlib.figure.Figure at 0x12aa2de10>"
      ]
     },
     "metadata": {},
     "output_type": "display_data"
    },
    {
     "data": {
      "image/png": "[encoded data removed]",
      "text/plain": [
       "<matplotlib.figure.Figure at 0x102bb9350>"
      ]
     },
     "metadata": {},
     "output_type": "display_data"
    },
    {
     "data": {
      "image/png": "[encoded data removed]",
      "text/plain": [
       "<matplotlib.figure.Figure at 0x117aaedd0>"
      ]
     },
     "metadata": {},
     "output_type": "display_data"
    },
    {
     "data": {
      "image/png": "[encoded data removed]",
      "text/plain": [
       "<matplotlib.figure.Figure at 0x117871b50>"
      ]
     },
     "metadata": {},
     "output_type": "display_data"
    },
    {
     "data": {
      "image/png": "[encoded data removed]",
      "text/plain": [
       "<matplotlib.figure.Figure at 0x117463f10>"
      ]
     },
     "metadata": {},
     "output_type": "display_data"
    },
    {
     "data": {
      "image/png": "[encoded data removed]",
      "text/plain": [
       "<matplotlib.figure.Figure at 0x127fa3c50>"
      ]
     },
     "metadata": {},
     "output_type": "display_data"
    },
    {
     "data": {
      "image/png": "[encoded data removed]",
      "text/plain": [
       "<matplotlib.figure.Figure at 0x128ab4a90>"
      ]
     },
     "metadata": {},
     "output_type": "display_data"
    },
    {
     "ename": "IndexError",
     "evalue": "list index out of range",
     "output_type": "error",
     "traceback": [
      "\u001b[0;31m---------------------------------------------------------------------------\u001b[0m",
      "\u001b[0;31mIndexError\u001b[0m                                Traceback (most recent call last)",
      "\u001b[0;32m<ipython-input-458-64879c65225e>\u001b[0m in \u001b[0;36m<module>\u001b[0;34m()\u001b[0m\n\u001b[1;32m     21\u001b[0m                                       lw=2))\n\u001b[1;32m     22\u001b[0m     \u001b[0max\u001b[0m \u001b[0;34m=\u001b[0m \u001b[0mplt\u001b[0m\u001b[0;34m.\u001b[0m\u001b[0msubplot\u001b[0m\u001b[0;34m(\u001b[0m\u001b[0;36m132\u001b[0m\u001b[0;34m)\u001b[0m\u001b[0;34m\u001b[0m\u001b[0m\n\u001b[0;32m---> 23\u001b[0;31m     \u001b[0mplt\u001b[0m\u001b[0;34m.\u001b[0m\u001b[0mimshow\u001b[0m\u001b[0;34m(\u001b[0m\u001b[0ms0s\u001b[0m\u001b[0;34m[\u001b[0m\u001b[0mi\u001b[0m\u001b[0;34m]\u001b[0m\u001b[0;34m)\u001b[0m\u001b[0;34m\u001b[0m\u001b[0m\n\u001b[0m\u001b[1;32m     24\u001b[0m     \u001b[0mplt\u001b[0m\u001b[0;34m.\u001b[0m\u001b[0maxis\u001b[0m\u001b[0;34m(\u001b[0m\u001b[0;34m[\u001b[0m\u001b[0;36m0\u001b[0m\u001b[0;34m,\u001b[0m \u001b[0;36m159\u001b[0m\u001b[0;34m,\u001b[0m \u001b[0;36m209\u001b[0m\u001b[0;34m,\u001b[0m \u001b[0;36m0\u001b[0m\u001b[0;34m]\u001b[0m\u001b[0;34m)\u001b[0m\u001b[0;34m\u001b[0m\u001b[0m\n\u001b[1;32m     25\u001b[0m     \u001b[0;32mfor\u001b[0m \u001b[0mrect\u001b[0m \u001b[0;32min\u001b[0m \u001b[0mseg_bounds\u001b[0m\u001b[0;34m:\u001b[0m\u001b[0;34m\u001b[0m\u001b[0m\n",
      "\u001b[0;31mIndexError\u001b[0m: list index out of range"
     ]
    },
    {
     "data": {
      "image/png": "[encoded data removed]",
      "text/plain": [
       "<matplotlib.figure.Figure at 0x117a52750>"
      ]
     },
     "metadata": {},
     "output_type": "display_data"
    }
   ],
   "source": [
    "mg_mask, mg_orient = cv2.calcMotionGradient(mhi,1,3)\n",
    "\n",
    "for i in range(len(frame_thresh)+1):\n",
    "    seg_mask, seg_bounds = \\\n",
    "    cv2.segmentMotion(mhi, i+1, 2)\n",
    "    \n",
    "    plt.figure(figsize=(12,5))\n",
    "    ax = plt.subplot(131)\n",
    "    plt.imshow(seg_mask,cmap='gray')\n",
    "    plt.axis([0, 159, 209, 0])\n",
    "    for rect in seg_bounds:\n",
    "        x, y, rw, rh = rect\n",
    "        silh_roi   = frame_thresh[1][y:y+rh,x:x+rw]\n",
    "        orient_roi = mg_orient     [y:y+rh,x:x+rw]\n",
    "        mask_roi   = mg_mask       [y:y+rh,x:x+rw]\n",
    "        mhi_roi    = mhi           [y:y+rh,x:x+rw]\n",
    "\n",
    "        angle = cv2.calcGlobalOrientation(orient_roi, mask_roi, mhi_roi, 2, 10)\n",
    "\n",
    "        ax.add_patch(patches.Rectangle((x,y),rw,rh,fill=False,\n",
    "                                       color='g',\n",
    "                                      lw=2))\n",
    "    ax = plt.subplot(132)\n",
    "    plt.imshow(s0s[i])\n",
    "    plt.axis([0, 159, 209, 0])\n",
    "    for rect in seg_bounds:\n",
    "        x, y, rw, rh = rect\n",
    "        silh_roi   = frame_thresh[1][y:y+rh,x:x+rw]\n",
    "        orient_roi = mg_orient     [y:y+rh,x:x+rw]\n",
    "        mask_roi   = mg_mask       [y:y+rh,x:x+rw]\n",
    "        mhi_roi    = mhi           [y:y+rh,x:x+rw]\n",
    "\n",
    "        angle = cv2.calcGlobalOrientation(orient_roi, mask_roi, mhi_roi, 2, 10)\n",
    "\n",
    "        ax.add_patch(patches.Rectangle((x,y),rw,rh,fill=False,\n",
    "                                       color='g',\n",
    "                                      lw=2))\n",
    "    ax = plt.subplot(133)\n",
    "    plt.imshow(s1s[i])\n",
    "    plt.axis([0, 159, 209, 0])\n",
    "    for rect in seg_bounds:\n",
    "        x, y, rw, rh = rect\n",
    "        silh_roi   = frame_thresh[1][y:y+rh,x:x+rw]\n",
    "        orient_roi = mg_orient     [y:y+rh,x:x+rw]\n",
    "        mask_roi   = mg_mask       [y:y+rh,x:x+rw]\n",
    "        mhi_roi    = mhi           [y:y+rh,x:x+rw]\n",
    "\n",
    "        angle = cv2.calcGlobalOrientation(orient_roi, mask_roi, mhi_roi, 2, 10)\n",
    "\n",
    "        ax.add_patch(patches.Rectangle((x,y),rw,rh,fill=False,\n",
    "                                       color='g',\n",
    "                                      lw=2))\n",
    "    plt.show()"
   ]
  },
  {
   "cell_type": "code",
   "execution_count": 416,
   "metadata": {},
   "outputs": [
    {
     "data": {
      "text/plain": [
       "<matplotlib.image.AxesImage at 0x117475550>"
      ]
     },
     "execution_count": 416,
     "metadata": {},
     "output_type": "execute_result"
    },
    {
     "data": {
      "image/png": "[encoded data removed]",
      "text/plain": [
       "<matplotlib.figure.Figure at 0x128ae4290>"
      ]
     },
     "metadata": {},
     "output_type": "display_data"
    }
   ],
   "source": [
    "i=3\n",
    "s0=s0s[i]\n",
    "s1=s0s[i+1]\n",
    "\n",
    "s0_gray = cv2.cvtColor(s0, cv2.COLOR_BGR2GRAY)\n",
    "s1_gray = cv2.cvtColor(s1, cv2.COLOR_BGR2GRAY)\n",
    "\n",
    "plt.imshow(s1-s0)"
   ]
  },
  {
   "cell_type": "code",
   "execution_count": 312,
   "metadata": {
    "collapsed": true
   },
   "outputs": [],
   "source": []
  },
  {
   "cell_type": "code",
   "execution_count": 310,
   "metadata": {},
   "outputs": [
    {
     "data": {
      "text/plain": [
       "(-3, -1)"
      ]
     },
     "execution_count": 310,
     "metadata": {},
     "output_type": "execute_result"
    }
   ],
   "source": [
    "shift"
   ]
  },
  {
   "cell_type": "code",
   "execution_count": 309,
   "metadata": {},
   "outputs": [
    {
     "name": "stdout",
     "output_type": "stream",
     "text": [
      "159.342398626\n",
      "159.342398626\n",
      "638.967917817\n"
     ]
    },
    {
     "data": {
      "text/plain": [
       "<matplotlib.image.AxesImage at 0x12502a9d0>"
      ]
     },
     "execution_count": 309,
     "metadata": {},
     "output_type": "execute_result"
    },
    {
     "data": {
      "image/png": "[encoded data removed]",
      "text/plain": [
       "<matplotlib.figure.Figure at 0x124714610>"
      ]
     },
     "metadata": {},
     "output_type": "display_data"
    }
   ],
   "source": [
    "shift = start(s0,s1)\n",
    "print score(s0, s1, np.zeros((s0.shape[0],s0.shape[1],2),dtype=int))\n",
    "s = expand(s0, s1, shift)\n",
    "plt.figure(figsize=(12,5))\n",
    "plt.subplot(131)\n",
    "plt.imshow(generate_translate(s0, s1, s))\n",
    "plt.subplot(132)\n",
    "plt.imshow(s0)\n",
    "plt.subplot(133)\n",
    "plt.imshow(s1)"
   ]
  },
  {
   "cell_type": "code",
   "execution_count": 160,
   "metadata": {
    "collapsed": true
   },
   "outputs": [],
   "source": [
    "s = 0*np.ones((s0.shape[0],s0.shape[1],2),dtype=int)\n",
    "s[:,:,0]=0"
   ]
  },
  {
   "cell_type": "code",
   "execution_count": 157,
   "metadata": {},
   "outputs": [
    {
     "data": {
      "text/plain": [
       "<matplotlib.image.AxesImage at 0x1187d0d90>"
      ]
     },
     "execution_count": 157,
     "metadata": {},
     "output_type": "execute_result"
    },
    {
     "data": {
      "image/png": "[encoded data removed]",
      "text/plain": [
       "<matplotlib.figure.Figure at 0x1187d0810>"
      ]
     },
     "metadata": {},
     "output_type": "display_data"
    }
   ],
   "source": [
    "plt.imshow(generate_translate(s0, s1, s))"
   ]
  },
  {
   "cell_type": "code",
   "execution_count": 153,
   "metadata": {},
   "outputs": [
    {
     "data": {
      "image/png": "[encoded data removed]",
      "text/plain": [
       "<matplotlib.figure.Figure at 0x119116c90>"
      ]
     },
     "metadata": {},
     "output_type": "display_data"
    },
    {
     "data": {
      "image/png": "[encoded data removed]",
      "text/plain": [
       "<matplotlib.figure.Figure at 0x1190cad90>"
      ]
     },
     "metadata": {},
     "output_type": "display_data"
    }
   ],
   "source": [
    "plt.imshow(s0)\n",
    "plt.show()\n",
    "plt.imshow(s1)\n",
    "plt.show()"
   ]
  },
  {
   "cell_type": "code",
   "execution_count": null,
   "metadata": {
    "collapsed": true
   },
   "outputs": [],
   "source": []
  }
 ],
 "metadata": {
  "kernelspec": {
   "display_name": "Python 2",
   "language": "python",
   "name": "python2"
  },
  "language_info": {
   "codemirror_mode": {
    "name": "ipython",
    "version": 2
   },
   "file_extension": ".py",
   "mimetype": "text/x-python",
   "name": "python",
   "nbconvert_exporter": "python",
   "pygments_lexer": "ipython2",
   "version": "2.7.12"
  }
 },
 "nbformat": 4,
 "nbformat_minor": 2
}
